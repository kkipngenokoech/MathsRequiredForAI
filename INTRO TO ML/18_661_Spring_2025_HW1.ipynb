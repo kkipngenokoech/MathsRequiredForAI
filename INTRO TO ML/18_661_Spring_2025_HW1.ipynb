{
 "cells": [
  {
   "cell_type": "markdown",
   "metadata": {},
   "source": [
    "### Import necessary libraries"
   ]
  },
  {
   "cell_type": "code",
   "execution_count": 1,
   "metadata": {},
   "outputs": [],
   "source": [
    "import numpy as np\n",
    "import matplotlib.pyplot as plt"
   ]
  },
  {
   "cell_type": "markdown",
   "metadata": {},
   "source": [
    "### ================================\n",
    "### Step 1: Generate Synthetic Data\n",
    "### ================================"
   ]
  },
  {
   "cell_type": "code",
   "execution_count": 2,
   "metadata": {},
   "outputs": [],
   "source": [
    "np.random.seed(42)\n",
    "N = 500  # Total data points\n",
    "d = 12   # Number of features\n",
    "train_ratio = 0.7\n",
    "val_ratio = 0.15\n",
    "\n",
    "# Generate feature matrix and true weights\n",
    "X = np.random.normal(0, 1, (N, d))\n",
    "true_weights = np.linspace(1, 5, d)  # Linearly spaced true weights\n",
    "epsilon = np.random.normal(0, 0.5, N)  # Noise\n",
    "y = X @ true_weights + epsilon  # Generate target values\n",
    "\n",
    "# Split data into train, validation, and test sets\n",
    "train_size = int(N * train_ratio)\n",
    "val_size = int(N * val_ratio)\n",
    "test_size = N - train_size - val_size\n",
    "\n",
    "X_train, X_val, X_test = X[:train_size], X[train_size:train_size+val_size], X[train_size+val_size:]\n",
    "y_train, y_val, y_test = y[:train_size], y[train_size:train_size+val_size], y[train_size+val_size:]"
   ]
  },
  {
   "cell_type": "markdown",
   "metadata": {},
   "source": [
    "### ================================\n",
    "### Step 2: Ridge Regression Functions\n",
    "### ================================"
   ]
  },
  {
   "cell_type": "code",
   "execution_count": null,
   "metadata": {},
   "outputs": [],
   "source": [
    "def ridge_loss(w, X, y, lam):\n",
    "    \"\"\"\n",
    "    Calculate the ridge regression loss.\n",
    "    w: Weights\n",
    "    X: Features\n",
    "    y: Target values\n",
    "    lam: Regularization parameter\n",
    "    \n",
    "    Returns: Ridge regression loss\n",
    "    \n",
    "    The equation for the ridge regression loss is: L(w) = ||y - Xw||^2 + λ||w||^2\n",
    "    \n",
    "    \"\"\"\n",
    "    residuals = y - X @ w\n",
    "    return np.sum(residuals**2) + lam * np.sum(w**2)\n",
    "\n",
    "def ridge_gradient(w, X, y, lam):\n",
    "    \"\"\"Calculate the gradient of the ridge regression loss.\"\"\"\n",
    "    residuals = y - X @ w\n",
    "    grad = -2 * X.T @ residuals + 2 * lam * w\n",
    "    return grad\n",
    "\n",
    "def gradient_descent(loss_fn, grad_fn, w_init, X, y, lam, lr=0.01, tol=1e-6, max_iters=1000):\n",
    "    \"\"\"Perform gradient descent to minimize the ridge regression loss.\"\"\"\n",
    "    w = w_init\n",
    "    for i in range(max_iters):\n",
    "        grad = grad_fn(w, X, y, lam)\n",
    "        w_new = w - lr * grad\n",
    "        if np.linalg.norm(w_new - w, ord=2) < tol:\n",
    "            break\n",
    "        w = w_new\n",
    "    return w"
   ]
  },
  {
   "cell_type": "markdown",
   "metadata": {},
   "source": [
    "### ================================\n",
    "### Step 3: Variance and Bias Calculation\n",
    "### ================================"
   ]
  },
  {
   "cell_type": "code",
   "execution_count": null,
   "metadata": {},
   "outputs": [],
   "source": [
    "def calculate_bias_variance(X_train, y_train, X_val, y_val, lambdas, num_datasets=20,\n",
    "                            sub_sample_size=50):\n",
    "    \"\"\"\n",
    "    Calculate the bias and variance for ridge regression models trained on multiple datasets.\n",
    "    \"\"\"\n",
    "    biases, variances = [], []\n",
    "    for lam in lambdas:\n",
    "        predictions = []\n",
    "        for _ in range(num_datasets):\n",
    "            # Sample with replacement\n",
    "            indices = np.random.choice(len(X_train), size=sub_sample_size, replace=True)\n",
    "            X_sample, y_sample = X_train[indices], y_train[indices]\n",
    "            \n",
    "            # Train ridge regression\n",
    "            w_init = np.zeros(d)\n",
    "            w = gradient_descent(ridge_loss, ridge_gradient, w_init, X_sample, y_sample, lam)\n",
    "            \n",
    "            # Predict on validation data\n",
    "            predictions.append(X_val @ w)\n",
    "        \n",
    "        # Average predictions\n",
    "        predictions = np.array(predictions)\n",
    "        mean_prediction = np.mean(predictions, axis=0)\n",
    "        bias = np.mean((mean_prediction - y_val)**2)\n",
    "        variance = np.mean(np.var(predictions, axis=0))\n",
    "        \n",
    "        biases.append(bias)\n",
    "        variances.append(variance)\n",
    "    \n",
    "    return biases, variances"
   ]
  },
  {
   "cell_type": "markdown",
   "metadata": {},
   "source": [
    "### ================================\n",
    "### Step 4: Plotting Functions\n",
    "### ================================"
   ]
  },
  {
   "cell_type": "code",
   "execution_count": null,
   "metadata": {},
   "outputs": [],
   "source": [
    "# Empty sections for students to complete\n",
    "def plot_coefficients_vs_lambda():\n",
    "    pass\n",
    "\n",
    "def plot_rmse_vs_lambda():\n",
    "    pass\n",
    "\n",
    "def plot_predicted_vs_true():\n",
    "    pass\n",
    "\n",
    "def plot_bias_variance_tradeoff():\n",
    "    pass"
   ]
  },
  {
   "cell_type": "markdown",
   "metadata": {},
   "source": [
    "### ================================\n",
    "### Step 5: Main Execution\n",
    "### ================================"
   ]
  },
  {
   "cell_type": "code",
   "execution_count": null,
   "metadata": {},
   "outputs": [],
   "source": [
    "# Please complete this field."
   ]
  },
  {
   "cell_type": "markdown",
   "metadata": {},
   "source": [
    "### ================================\n",
    "### Step 6: Plot Results\n",
    "### ================================"
   ]
  },
  {
   "cell_type": "code",
   "execution_count": null,
   "metadata": {},
   "outputs": [],
   "source": [
    "# Please complete this field."
   ]
  }
 ],
 "metadata": {
  "kernelspec": {
   "display_name": "EnvMaths",
   "language": "python",
   "name": "python3"
  },
  "language_info": {
   "codemirror_mode": {
    "name": "ipython",
    "version": 3
   },
   "file_extension": ".py",
   "mimetype": "text/x-python",
   "name": "python",
   "nbconvert_exporter": "python",
   "pygments_lexer": "ipython3",
   "version": "3.12.3"
  }
 },
 "nbformat": 4,
 "nbformat_minor": 2
}
