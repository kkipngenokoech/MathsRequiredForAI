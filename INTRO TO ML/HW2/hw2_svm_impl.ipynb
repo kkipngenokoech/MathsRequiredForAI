{
  "cells": [
    {
      "cell_type": "code",
      "execution_count": 1,
      "id": "f1612d37-752b-4c16-ac81-e0414b9da4df",
      "metadata": {
        "id": "f1612d37-752b-4c16-ac81-e0414b9da4df"
      },
      "outputs": [
        {
          "name": "stdout",
          "output_type": "stream",
          "text": [
            "Requirement already satisfied: ucimlrepo in /home/kip/projects/MathsRequiredForAI/EnvMaths/lib/python3.12/site-packages (0.0.7)\n",
            "Requirement already satisfied: pandas>=1.0.0 in /home/kip/projects/MathsRequiredForAI/EnvMaths/lib/python3.12/site-packages (from ucimlrepo) (2.2.3)\n",
            "Requirement already satisfied: certifi>=2020.12.5 in /home/kip/projects/MathsRequiredForAI/EnvMaths/lib/python3.12/site-packages (from ucimlrepo) (2024.8.30)\n",
            "Requirement already satisfied: numpy>=1.26.0 in /home/kip/projects/MathsRequiredForAI/EnvMaths/lib/python3.12/site-packages (from pandas>=1.0.0->ucimlrepo) (2.0.2)\n",
            "Requirement already satisfied: python-dateutil>=2.8.2 in /home/kip/projects/MathsRequiredForAI/EnvMaths/lib/python3.12/site-packages (from pandas>=1.0.0->ucimlrepo) (2.9.0.post0)\n",
            "Requirement already satisfied: pytz>=2020.1 in /home/kip/projects/MathsRequiredForAI/EnvMaths/lib/python3.12/site-packages (from pandas>=1.0.0->ucimlrepo) (2024.2)\n",
            "Requirement already satisfied: tzdata>=2022.7 in /home/kip/projects/MathsRequiredForAI/EnvMaths/lib/python3.12/site-packages (from pandas>=1.0.0->ucimlrepo) (2024.2)\n",
            "Requirement already satisfied: six>=1.5 in /home/kip/projects/MathsRequiredForAI/EnvMaths/lib/python3.12/site-packages (from python-dateutil>=2.8.2->pandas>=1.0.0->ucimlrepo) (1.16.0)\n"
          ]
        }
      ],
      "source": [
        "!pip install ucimlrepo"
      ]
    },
    {
      "cell_type": "code",
      "execution_count": 2,
      "id": "e7917f76-cc3d-452c-a491-adb508837250",
      "metadata": {
        "id": "e7917f76-cc3d-452c-a491-adb508837250"
      },
      "outputs": [],
      "source": [
        "from ucimlrepo import fetch_ucirepo\n",
        "import pandas as pd\n",
        "import numpy as np\n",
        "import cvxpy as cp\n",
        "from matplotlib import pyplot as plt"
      ]
    },
    {
      "cell_type": "code",
      "execution_count": 3,
      "id": "4f0246b0-c964-4538-9890-73f8b580b0b4",
      "metadata": {
        "id": "4f0246b0-c964-4538-9890-73f8b580b0b4",
        "tags": []
      },
      "outputs": [
        {
          "name": "stdout",
          "output_type": "stream",
          "text": [
            "Number of samples in all full dataset is: 303.\n",
            "Number of rows with missing values in features: 4\n",
            "Shapes: X_train: (216, 22), y_train: (216,), X_test: (83, 22), y_test: (83,)\n"
          ]
        }
      ],
      "source": [
        "# !! DO NOT MODIFY THIS CELL !!\n",
        "\n",
        "# Download and preprocess the dataset.\n",
        "# fetch dataset\n",
        "heart_disease = fetch_ucirepo(id=45)\n",
        "X = heart_disease.data.features\n",
        "# Convert categorical features into one-hot encode\n",
        "categorical_features = ['cp','thal','slope','restecg']\n",
        "X = pd.get_dummies(X, columns=categorical_features)\n",
        "\n",
        "y = heart_disease.data.targets\n",
        "print(f\"Number of samples in all full dataset is: {len(X)}.\")\n",
        "\n",
        "# Check if our train set has missing value\n",
        "na_in_features = X.isna().any(axis=1).sum()\n",
        "na_in_trainY = y.isna().sum()\n",
        "print(f\"Number of rows with missing values in features: {na_in_features}\")\n",
        "\n",
        "# Drop the rows with missing values.\n",
        "indices_with_nan = X.index[X.isna().any(axis=1)]\n",
        "X = X.drop(indices_with_nan)\n",
        "y = y.drop(indices_with_nan)\n",
        "\n",
        "# Divide train/test\n",
        "np.random.seed(6464)\n",
        "msk = np.random.rand(len(X)) < 0.75\n",
        "X_train = X[msk]\n",
        "X_test = X[~msk]\n",
        "y_train = y[msk]\n",
        "y_test = y[~msk]\n",
        "\n",
        "# Convert problem to binary problem\n",
        "X_train = np.array(X_train,dtype='float')\n",
        "X_test = np.array(X_test,dtype='float')\n",
        "y_train = np.array([-1 if i==0 else 1 for i in y_train.values],dtype='float')\n",
        "y_test = np.array([-1 if i==0 else 1 for i in y_test.values],dtype='float')\n",
        "\n",
        "print(f\"Shapes: X_train: {X_train.shape}, y_train: {y_train.shape}, X_test: {X_test.shape}, y_test: {y_test.shape}\")"
      ]
    },
    {
      "cell_type": "code",
      "execution_count": 4,
      "id": "475547d9-ed9f-4407-8655-47f65b82d3f1",
      "metadata": {
        "id": "475547d9-ed9f-4407-8655-47f65b82d3f1"
      },
      "outputs": [
        {
          "name": "stdout",
          "output_type": "stream",
          "text": [
            "Shapes: X_train: (216, 22), y_train: (216,), X_test: (83, 22), y_test: (83,)\n"
          ]
        }
      ],
      "source": [
        "# Normalize X_train and X_test using the statistics of X_train.\n",
        "# 1. Compute the mean and standard deviation for each feature in X_train\n",
        "# 2. Subtract the mean from each feature and divide by the standard deviation\n",
        "#    for both X_train and X_test.\n",
        "\n",
        "mean = np.mean(X_train,axis=0)\n",
        "std = np.std(X_train,axis=0)\n",
        "X_train_normalized = (X_train-mean)/std\n",
        "X_test_normalized = (X_test-mean)/std\n",
        "\n",
        "print(f\"Shapes: X_train: {X_train_normalized.shape}, y_train: {y_train.shape}, X_test: {X_test_normalized.shape}, y_test: {y_test.shape}\")"
      ]
    },
    {
      "cell_type": "code",
      "execution_count": 5,
      "id": "45356d23-c7c0-4708-9460-d1de5ec7dff8",
      "metadata": {
        "id": "45356d23-c7c0-4708-9460-d1de5ec7dff8"
      },
      "outputs": [
        {
          "name": "stdout",
          "output_type": "stream",
          "text": [
            "Mean of the first feature: 4.11193712824132e-17\n",
            "Standard deviation of the first feature: 0.9999999999999999\n",
            "Mean of the last feature: -5.756711979537848e-17\n",
            "Standard deviation of the last feature: 1.0\n"
          ]
        }
      ],
      "source": [
        "# Print the mean and standard deviation of the first and last feature.\n",
        "\n",
        "print(f\"Mean of the first feature: {np.mean(X_train_normalized[:, 0])}\")\n",
        "print(f\"Standard deviation of the first feature: {np.std(X_train_normalized[:, 0])}\")\n",
        "print(f\"Mean of the last feature: {np.mean(X_train_normalized[:, -1])}\")\n",
        "print(f\"Standard deviation of the last feature: {np.std(X_train_normalized[:, -1])}\")\n"
      ]
    },
    {
      "cell_type": "markdown",
      "id": "a85577aa",
      "metadata": {},
      "source": [
        "### Explanation of Normalization Using Training Data Statistics\n",
        "\n",
        "When normalizing both the training and test datasets, it is crucial to use the mean and standard deviation estimated from the training data. This approach ensures that the test data is treated as new, unseen data, which is essential for evaluating the model's performance in a real-world scenario.\n",
        "\n",
        "#### Reasons for Using Training Data Statistics:\n",
        "\n",
        "1. **Avoiding Data Leakage**:\n",
        "    - Using the test data to compute normalization statistics would introduce information from the test set into the training process, leading to data leakage. This would result in an overly optimistic estimate of the model's performance, as the model would have indirectly seen the test data during training.\n",
        "\n",
        "2. **Consistency**:\n",
        "    - The model is trained on data that is normalized using the training data statistics. To ensure consistency, the test data must be normalized using the same statistics. This way, the model's performance on the test data accurately reflects its ability to generalize to new, unseen data.\n",
        "\n",
        "3. **Real-World Scenario**:\n",
        "    - In a real-world scenario, the model will encounter new data that was not available during training. By normalizing the test data using the training data statistics, we simulate this scenario and obtain a realistic estimate of the model's performance.\n",
        "\n",
        "#### Process of Normalization:\n",
        "\n",
        "1. **Compute Mean and Standard Deviation**:\n",
        "    - Calculate the mean and standard deviation for each feature in the training data.\n",
        "\n",
        "2. **Normalize Training Data**:\n",
        "    - Subtract the mean and divide by the standard deviation for each feature in the training data.\n",
        "\n",
        "3. **Normalize Test Data**:\n",
        "    - Subtract the mean (computed from the training data) and divide by the standard deviation (computed from the training data) for each feature in the test data.\n",
        "\n",
        "By following this process, we ensure that the model's evaluation is fair and unbiased, providing an accurate measure of its performance on new, unseen data."
      ]
    },
    {
      "cell_type": "markdown",
      "id": "bc5cdd53",
      "metadata": {},
      "source": [
        "### TRAIN SVM\n",
        "\n"
      ]
    },
    {
      "cell_type": "code",
      "execution_count": 6,
      "id": "091df435-4481-48b0-a8b1-36af6fb2bd86",
      "metadata": {
        "id": "091df435-4481-48b0-a8b1-36af6fb2bd86"
      },
      "outputs": [],
      "source": [
        "# Train SVM\n",
        "\n",
        "# Complete the `trainSVM` function to find the optimal w and b that minimize\n",
        "# the primal SVM objective given in the write-up.\n",
        "# The function takes three inputs:\n",
        "# - trainX: the normalized train features with shape (#train_samples, #features)\n",
        "# - trainY: train labels with shape (#train_samples,)\n",
        "# - C: C parameter of the minimization problem\n",
        "# The function should return a three-tuple with:\n",
        "# - w: the weight vector with shape (#features,)\n",
        "# - b: the bias. A scalar with shape (1,)\n",
        "# - xi: the slack variables with shape (#train_samples,)\n",
        "\n",
        "# You can use cvxpy that we imported as cp\n",
        "# You may find cp.Variable, cp.Minimize, cp.Problem useful\n",
        "# For the problem solver, prefer the default, cp.CLARABEL\n",
        "\n",
        "def trainSVM(trainX, trainY, C):\n",
        "    w = cp.Variable(trainX.shape[1])\n",
        "    b = cp.Variable()\n",
        "    xi = cp.Variable(trainX.shape[0])\n",
        "    \n",
        "    objective = cp.Minimize(0.5*cp.norm(w,2)**2 + C*cp.sum(xi))\n",
        "    constraints = [cp.multiply(trainY,(trainX@w+b)) >= 1-xi, xi >= 0]\n",
        "    prob = cp.Problem(objective, constraints)\n",
        "    prob.solve()\n",
        "    return w.value, b.value, xi"
      ]
    },
    {
      "cell_type": "code",
      "execution_count": 7,
      "id": "b7a59a02-10de-4e86-85d5-02b6ee833d40",
      "metadata": {
        "id": "b7a59a02-10de-4e86-85d5-02b6ee833d40"
      },
      "outputs": [
        {
          "name": "stdout",
          "output_type": "stream",
          "text": [
            "First three weights: [-0.01280084  0.51706872  0.27813637]\n",
            "b: 0.08109278708401382\n",
            "First three slack variables: [-1.70119328e-10 -1.64395885e-10 -1.69587409e-10]\n"
          ]
        }
      ],
      "source": [
        "# Solve SVM with C = 1 and print the first three weights, b and the first\n",
        "# three slack variables as instructed in the write-up\n",
        "\n",
        "Y = y_train\n",
        "C = 1\n",
        "w, b, xi = trainSVM(X_train_normalized, Y, C)\n",
        "print(f\"First three weights: {w[:3]}\")\n",
        "print(f\"b: {b}\")\n",
        "print(f\"First three slack variables: {xi.value[:3]}\")\n"
      ]
    },
    {
      "cell_type": "code",
      "execution_count": 8,
      "id": "1da17d11-f98f-49c5-a5c6-0f96c7d09136",
      "metadata": {
        "id": "1da17d11-f98f-49c5-a5c6-0f96c7d09136"
      },
      "outputs": [
        {
          "name": "stdout",
          "output_type": "stream",
          "text": [
            "First three weights: [ 3.09523259e-06 -8.18802636e-06 -9.46615246e-06]\n",
            "b: -10.447621082517728\n",
            "Actual first three slack variables: [429.58840105 434.02071004 414.34670026]\n"
          ]
        }
      ],
      "source": [
        "# Solve SVM with C = 0 and print the first three weights, b and the first\n",
        "# three slack variables as instructed in the write-up\n",
        "\n",
        "C = 0\n",
        "w, b, xi = trainSVM(X_train_normalized, Y, C)\n",
        "print(f\"First three weights: {w[:3]}\")\n",
        "print(f\"b: {b}\")\n",
        "print(f\"Actual first three slack variables: {xi.value[:3]}\")"
      ]
    },
    {
      "cell_type": "markdown",
      "id": "225b7c7a",
      "metadata": {},
      "source": [
        "### Identification of the Difference Between the Slack Variables When C = 1 and C = 0\n",
        "\n",
        "When we solve the SVM with different values of C, the slack variables (ξ) change. The slack variables represent the degree to which each data point violates the margin. \n",
        "\n",
        "For C = 1:\n",
        "- The first three slack variables are: [-1.70119246e-10 -1.64395808e-10 -1.69587327e-10]\n",
        "\n",
        "For C = 0:\n",
        "- The first three slack variables are: [429.58840105 434.02071004 414.34670026]\n",
        "\n",
        "The slack variables (xi) will be larger when C = 0 compared to C = 1. This is because with a smaller C, the model has less penalty for misclassification, allowing more slack (larger xi) for violations of the margin. Introducing the C * Σ ξi term in the objective function allows the model to control the trade-off between having a wider margin and allowing some classification errors, making the model more flexible when C is large, and stricter with fewer misclassifications when C is small.\n",
        "\n",
        "The difference in the slack variables when C = 1 and C = 0 highlights the impact of the regularization parameter C on the SVM model. The term \\( C \\sum \\xi_i \\) in the Soft-SVM objective function controls the trade-off between maximizing the margin and minimizing the classification error. \n",
        "\n",
        "When C is large, the model places a higher penalty on misclassifications, resulting in smaller slack variables (ξ). Conversely, when C is small, the model allows more misclassifications, leading to larger slack variables. This trade-off is crucial for balancing the model's complexity and its ability to generalize to new data."
      ]
    },
    {
      "cell_type": "code",
      "execution_count": 9,
      "id": "b9dee83c-8926-4feb-808d-41f26e6451fd",
      "metadata": {
        "id": "b9dee83c-8926-4feb-808d-41f26e6451fd"
      },
      "outputs": [
        {
          "name": "stdout",
          "output_type": "stream",
          "text": [
            "Accuracy on the test set: 0.61\n"
          ]
        }
      ],
      "source": [
        "# Eval SVM\n",
        "\n",
        "# Write a function to evaluate the SVM model given its `w` and `b` parameters\n",
        "# on evaluation data `X_eval` and true labels `y_eval`.\n",
        "#  1. Estimate the labels of `X_eval`.\n",
        "#  2. Return the ratio of accurately estimated labels by comparing with `y_eval`.\n",
        "\n",
        "\n",
        "def evalSVM(X_eval, y_eval, w, b):\n",
        "    y_pred = np.sign(X_eval@w + b)\n",
        "    return np.mean(y_pred == y_eval)\n",
        "\n",
        "print(f\"Accuracy on the test set: {evalSVM(X_test_normalized, y_test, w, b):.2f}\")"
      ]
    },
    {
      "cell_type": "code",
      "execution_count": 18,
      "id": "b3d5401a",
      "metadata": {},
      "outputs": [
        {
          "data": {
            "image/png": "[encoded data removed]",
            "text/plain": [
              "<Figure size 1200x600 with 2 Axes>"
            ]
          },
          "metadata": {},
          "output_type": "display_data"
        },
        {
          "name": "stdout",
          "output_type": "stream",
          "text": [
            "The value of C that maximizes training accuracy is: 10\n",
            "The corresponding training accuracy is: 0.8888888888888888\n",
            "The value of C that maximizes test accuracy is: 0.003\n",
            "The corresponding test accuracy is: 0.8554216867469879\n"
          ]
        }
      ],
      "source": [
        "# Define the range of C values\n",
        "C_values = [a * 10**q for a in [1, 3, 6] for q in [-4, -3, -2, -1, 0, 1]]\n",
        "C_values = sorted(C_values)\n",
        "\n",
        "train_accuracies = []\n",
        "test_accuracies = []\n",
        "\n",
        "# Calculate the optimal w, b and accuracies for each C value\n",
        "for C in C_values:\n",
        "    w, b, _ = trainSVM(X_train_normalized, y_train, C)\n",
        "    train_acc = evalSVM(X_train_normalized, y_train, w, b)\n",
        "    test_acc = evalSVM(X_test_normalized, y_test, w, b)\n",
        "    train_accuracies.append(train_acc)\n",
        "    test_accuracies.append(test_acc)\n",
        "\n",
        "# Plot the training accuracy vs. the value of C\n",
        "plt.figure(figsize=(12, 6))\n",
        "plt.subplot(1, 2, 1)\n",
        "plt.plot(C_values, train_accuracies, label='Train Accuracy', color='red', linestyle='dashed', marker='o')\n",
        "plt.xscale('log')\n",
        "plt.xlabel('C')\n",
        "plt.ylabel('Accuracy')\n",
        "plt.title('Training Accuracy vs. C')\n",
        "plt.legend()\n",
        "\n",
        "# Plot the test accuracy vs. the value of C\n",
        "plt.subplot(1, 2, 2)\n",
        "plt.plot(C_values, test_accuracies, label='Test Accuracy', color='blue', linestyle='dashed', marker='s')\n",
        "plt.xscale('log')\n",
        "plt.xlabel('C')\n",
        "plt.ylabel('Accuracy')\n",
        "plt.title('Test Accuracy vs. C')\n",
        "plt.legend()\n",
        "\n",
        "plt.tight_layout()\n",
        "plt.show()\n",
        "\n",
        "# Report the values of C that maximize the training and test accuracies\n",
        "max_train_acc_index = np.argmax(train_accuracies)\n",
        "max_train_acc_C = C_values[max_train_acc_index]\n",
        "max_train_acc = train_accuracies[max_train_acc_index]\n",
        "\n",
        "max_test_acc_index = np.argmax(test_accuracies)\n",
        "max_test_acc_C = C_values[max_test_acc_index]\n",
        "max_test_acc = test_accuracies[max_test_acc_index]\n",
        "\n",
        "print(f\"The value of C that maximizes training accuracy is: {max_train_acc_C}\")\n",
        "print(f\"The corresponding training accuracy is: {max_train_acc}\")\n",
        "\n",
        "print(f\"The value of C that maximizes test accuracy is: {max_test_acc_C}\")\n",
        "print(f\"The corresponding test accuracy is: {max_test_acc}\")"
      ]
    }
  ],
  "metadata": {
    "colab": {
      "provenance": []
    },
    "kernelspec": {
      "display_name": "EnvMaths",
      "language": "python",
      "name": "python3"
    },
    "language_info": {
      "codemirror_mode": {
        "name": "ipython",
        "version": 3
      },
      "file_extension": ".py",
      "mimetype": "text/x-python",
      "name": "python",
      "nbconvert_exporter": "python",
      "pygments_lexer": "ipython3",
      "version": "3.12.3"
    }
  },
  "nbformat": 4,
  "nbformat_minor": 5
}
