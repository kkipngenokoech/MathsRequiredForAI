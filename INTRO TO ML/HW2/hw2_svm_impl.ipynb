{
  "cells": [
    {
      "cell_type": "code",
      "execution_count": null,
      "id": "f1612d37-752b-4c16-ac81-e0414b9da4df",
      "metadata": {
        "id": "f1612d37-752b-4c16-ac81-e0414b9da4df"
      },
      "outputs": [],
      "source": [
        "!pip install ucimlrepo"
      ]
    },
    {
      "cell_type": "code",
      "execution_count": null,
      "id": "e7917f76-cc3d-452c-a491-adb508837250",
      "metadata": {
        "id": "e7917f76-cc3d-452c-a491-adb508837250"
      },
      "outputs": [],
      "source": [
        "from ucimlrepo import fetch_ucirepo\n",
        "import pandas as pd\n",
        "import numpy as np\n",
        "import cvxpy as cp\n",
        "from matplotlib import pyplot as plt"
      ]
    },
    {
      "cell_type": "code",
      "execution_count": null,
      "id": "4f0246b0-c964-4538-9890-73f8b580b0b4",
      "metadata": {
        "tags": [],
        "id": "4f0246b0-c964-4538-9890-73f8b580b0b4"
      },
      "outputs": [],
      "source": [
        "# !! DO NOT MODIFY THIS CELL !!\n",
        "\n",
        "# Download and preprocess the dataset.\n",
        "# fetch dataset\n",
        "heart_disease = fetch_ucirepo(id=45)\n",
        "X = heart_disease.data.features\n",
        "# Convert categorical features into one-hot encode\n",
        "categorical_features = ['cp','thal','slope','restecg']\n",
        "X = pd.get_dummies(X, columns=categorical_features)\n",
        "\n",
        "y = heart_disease.data.targets\n",
        "print(f\"Number of samples in all full dataset is: {len(X)}.\")\n",
        "\n",
        "# Check if our train set has missing value\n",
        "na_in_features = X.isna().any(axis=1).sum()\n",
        "na_in_trainY = y.isna().sum()\n",
        "print(f\"Number of rows with missing values in features: {na_in_features}\")\n",
        "\n",
        "# Drop the rows with missing values.\n",
        "indices_with_nan = X.index[X.isna().any(axis=1)]\n",
        "X = X.drop(indices_with_nan)\n",
        "y = y.drop(indices_with_nan)\n",
        "\n",
        "# Divide train/test\n",
        "np.random.seed(6464)\n",
        "msk = np.random.rand(len(X)) < 0.75\n",
        "X_train = X[msk]\n",
        "X_test = X[~msk]\n",
        "y_train = y[msk]\n",
        "y_test = y[~msk]\n",
        "\n",
        "# Convert problem to binary problem\n",
        "X_train = np.array(X_train,dtype='float')\n",
        "X_test = np.array(X_test,dtype='float')\n",
        "y_train = np.array([-1 if i==0 else 1 for i in y_train.values],dtype='float')\n",
        "y_test = np.array([-1 if i==0 else 1 for i in y_test.values],dtype='float')\n",
        "\n",
        "print(f\"Shapes: X_train: {X_train.shape}, y_train: {y_train.shape}, X_test: {X_test.shape}, y_test: {y_test.shape}\")"
      ]
    },
    {
      "cell_type": "code",
      "execution_count": null,
      "id": "475547d9-ed9f-4407-8655-47f65b82d3f1",
      "metadata": {
        "id": "475547d9-ed9f-4407-8655-47f65b82d3f1"
      },
      "outputs": [],
      "source": [
        "# Normalize X_train and X_test using the statistics of X_train.\n",
        "# 1. Compute the mean and standard deviation for each feature in X_train\n",
        "# 2. Subtract the mean from each feature and divide by the standard deviation\n",
        "#    for both X_train and X_test.\n",
        "\n",
        "YOUR CODE HERE!"
      ]
    },
    {
      "cell_type": "code",
      "execution_count": null,
      "id": "45356d23-c7c0-4708-9460-d1de5ec7dff8",
      "metadata": {
        "id": "45356d23-c7c0-4708-9460-d1de5ec7dff8"
      },
      "outputs": [],
      "source": [
        "# Print the mean and standard deviation of the first and last feature.\n",
        "\n",
        "YOUR CODE HERE!"
      ]
    },
    {
      "cell_type": "code",
      "execution_count": null,
      "id": "091df435-4481-48b0-a8b1-36af6fb2bd86",
      "metadata": {
        "id": "091df435-4481-48b0-a8b1-36af6fb2bd86"
      },
      "outputs": [],
      "source": [
        "# Train SVM\n",
        "\n",
        "# Complete the `trainSVM` function to find the optimal w and b that minimize\n",
        "# the primal SVM objective given in the write-up.\n",
        "# The function takes three inputs:\n",
        "# - trainX: the normalized train features with shape (#train_samples, #features)\n",
        "# - trainY: train labels with shape (#train_samples,)\n",
        "# - C: C parameter of the minimization problem\n",
        "# The function should return a three-tuple with:\n",
        "# - w: the weight vector with shape (#features,)\n",
        "# - b: the bias. A scalar with shape (1,)\n",
        "# - xi: the slack variables with shape (#train_samples,)\n",
        "\n",
        "# You can use cvxpy that we imported as cp\n",
        "# You may find cp.Variable, cp.Minimize, cp.Problem useful\n",
        "# For the problem solver, prefer the default, cp.CLARABEL\n",
        "\n",
        "def trainSVM(trainX, trainY, C):\n",
        "\n",
        "    YOUR CODE HERE!"
      ]
    },
    {
      "cell_type": "code",
      "execution_count": null,
      "id": "b7a59a02-10de-4e86-85d5-02b6ee833d40",
      "metadata": {
        "id": "b7a59a02-10de-4e86-85d5-02b6ee833d40"
      },
      "outputs": [],
      "source": [
        "# Solve SVM with C = 1 and print the first three weights, b and the first\n",
        "# three slack variables as instructed in the write-up\n",
        "\n",
        "YOUR CODE HERE!"
      ]
    },
    {
      "cell_type": "code",
      "execution_count": null,
      "id": "1da17d11-f98f-49c5-a5c6-0f96c7d09136",
      "metadata": {
        "id": "1da17d11-f98f-49c5-a5c6-0f96c7d09136"
      },
      "outputs": [],
      "source": [
        "# Solve SVM with C = 0 and print the first three weights, b and the first\n",
        "# three slack variables as instructed in the write-up\n",
        "\n",
        "YOUR CODE HERE!"
      ]
    },
    {
      "cell_type": "code",
      "execution_count": null,
      "id": "b9dee83c-8926-4feb-808d-41f26e6451fd",
      "metadata": {
        "id": "b9dee83c-8926-4feb-808d-41f26e6451fd"
      },
      "outputs": [],
      "source": [
        "# Eval SVM\n",
        "\n",
        "# Write a function to evaluate the SVM model given its `w` and `b` parameters\n",
        "# on evaluation data `X_eval` and true labels `y_eval`.\n",
        "#  1. Estimate the labels of `X_eval`.\n",
        "#  2. Return the ratio of accurately estimated labels by comparing with `y_eval`.\n",
        "\n",
        "\n",
        "def evalSVM(X_eval, y_eval, w, b):\n",
        "\n",
        "    YOUR CODE HERE!"
      ]
    },
    {
      "cell_type": "code",
      "execution_count": null,
      "id": "f14d6219-3991-45a8-bf96-1072411ee8ed",
      "metadata": {
        "id": "f14d6219-3991-45a8-bf96-1072411ee8ed"
      },
      "outputs": [],
      "source": [
        "train_accuracies = []\n",
        "test_accuracies = []\n",
        "C_values = []\n",
        "\n",
        "# For each C value given in the homework, find optimal w, b\n",
        "# values using the normalized train set. calculate the accuracy\n",
        "# on train and test sets using found w and b.\n",
        "# Save those values as we will plot them\n",
        "\n",
        "YOUR CODE HERE!"
      ]
    },
    {
      "cell_type": "code",
      "execution_count": null,
      "id": "d4be2eda-5961-42d4-a999-c444110b3e19",
      "metadata": {
        "id": "d4be2eda-5961-42d4-a999-c444110b3e19"
      },
      "outputs": [],
      "source": [
        "# Plotting and reporting the desired values\n",
        "\n",
        "YOUR CODE HERE!"
      ]
    }
  ],
  "metadata": {
    "kernelspec": {
      "display_name": "Python 3 (ipykernel)",
      "language": "python",
      "name": "python3"
    },
    "language_info": {
      "codemirror_mode": {
        "name": "ipython",
        "version": 3
      },
      "file_extension": ".py",
      "mimetype": "text/x-python",
      "name": "python",
      "nbconvert_exporter": "python",
      "pygments_lexer": "ipython3",
      "version": "3.9.13"
    },
    "colab": {
      "provenance": []
    }
  },
  "nbformat": 4,
  "nbformat_minor": 5
}