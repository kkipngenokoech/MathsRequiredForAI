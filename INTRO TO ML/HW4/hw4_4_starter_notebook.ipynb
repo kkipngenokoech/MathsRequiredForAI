{
  "nbformat": 4,
  "nbformat_minor": 0,
  "metadata": {
    "colab": {
      "provenance": []
    },
    "kernelspec": {
      "name": "python3",
      "display_name": "Python 3"
    },
    "language_info": {
      "name": "python"
    }
  },
  "cells": [
    {
      "cell_type": "markdown",
      "source": [
        "\n",
        "# Clustering Human Activity using Inertial Sensors Data\n",
        "\n",
        "\n",
        "## Note:\n",
        "* Use the next cell to download the data directly, if that didn't work. you can download it manually (available at [UCI archive](https://archive.ics.uci.edu/dataset/240/human+activity+recognition+using+smartphones)) a copy will also be available on Piazza.\n",
        "\n",
        "* Don't change the part of the code that labels `#Do not change`\n",
        "\n",
        "* Attach this notebook to your answer sheet with all outputs visible.\n",
        "* make sure you have  `pytorch, scikit learn, pandas` in your environment\n"
      ],
      "metadata": {
        "id": "MkEVRnQL_okc"
      }
    },
    {
      "cell_type": "code",
      "source": [
        "\n",
        "#### Download the dataset\n",
        "\n",
        "import urllib.request\n",
        "import zipfile\n",
        "import os\n",
        "\n",
        "dataset_url = \"https://archive.ics.uci.edu/static/public/240/human+activity+recognition+using+smartphones.zip\"\n",
        "zip_file_path = \"Dataset.zip\"\n",
        "extracted_downloaded_folder = \"Dataset\"\n",
        "extracted_data_folder = \"UCI HAR Dataset\"\n",
        "\n",
        "if not os.path.exists(zip_file_path):\n",
        "    print(\"Downloading the dataset...\")\n",
        "    urllib.request.urlretrieve(dataset_url, zip_file_path)\n",
        "\n",
        "if not os.path.exists(extracted_downloaded_folder):\n",
        "    print(\"Extracting the dataset...\")\n",
        "    with zipfile.ZipFile(zip_file_path, 'r') as zip_ref:\n",
        "        zip_ref.extractall(\".\")\n",
        "\n",
        "if not os.path.exists(extracted_data_folder):\n",
        "    print(\"Extracting the dataset...\")\n",
        "    with zipfile.ZipFile(extracted_data_folder +'.zip', 'r') as zip_ref:\n",
        "        zip_ref.extractall(\".\")\n",
        "\n",
        "print(\"Dataset is ready.\")\n"
      ],
      "metadata": {
        "id": "sYKZSQlP-9ul"
      },
      "execution_count": null,
      "outputs": []
    },
    {
      "cell_type": "markdown",
      "source": [
        "### Load the data into a dataframe\n"
      ],
      "metadata": {
        "id": "9OOy4IBGCSqE"
      }
    },
    {
      "cell_type": "code",
      "source": [
        "# Import necessary libraries\n",
        "import pandas as pd\n",
        "import matplotlib.pyplot as plt\n",
        "\n",
        "# Define paths to data files\n",
        "train_path = None  # TODO\n",
        "test_path = None  # TODO\n",
        "activity_mapper_path = \"UCI HAR Dataset/activity_labels.txt\"\n",
        "\n",
        "\n",
        "# Load training and testing data\n",
        "X_train, y_train = None, None # TODO\n",
        "X_test, y_test =  None, None  # TODO\n",
        "\n",
        "\n",
        "\n",
        "# Display the first 5 rows of the training dataframe\n",
        "print(\"First 5 rows of training feature dataframe:\")\n",
        "X_train.head()  # DO NOT CHANGE\n"
      ],
      "metadata": {
        "id": "A3VhhMZzBIkf"
      },
      "execution_count": null,
      "outputs": []
    },
    {
      "cell_type": "markdown",
      "source": [
        "#### scaling the data and PCA"
      ],
      "metadata": {
        "id": "RuDT1Dp3MxZy"
      }
    },
    {
      "cell_type": "code",
      "source": [
        "# TODO: Scale X_train\n",
        "X_train_scaled = None  # TODO\n",
        "\n",
        "# TODO: Scale X_test\n",
        "X_test_scaled = None   # TODO\n",
        "\n",
        "# Convert scaled arrays back to DataFrames\n",
        "X_train = None   # TODO\n",
        "X_test = None  # TODO\n",
        "\n",
        "\n",
        "# Add 'Activity' column to create training_df and testing_df\n",
        "# TODO: Combine X_train and y_train into a single DataFrame named training_df.\n",
        "training_df =  None\n",
        "\n",
        "# TODO: Combine X_test and y_test into a single DataFrame named testing_df.\n",
        "testing_df = None\n",
        "\n",
        "\n",
        "\n",
        "# Display the first 5 rows of the training feature dataframe\n",
        "print(\"First 5 rows of training feature dataframe:\")\n",
        "training_df.head()  # DO NOT CHANGE"
      ],
      "metadata": {
        "id": "--HKm4E3M4j-"
      },
      "execution_count": null,
      "outputs": []
    },
    {
      "cell_type": "code",
      "source": [
        "# TODO perform PCA on the train data and get the first 2 PC\n",
        "pca =   # TODO\n",
        "X_train_pca = #TODO\n"
      ],
      "metadata": {
        "id": "tML3tU8gNY26"
      },
      "execution_count": null,
      "outputs": []
    },
    {
      "cell_type": "markdown",
      "source": [
        "#### Visualize the data"
      ],
      "metadata": {
        "id": "aKBgVB2AEP1p"
      }
    },
    {
      "cell_type": "code",
      "source": [
        "# Visualize training data using PCA\n",
        "\n",
        "\n",
        "# Use the featre decoder to create Acitivtiy Name column\n",
        "\n",
        "# Load activity labels\n",
        "activity_labels = pd.read_csv(activity_mapper_path, header=None, sep='\\s+', names=['id', 'activity_name'])\n",
        "\n",
        "# Create mapping dictionary {1: \"WALKING\", 2: \"WALKING_UPSTAIRS\", ...}\n",
        "activity_mapping = dict(zip(activity_labels['id'], activity_labels['activity_name']))\n",
        "\n",
        " # TODO use the mapping to decode the Activities labels\n",
        "Activity_Name = None  # TODO\n",
        "\n",
        "\n",
        "\n",
        "# TODO: Create a scatter plot using the X_train_pca and the Activity Names\n",
        "plt.figure(figsize=(8, 6))\n",
        "\n",
        "# TODO <--code below-->\n",
        "\n",
        "plt.show()\n",
        "\n"
      ],
      "metadata": {
        "id": "JTQeMp5xB980"
      },
      "execution_count": null,
      "outputs": []
    },
    {
      "cell_type": "markdown",
      "source": [
        "## Kmeans Clustering and The Optimal Number of Clusters"
      ],
      "metadata": {
        "id": "bNV43d6BR2br"
      }
    },
    {
      "cell_type": "markdown",
      "source": [
        "#### 1.  **Elbow Method**"
      ],
      "metadata": {
        "id": "qb_rm0XES8mm"
      }
    },
    {
      "cell_type": "code",
      "source": [
        "\n",
        "# Elbow Method\n",
        "distortion_values = []\n",
        "for k in range(2, 16):\n",
        "    # TODO <--code below-->\n",
        "\n",
        "\n",
        "\n",
        "# Plotting the Elbow Method\n",
        "plt.figure(figsize=(8, 3.5))\n",
        "# TODO <--code below-->\n",
        "plt.show()"
      ],
      "metadata": {
        "id": "NjLpIIu8PP-E"
      },
      "execution_count": null,
      "outputs": []
    },
    {
      "cell_type": "code",
      "source": [
        "# Choose k based on the elbow method\n",
        "elbow_k = None # TODO\n",
        "kmeans_elbow = KMeans(n_clusters=elbow_k, random_state=42, n_init=10)\n",
        "clusters_elbow = kmeans_elbow.fit_predict(X_train)\n",
        "\n",
        "# TODO: PCA for visualization\n",
        "pca =  None # TODO\n",
        "X_train_pca_elbow =  None # TODO\n",
        "\n",
        "# Plotting the clusters\n",
        "plt.figure(figsize=(8, 6))\n",
        "# TODO <--code below-->\n",
        "\n",
        "\n",
        "plt.show()\n",
        "\n"
      ],
      "metadata": {
        "id": "dElrEDkaWIIz"
      },
      "execution_count": null,
      "outputs": []
    },
    {
      "cell_type": "markdown",
      "source": [
        "\n",
        "#### 2.  Adjusted Rand Index (ARI)"
      ],
      "metadata": {
        "id": "ukW_gYEgTWUJ"
      }
    },
    {
      "cell_type": "code",
      "source": [
        "\n",
        "# 2. Adjusted Rand Index (ARI)\n",
        "ari_scores = []\n",
        "for k in range(2, 16):\n",
        "    # TODO <--code below-->\n",
        "\n",
        "\n",
        "# Plotting ARI Scores\n",
        "plt.figure(figsize=(8, 6))\n",
        "# TODO <--code below-->\n",
        "plt.show()\n",
        "\n"
      ],
      "metadata": {
        "id": "fUl8UutBTbo-"
      },
      "execution_count": null,
      "outputs": []
    },
    {
      "cell_type": "code",
      "source": [
        "\n",
        "# Choose k based on ARI\n",
        "best_ari_k = None # TODO\n",
        "kmeans_ari = KMeans(n_clusters=best_ari_k, random_state=42, n_init=10)\n",
        "clusters_ari = kmeans_ari.fit_predict(X_train)\n",
        "\n",
        "# PCA for visualization\n",
        "pca =  None # TODO\n",
        "X_train_pca_ari =  None # TODO\n",
        "\n",
        "\n",
        "# Plotting the clusters\n",
        "plt.figure(figsize=(8, 6))\n",
        "# TODO <--code below-->\n",
        "plt.show()\n",
        "\n"
      ],
      "metadata": {
        "id": "qe_Hc0XXYjL7"
      },
      "execution_count": null,
      "outputs": []
    },
    {
      "cell_type": "markdown",
      "source": [
        "## Prototype Selection using K-means Clustering."
      ],
      "metadata": {
        "id": "YJzD4M24VHje"
      }
    },
    {
      "cell_type": "markdown",
      "source": [
        "### 1. Random Selection"
      ],
      "metadata": {
        "id": "J3YE1_6dDweK"
      }
    },
    {
      "cell_type": "code",
      "source": [
        "\n",
        "import numpy as np\n",
        "import pandas as pd\n",
        "from sklearn.linear_model import LogisticRegression\n",
        "from sklearn.metrics import accuracy_score\n",
        "\n",
        "def random_prototype_selection(X, y, n_samples):\n",
        "    \"\"\"\n",
        "    Selects a random subset from the data. train a logistic regression model\n",
        "    on the selected data.\n",
        "\n",
        "    Args:\n",
        "        X (pd.DataFrame): The input features.\n",
        "        y (pd.Series): The target labels.\n",
        "        n_samples(int): The number of samples to select from each class.\n",
        "\n",
        "    Returns:\n",
        "        tuple: A tuple containing the selected features (X_selected) and labels (y_selected).\n",
        "    \"\"\"\n",
        "\n",
        "\n",
        "    # TODO <--code below-->\n",
        "\n",
        "\n",
        "    return NotImplemented\n",
        "\n",
        "\n",
        "n_repetitions = 10\n",
        "accuracies = []\n",
        "n_samples = 120\n",
        "\n",
        "# TODO caculate the accracy for the randomly selected prototype for 10 expermenteds\n",
        "# TODO <--code below-->\n",
        "\n",
        "average_accuracy = np.mean(accuracies)\n",
        "print(f\"Average Accuracy with Random Selection over {n_repetitions} repetitions: {average_accuracy:.4f}\")\n"
      ],
      "metadata": {
        "id": "xgWv8KjA_biY"
      },
      "execution_count": null,
      "outputs": []
    },
    {
      "cell_type": "markdown",
      "source": [
        "### 2. K-means Clustering by Class\n"
      ],
      "metadata": {
        "id": "MNG-xrNaD02I"
      }
    },
    {
      "cell_type": "code",
      "source": [
        "\n",
        "# 2. K-means Clustering by Class\n",
        "def kmeans_prototype_selection(X, y, n_prototypes_per_class):\n",
        "    \"\"\"\n",
        "    Selects prototypes using K-means clustering for each class.\n",
        "\n",
        "    Args:\n",
        "        X (pd.DataFrame): The input features.\n",
        "        y (pd.Series): The target labels.\n",
        "        n_prototypes_per_class (int): The number of prototypes to select from each class.\n",
        "\n",
        "    Returns:\n",
        "        pd.DataFrame: The selected prototypes.\n",
        "        pd.Series: The selected labels.\n",
        "    \"\"\"\n",
        "\n",
        "    #Initialize lists to store selected prototypes and labels\n",
        "    X_selected = []  # List to store selected feature subsets for each class\n",
        "    y_selected = []  # List to store selected labels for each class\n",
        "\n",
        "\n",
        "    # TODO:\n",
        "      # Step 1: Iterate over each unique class label in the target labels\n",
        "      # Step 2: for each class cluster its points using k = n_prototypes_per_class\n",
        "      # Step 3: Find the closest points to each centroid\n",
        "    # TODO <--code below-->\n",
        "\n",
        "    return NotImplemented\n",
        "\n",
        "\n",
        "\n",
        "# Select prototypes using K-means\n",
        "X_train_selected_kmeans, y_train_selected_kmeans = kmeans_prototype_selection(X_train, y_train['Activity'], 20)\n",
        "\n",
        "# Train Logistic Regression model\n",
        "logistic_regression_kmeans = LogisticRegression(random_state=42, max_iter=1000)\n",
        "logistic_regression_kmeans.fit(X_train_selected_kmeans, y_train_selected_kmeans)\n",
        "\n",
        "# Make predictions and calculate accuracy\n",
        "y_pred_kmeans = logistic_regression_kmeans.predict(X_test)\n",
        "accuracy_kmeans = accuracy_score(y_test, y_pred_kmeans)\n",
        "print(f\"Accuracy with K-means Selection: {accuracy_kmeans:.4f}\")\n",
        "\n"
      ],
      "metadata": {
        "id": "iwsOQCcBDtSl"
      },
      "execution_count": null,
      "outputs": []
    },
    {
      "cell_type": "markdown",
      "source": [
        "## Autoencoder for Features Learning.\n"
      ],
      "metadata": {
        "id": "H0T-GQWjEt-q"
      }
    },
    {
      "cell_type": "markdown",
      "source": [
        "####1.  Data Preparation:"
      ],
      "metadata": {
        "id": "LH0H3NGdEyq_"
      }
    },
    {
      "cell_type": "code",
      "source": [
        "import glob\n",
        "import numpy as np\n",
        "\n",
        "# Load data with proper tensor formatting\n",
        "def load_inertial_data(path):\n",
        "    files = glob.glob(path)\n",
        "    data_dict = {}\n",
        "    for f in files:\n",
        "        name = f.split('/')[-1][:-4]\n",
        "        # Read as numpy array and convert to float32\n",
        "        data_dict[name] = pd.read_csv(f, sep='\\s+', header=None).values.astype(np.float32)\n",
        "    return data_dict\n",
        "\n",
        "# Load training data\n",
        "train_data = load_inertial_data(\"/content/UCI HAR Dataset/train/Inertial Signals/*.txt\")\n",
        "train_labels = pd.read_csv(\"/content/UCI HAR Dataset/train/y_train.txt\", header=None)[0].values\n",
        "\n",
        "# Load Test data\n",
        "test_data = load_inertial_data(\"/content/UCI HAR Dataset/test/Inertial Signals/*.txt\")\n",
        "test_labels = pd.read_csv(\"/content/UCI HAR Dataset/test/y_test.txt\", header=None)[0].values\n",
        "\n",
        "\n",
        "print(f\"Train Data Dictionary keys: {list(train_data.keys())}\")\n",
        "print(f\"For each sensor the Data shape: {train_data['body_acc_x_train'].shape}\")"
      ],
      "metadata": {
        "id": "CyZ9Thi-IFBE"
      },
      "execution_count": null,
      "outputs": []
    },
    {
      "cell_type": "code",
      "source": [
        "# Create PyTorch Dataset\n",
        "class SensorsDataset(Dataset):\n",
        "    def __init__(self, data_dict, labels):\n",
        "        # Stack all signals along the feature dimension  Shape: (num_samples, 128, num_features)\n",
        "        self.data = # TODO\n",
        "        self.labels =  #TODO\n",
        "\n",
        "    def __len__(self):\n",
        "        return len(self.data)\n",
        "\n",
        "    def __getitem__(self, idx):\n",
        "        return self.data[idx], self.labels[idx]\n",
        "\n",
        "# Create dataset and dataloader\n",
        "train_dataset = SensorsDataset(train_data, train_labels)\n",
        "train_loader = # TODO: create pytorch dataloader with Batch sie 32, and shuffle\n",
        "\n",
        "# Verify shapes\n",
        "sample, label = next(iter(train_loader))\n",
        "print(f\"Input shape: {sample.shape}\")  # Should be (batch_size, 128, 9)\n",
        "print(f\"Label shape: {label.shape}\")   # Should be (batch_size)\n"
      ],
      "metadata": {
        "id": "KqJ8FU2kIzJS"
      },
      "execution_count": null,
      "outputs": []
    },
    {
      "cell_type": "markdown",
      "source": [
        "\n",
        "#### 2. Autoencoder Implementation"
      ],
      "metadata": {
        "id": "6mk8CqlaFMNd"
      }
    },
    {
      "cell_type": "code",
      "source": [
        "\n",
        "# 2. Autoencoder Implementation\n",
        "class TimeSeriesAE(nn.Module):\n",
        "    def __init__(self, input_size=9, hidden_size = 64, encoding_dim=64):\n",
        "        super().__init__()\n",
        "        # Encoder\n",
        "        self.encoder = # TODO: bidirectional GRU with proper hidden layer size\n",
        "        self.enc_fc = # TODO: fully connected layer for the encoder (output encoder_dim)\n",
        "\n",
        "        # Decoder\n",
        "        self.dec_fc = # TODO: fully connected layer for the decoder\n",
        "        self.decoder =  # TODO: bidirectional GRU with proper input and hidden layer size\n",
        "        self.output_layer = torch.nn.Linear(hidden_size * 2, input_size) # fully connected layer for the output ( ouput is the input size)\n",
        "        # note The input is is hidden_size*2 for bidirectional\n",
        "\n",
        "    def forward(self, x):\n",
        "        # Encoding\n",
        "        _, hidden = self.encoder(x)\n",
        "        hidden = torch.cat([hidden[-2], hidden[-1]], dim=1)  # Combine bidirectional\n",
        "        encoded = self.enc_fc(hidden)\n",
        "\n",
        "        # Decoding\n",
        "        decoded = self.dec_fc(encoded).unsqueeze(1).repeat(1, x.size(1), 1)\n",
        "        out, _ = self.decoder(decoded)\n",
        "        reconstructed = self.output_layer(out)\n",
        "\n",
        "        return reconstructed, encoded\n",
        "\n",
        "\n",
        "\n",
        "# Instantiate the model\n",
        "input_size = 9  # Number of features\n",
        "hidden_size = 64\n",
        "\n",
        "model = TimeSeriesAE(input_size)\n",
        "\n",
        "# Define loss function and optimizer\n",
        "criterion = # TODO\n",
        "optimizer = # TODO\n",
        "\n",
        "# TODO: Train loop for the autoencoder\n",
        "num_epochs = 10\n",
        "for epoch in range(num_epochs):\n",
        "    model.train()\n",
        "    total_loss = 0\n",
        "    for batch_X, _ in train_loader:\n",
        "        # TODO <--code below-->\n",
        "\n",
        "\n",
        "    print(f\"Epoch {epoch+1}/{num_epochs}, Loss: {total_loss/len(train_loader):.4f}\")\n",
        "\n",
        "\n",
        "\n",
        "\n",
        "# Plotting the accuracy vs epcoh\n",
        "plt.figure(figsize=(8, 6))\n",
        "# TODO <--code below-->\n",
        "plt.show()"
      ],
      "metadata": {
        "id": "oxJqiQ9_FKZe"
      },
      "execution_count": null,
      "outputs": []
    },
    {
      "cell_type": "code",
      "source": [
        "# 3. Embedding Extraction and Visualization\n",
        "\n",
        "\n",
        "ae_loader = DataLoader(train_dataset, batch_size=32, shuffle=False)\n",
        "\n",
        "# Extract embeddings for the training data\n",
        "model.eval()\n",
        "embeddings = []\n",
        "train_labels = []\n",
        "with torch.no_grad():\n",
        "    for batch_X ,_ in ae_loader:\n",
        "      # TODO <--code below-->\n",
        "\n",
        "\n",
        "\n",
        "embeddings = np.concatenate(embeddings, axis=0)\n",
        "\n",
        "# Create a scatter plot of the 2D embeddings\n",
        "plt.figure(figsize=(8, 6))\n",
        "activities = np.unique(y_train)\n",
        "plt.scatter(embeddings[:, 0], embeddings[:, 1], c=y_train.values, cmap='viridis', alpha=0.6)\n",
        "plt.colorbar(label='Activity Class')\n",
        "plt.title('Autoencoder Embeddings')\n",
        "plt.show()\n"
      ],
      "metadata": {
        "id": "wEjqTkpxFU8Y"
      },
      "execution_count": null,
      "outputs": []
    },
    {
      "cell_type": "code",
      "source": [
        "\n",
        "# Adjusted Rand Index (ARI) for the embeddings\n",
        "\n",
        "ari_scores = []\n",
        "for k in range(2, 16):\n",
        "    # TODO <--code below-->\n",
        "\n",
        "\n",
        "# Plotting ARI Scores\n",
        "plt.figure(figsize=(8, 6))\n",
        "# TODO <--code below-->\n",
        "plt.show()\n",
        "\n"
      ],
      "metadata": {
        "id": "iOEMeRMUUrXH"
      },
      "execution_count": null,
      "outputs": []
    },
    {
      "cell_type": "code",
      "source": [
        "\n",
        "# Choose k based on ARI\n",
        "best_embedd_ari_k = None # TODO\n",
        "kmeans_ari = KMeans(n_clusters=best_embedd_ari_k, random_state=42, n_init=10)\n",
        "clusters_ari = kmeans_ari.fit_predict(X_train)\n",
        "\n",
        "# PCA for visualization\n",
        "pca =  None # TODO\n",
        "X_train_pca_ari =  None # TODO\n",
        "\n",
        "\n",
        "# Plotting the clusters\n",
        "plt.figure(figsize=(8, 6))\n",
        "# TODO <--code below-->\n",
        "plt.show()\n",
        "\n",
        "\n"
      ],
      "metadata": {
        "id": "fZDgW-anYovG"
      },
      "execution_count": null,
      "outputs": []
    }
  ]
}