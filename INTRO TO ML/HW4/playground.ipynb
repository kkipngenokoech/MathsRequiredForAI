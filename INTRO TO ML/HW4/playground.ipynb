{
 "cells": [
  {
   "cell_type": "code",
   "execution_count": 1,
   "id": "a0b64b7f",
   "metadata": {},
   "outputs": [
    {
     "name": "stdout",
     "output_type": "stream",
     "text": [
      "Eigenvalues: [9.00000000e+00 1.00000000e+00 2.90472595e-16]\n",
      "Eigenvectors: [[-4.08248290e-01 -7.07106781e-01 -5.77350269e-01]\n",
      " [-4.08248290e-01  7.07106781e-01 -5.77350269e-01]\n",
      " [-8.16496581e-01 -1.10693380e-16  5.77350269e-01]]\n"
     ]
    }
   ],
   "source": [
    "import numpy as np\n",
    "C_X = np.array([[2, 1, 3], [1, 2, 3], [3, 3, 6]])\n",
    "eigenvalues, eigenvectors = np.linalg.eig(C_X)\n",
    "print(\"Eigenvalues:\", eigenvalues)\n",
    "print(\"Eigenvectors:\", eigenvectors)"
   ]
  },
  {
   "cell_type": "code",
   "execution_count": null,
   "id": "30652d06",
   "metadata": {},
   "outputs": [],
   "source": []
  }
 ],
 "metadata": {
  "kernelspec": {
   "display_name": "EnvMaths",
   "language": "python",
   "name": "python3"
  },
  "language_info": {
   "codemirror_mode": {
    "name": "ipython",
    "version": 3
   },
   "file_extension": ".py",
   "mimetype": "text/x-python",
   "name": "python",
   "nbconvert_exporter": "python",
   "pygments_lexer": "ipython3",
   "version": "3.12.3"
  }
 },
 "nbformat": 4,
 "nbformat_minor": 5
}
