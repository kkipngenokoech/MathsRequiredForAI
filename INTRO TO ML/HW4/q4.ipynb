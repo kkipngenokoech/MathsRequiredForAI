{
  "cells": [
    {
      "cell_type": "markdown",
      "metadata": {
        "id": "MkEVRnQL_okc"
      },
      "source": [
        "\n",
        "# Clustering Human Activity using Inertial Sensors Data\n",
        "\n",
        "\n",
        "## Note:\n",
        "* Use the next cell to download the data directly, if that didn't work. you can download it manually (available at [UCI archive](https://archive.ics.uci.edu/dataset/240/human+activity+recognition+using+smartphones)) a copy will also be available on Piazza.\n",
        "\n",
        "* Don't change the part of the code that labels `#Do not change`\n",
        "\n",
        "* Attach this notebook to your answer sheet with all outputs visible.\n",
        "* make sure you have  `pytorch, scikit learn, pandas` in your environment\n"
      ]
    },
    {
      "cell_type": "code",
      "execution_count": 1,
      "metadata": {
        "id": "sYKZSQlP-9ul"
      },
      "outputs": [
        {
          "name": "stdout",
          "output_type": "stream",
          "text": [
            "Downloading the dataset...\n",
            "Extracting the dataset...\n",
            "Extracting the dataset...\n",
            "Dataset is ready.\n"
          ]
        }
      ],
      "source": [
        "\n",
        "#### Download the dataset\n",
        "\n",
        "import urllib.request\n",
        "import zipfile\n",
        "import os\n",
        "\n",
        "dataset_url = \"https://archive.ics.uci.edu/static/public/240/human+activity+recognition+using+smartphones.zip\"\n",
        "zip_file_path = \"Dataset.zip\"\n",
        "extracted_downloaded_folder = \"Dataset\"\n",
        "extracted_data_folder = \"UCI HAR Dataset\"\n",
        "\n",
        "if not os.path.exists(zip_file_path):\n",
        "    print(\"Downloading the dataset...\")\n",
        "    urllib.request.urlretrieve(dataset_url, zip_file_path)\n",
        "\n",
        "if not os.path.exists(extracted_downloaded_folder):\n",
        "    print(\"Extracting the dataset...\")\n",
        "    with zipfile.ZipFile(zip_file_path, 'r') as zip_ref:\n",
        "        zip_ref.extractall(\".\")\n",
        "\n",
        "if not os.path.exists(extracted_data_folder):\n",
        "    print(\"Extracting the dataset...\")\n",
        "    with zipfile.ZipFile(extracted_data_folder +'.zip', 'r') as zip_ref:\n",
        "        zip_ref.extractall(\".\")\n",
        "\n",
        "print(\"Dataset is ready.\")\n"
      ]
    },
    {
      "cell_type": "markdown",
      "metadata": {
        "id": "9OOy4IBGCSqE"
      },
      "source": [
        "### Load the data into a dataframe\n"
      ]
    },
    {
      "cell_type": "code",
      "execution_count": 3,
      "metadata": {
        "id": "A3VhhMZzBIkf"
      },
      "outputs": [
        {
          "name": "stderr",
          "output_type": "stream",
          "text": [
            "/tmp/ipykernel_133432/2084518400.py:12: FutureWarning: The 'delim_whitespace' keyword in pd.read_csv is deprecated and will be removed in a future version. Use ``sep='\\s+'`` instead\n",
            "  X_train, y_train  = pd.read_csv(train_path + \"X_train.txt\", delim_whitespace=True, header=None), pd.read_csv(train_path + \"y_train.txt\", delim_whitespace=True, header=None)\n",
            "/tmp/ipykernel_133432/2084518400.py:12: FutureWarning: The 'delim_whitespace' keyword in pd.read_csv is deprecated and will be removed in a future version. Use ``sep='\\s+'`` instead\n",
            "  X_train, y_train  = pd.read_csv(train_path + \"X_train.txt\", delim_whitespace=True, header=None), pd.read_csv(train_path + \"y_train.txt\", delim_whitespace=True, header=None)\n",
            "/tmp/ipykernel_133432/2084518400.py:13: FutureWarning: The 'delim_whitespace' keyword in pd.read_csv is deprecated and will be removed in a future version. Use ``sep='\\s+'`` instead\n",
            "  X_test, y_test  = pd.read_csv(test_path + \"X_test.txt\", delim_whitespace=True, header=None), pd.read_csv(test_path + \"y_test.txt\", delim_whitespace=True, header=None)\n"
          ]
        },
        {
          "name": "stdout",
          "output_type": "stream",
          "text": [
            "First 5 rows of training feature dataframe:\n"
          ]
        },
        {
          "name": "stderr",
          "output_type": "stream",
          "text": [
            "/tmp/ipykernel_133432/2084518400.py:13: FutureWarning: The 'delim_whitespace' keyword in pd.read_csv is deprecated and will be removed in a future version. Use ``sep='\\s+'`` instead\n",
            "  X_test, y_test  = pd.read_csv(test_path + \"X_test.txt\", delim_whitespace=True, header=None), pd.read_csv(test_path + \"y_test.txt\", delim_whitespace=True, header=None)\n"
          ]
        },
        {
          "data": {
            "text/html": [
              "<div>\n",
              "<style scoped>\n",
              "    .dataframe tbody tr th:only-of-type {\n",
              "        vertical-align: middle;\n",
              "    }\n",
              "\n",
              "    .dataframe tbody tr th {\n",
              "        vertical-align: top;\n",
              "    }\n",
              "\n",
              "    .dataframe thead th {\n",
              "        text-align: right;\n",
              "    }\n",
              "</style>\n",
              "<table border=\"1\" class=\"dataframe\">\n",
              "  <thead>\n",
              "    <tr style=\"text-align: right;\">\n",
              "      <th></th>\n",
              "      <th>0</th>\n",
              "      <th>1</th>\n",
              "      <th>2</th>\n",
              "      <th>3</th>\n",
              "      <th>4</th>\n",
              "      <th>5</th>\n",
              "      <th>6</th>\n",
              "      <th>7</th>\n",
              "      <th>8</th>\n",
              "      <th>9</th>\n",
              "      <th>...</th>\n",
              "      <th>551</th>\n",
              "      <th>552</th>\n",
              "      <th>553</th>\n",
              "      <th>554</th>\n",
              "      <th>555</th>\n",
              "      <th>556</th>\n",
              "      <th>557</th>\n",
              "      <th>558</th>\n",
              "      <th>559</th>\n",
              "      <th>560</th>\n",
              "    </tr>\n",
              "  </thead>\n",
              "  <tbody>\n",
              "    <tr>\n",
              "      <th>0</th>\n",
              "      <td>0.288585</td>\n",
              "      <td>-0.020294</td>\n",
              "      <td>-0.132905</td>\n",
              "      <td>-0.995279</td>\n",
              "      <td>-0.983111</td>\n",
              "      <td>-0.913526</td>\n",
              "      <td>-0.995112</td>\n",
              "      <td>-0.983185</td>\n",
              "      <td>-0.923527</td>\n",
              "      <td>-0.934724</td>\n",
              "      <td>...</td>\n",
              "      <td>-0.074323</td>\n",
              "      <td>-0.298676</td>\n",
              "      <td>-0.710304</td>\n",
              "      <td>-0.112754</td>\n",
              "      <td>0.030400</td>\n",
              "      <td>-0.464761</td>\n",
              "      <td>-0.018446</td>\n",
              "      <td>-0.841247</td>\n",
              "      <td>0.179941</td>\n",
              "      <td>-0.058627</td>\n",
              "    </tr>\n",
              "    <tr>\n",
              "      <th>1</th>\n",
              "      <td>0.278419</td>\n",
              "      <td>-0.016411</td>\n",
              "      <td>-0.123520</td>\n",
              "      <td>-0.998245</td>\n",
              "      <td>-0.975300</td>\n",
              "      <td>-0.960322</td>\n",
              "      <td>-0.998807</td>\n",
              "      <td>-0.974914</td>\n",
              "      <td>-0.957686</td>\n",
              "      <td>-0.943068</td>\n",
              "      <td>...</td>\n",
              "      <td>0.158075</td>\n",
              "      <td>-0.595051</td>\n",
              "      <td>-0.861499</td>\n",
              "      <td>0.053477</td>\n",
              "      <td>-0.007435</td>\n",
              "      <td>-0.732626</td>\n",
              "      <td>0.703511</td>\n",
              "      <td>-0.844788</td>\n",
              "      <td>0.180289</td>\n",
              "      <td>-0.054317</td>\n",
              "    </tr>\n",
              "    <tr>\n",
              "      <th>2</th>\n",
              "      <td>0.279653</td>\n",
              "      <td>-0.019467</td>\n",
              "      <td>-0.113462</td>\n",
              "      <td>-0.995380</td>\n",
              "      <td>-0.967187</td>\n",
              "      <td>-0.978944</td>\n",
              "      <td>-0.996520</td>\n",
              "      <td>-0.963668</td>\n",
              "      <td>-0.977469</td>\n",
              "      <td>-0.938692</td>\n",
              "      <td>...</td>\n",
              "      <td>0.414503</td>\n",
              "      <td>-0.390748</td>\n",
              "      <td>-0.760104</td>\n",
              "      <td>-0.118559</td>\n",
              "      <td>0.177899</td>\n",
              "      <td>0.100699</td>\n",
              "      <td>0.808529</td>\n",
              "      <td>-0.848933</td>\n",
              "      <td>0.180637</td>\n",
              "      <td>-0.049118</td>\n",
              "    </tr>\n",
              "    <tr>\n",
              "      <th>3</th>\n",
              "      <td>0.279174</td>\n",
              "      <td>-0.026201</td>\n",
              "      <td>-0.123283</td>\n",
              "      <td>-0.996091</td>\n",
              "      <td>-0.983403</td>\n",
              "      <td>-0.990675</td>\n",
              "      <td>-0.997099</td>\n",
              "      <td>-0.982750</td>\n",
              "      <td>-0.989302</td>\n",
              "      <td>-0.938692</td>\n",
              "      <td>...</td>\n",
              "      <td>0.404573</td>\n",
              "      <td>-0.117290</td>\n",
              "      <td>-0.482845</td>\n",
              "      <td>-0.036788</td>\n",
              "      <td>-0.012892</td>\n",
              "      <td>0.640011</td>\n",
              "      <td>-0.485366</td>\n",
              "      <td>-0.848649</td>\n",
              "      <td>0.181935</td>\n",
              "      <td>-0.047663</td>\n",
              "    </tr>\n",
              "    <tr>\n",
              "      <th>4</th>\n",
              "      <td>0.276629</td>\n",
              "      <td>-0.016570</td>\n",
              "      <td>-0.115362</td>\n",
              "      <td>-0.998139</td>\n",
              "      <td>-0.980817</td>\n",
              "      <td>-0.990482</td>\n",
              "      <td>-0.998321</td>\n",
              "      <td>-0.979672</td>\n",
              "      <td>-0.990441</td>\n",
              "      <td>-0.942469</td>\n",
              "      <td>...</td>\n",
              "      <td>0.087753</td>\n",
              "      <td>-0.351471</td>\n",
              "      <td>-0.699205</td>\n",
              "      <td>0.123320</td>\n",
              "      <td>0.122542</td>\n",
              "      <td>0.693578</td>\n",
              "      <td>-0.615971</td>\n",
              "      <td>-0.847865</td>\n",
              "      <td>0.185151</td>\n",
              "      <td>-0.043892</td>\n",
              "    </tr>\n",
              "  </tbody>\n",
              "</table>\n",
              "<p>5 rows × 561 columns</p>\n",
              "</div>"
            ],
            "text/plain": [
              "        0         1         2         3         4         5         6    \\\n",
              "0  0.288585 -0.020294 -0.132905 -0.995279 -0.983111 -0.913526 -0.995112   \n",
              "1  0.278419 -0.016411 -0.123520 -0.998245 -0.975300 -0.960322 -0.998807   \n",
              "2  0.279653 -0.019467 -0.113462 -0.995380 -0.967187 -0.978944 -0.996520   \n",
              "3  0.279174 -0.026201 -0.123283 -0.996091 -0.983403 -0.990675 -0.997099   \n",
              "4  0.276629 -0.016570 -0.115362 -0.998139 -0.980817 -0.990482 -0.998321   \n",
              "\n",
              "        7         8         9    ...       551       552       553       554  \\\n",
              "0 -0.983185 -0.923527 -0.934724  ... -0.074323 -0.298676 -0.710304 -0.112754   \n",
              "1 -0.974914 -0.957686 -0.943068  ...  0.158075 -0.595051 -0.861499  0.053477   \n",
              "2 -0.963668 -0.977469 -0.938692  ...  0.414503 -0.390748 -0.760104 -0.118559   \n",
              "3 -0.982750 -0.989302 -0.938692  ...  0.404573 -0.117290 -0.482845 -0.036788   \n",
              "4 -0.979672 -0.990441 -0.942469  ...  0.087753 -0.351471 -0.699205  0.123320   \n",
              "\n",
              "        555       556       557       558       559       560  \n",
              "0  0.030400 -0.464761 -0.018446 -0.841247  0.179941 -0.058627  \n",
              "1 -0.007435 -0.732626  0.703511 -0.844788  0.180289 -0.054317  \n",
              "2  0.177899  0.100699  0.808529 -0.848933  0.180637 -0.049118  \n",
              "3 -0.012892  0.640011 -0.485366 -0.848649  0.181935 -0.047663  \n",
              "4  0.122542  0.693578 -0.615971 -0.847865  0.185151 -0.043892  \n",
              "\n",
              "[5 rows x 561 columns]"
            ]
          },
          "execution_count": 3,
          "metadata": {},
          "output_type": "execute_result"
        }
      ],
      "source": [
        "# Import necessary libraries\n",
        "import pandas as pd\n",
        "import matplotlib.pyplot as plt\n",
        "\n",
        "# Define paths to data files\n",
        "train_path = \"UCI HAR Dataset/train/\"\n",
        "test_path = \"UCI HAR Dataset/test/\"\n",
        "activity_mapper_path = \"UCI HAR Dataset/activity_labels.txt\"\n",
        "\n",
        "\n",
        "# Load training and testing data\n",
        "X_train, y_train  = pd.read_csv(train_path + \"X_train.txt\", delim_whitespace=True, header=None), pd.read_csv(train_path + \"y_train.txt\", delim_whitespace=True, header=None)\n",
        "X_test, y_test  = pd.read_csv(test_path + \"X_test.txt\", delim_whitespace=True, header=None), pd.read_csv(test_path + \"y_test.txt\", delim_whitespace=True, header=None)\n",
        "\n",
        "\n",
        "\n",
        "\n",
        "\n",
        "# Display the first 5 rows of the training dataframe\n",
        "print(\"First 5 rows of training feature dataframe:\")\n",
        "X_train.head()  # DO NOT CHANGE\n"
      ]
    },
    {
      "cell_type": "markdown",
      "metadata": {
        "id": "RuDT1Dp3MxZy"
      },
      "source": [
        "#### scaling the data and PCA"
      ]
    },
    {
      "cell_type": "code",
      "execution_count": null,
      "metadata": {
        "id": "--HKm4E3M4j-"
      },
      "outputs": [],
      "source": [
        "# TODO: Scale X_train\n",
        "X_train_scaled = None  # TODO\n",
        "\n",
        "# TODO: Scale X_test\n",
        "X_test_scaled = None   # TODO\n",
        "\n",
        "# Convert scaled arrays back to DataFrames\n",
        "X_train = None   # TODO\n",
        "X_test = None  # TODO\n",
        "\n",
        "\n",
        "# Add 'Activity' column to create training_df and testing_df\n",
        "# TODO: Combine X_train and y_train into a single DataFrame named training_df.\n",
        "training_df =  None\n",
        "\n",
        "# TODO: Combine X_test and y_test into a single DataFrame named testing_df.\n",
        "testing_df = None\n",
        "\n",
        "\n",
        "\n",
        "# Display the first 5 rows of the training feature dataframe\n",
        "print(\"First 5 rows of training feature dataframe:\")\n",
        "training_df.head()  # DO NOT CHANGE"
      ]
    },
    {
      "cell_type": "code",
      "execution_count": null,
      "metadata": {
        "id": "tML3tU8gNY26"
      },
      "outputs": [],
      "source": [
        "# TODO perform PCA on the train data and get the first 2 PC\n",
        "pca =   # TODO\n",
        "X_train_pca = #TODO\n"
      ]
    },
    {
      "cell_type": "markdown",
      "metadata": {
        "id": "aKBgVB2AEP1p"
      },
      "source": [
        "#### Visualize the data"
      ]
    },
    {
      "cell_type": "code",
      "execution_count": null,
      "metadata": {
        "id": "JTQeMp5xB980"
      },
      "outputs": [],
      "source": [
        "# Visualize training data using PCA\n",
        "\n",
        "\n",
        "# Use the featre decoder to create Acitivtiy Name column\n",
        "\n",
        "# Load activity labels\n",
        "activity_labels = pd.read_csv(activity_mapper_path, header=None, sep='\\s+', names=['id', 'activity_name'])\n",
        "\n",
        "# Create mapping dictionary {1: \"WALKING\", 2: \"WALKING_UPSTAIRS\", ...}\n",
        "activity_mapping = dict(zip(activity_labels['id'], activity_labels['activity_name']))\n",
        "\n",
        " # TODO use the mapping to decode the Activities labels\n",
        "Activity_Name = None  # TODO\n",
        "\n",
        "\n",
        "\n",
        "# TODO: Create a scatter plot using the X_train_pca and the Activity Names\n",
        "plt.figure(figsize=(8, 6))\n",
        "\n",
        "# TODO <--code below-->\n",
        "\n",
        "plt.show()\n",
        "\n"
      ]
    },
    {
      "cell_type": "markdown",
      "metadata": {
        "id": "bNV43d6BR2br"
      },
      "source": [
        "## Kmeans Clustering and The Optimal Number of Clusters"
      ]
    },
    {
      "cell_type": "markdown",
      "metadata": {
        "id": "qb_rm0XES8mm"
      },
      "source": [
        "#### 1.  **Elbow Method**"
      ]
    },
    {
      "cell_type": "code",
      "execution_count": null,
      "metadata": {
        "id": "NjLpIIu8PP-E"
      },
      "outputs": [],
      "source": [
        "\n",
        "# Elbow Method\n",
        "distortion_values = []\n",
        "for k in range(2, 16):\n",
        "    # TODO <--code below-->\n",
        "\n",
        "\n",
        "\n",
        "# Plotting the Elbow Method\n",
        "plt.figure(figsize=(8, 3.5))\n",
        "# TODO <--code below-->\n",
        "plt.show()"
      ]
    },
    {
      "cell_type": "code",
      "execution_count": null,
      "metadata": {
        "id": "dElrEDkaWIIz"
      },
      "outputs": [],
      "source": [
        "# Choose k based on the elbow method\n",
        "elbow_k = None # TODO\n",
        "kmeans_elbow = KMeans(n_clusters=elbow_k, random_state=42, n_init=10)\n",
        "clusters_elbow = kmeans_elbow.fit_predict(X_train)\n",
        "\n",
        "# TODO: PCA for visualization\n",
        "pca =  None # TODO\n",
        "X_train_pca_elbow =  None # TODO\n",
        "\n",
        "# Plotting the clusters\n",
        "plt.figure(figsize=(8, 6))\n",
        "# TODO <--code below-->\n",
        "\n",
        "\n",
        "plt.show()\n",
        "\n"
      ]
    },
    {
      "cell_type": "markdown",
      "metadata": {
        "id": "ukW_gYEgTWUJ"
      },
      "source": [
        "\n",
        "#### 2.  Adjusted Rand Index (ARI)"
      ]
    },
    {
      "cell_type": "code",
      "execution_count": null,
      "metadata": {
        "id": "fUl8UutBTbo-"
      },
      "outputs": [],
      "source": [
        "\n",
        "# 2. Adjusted Rand Index (ARI)\n",
        "ari_scores = []\n",
        "for k in range(2, 16):\n",
        "    # TODO <--code below-->\n",
        "\n",
        "\n",
        "# Plotting ARI Scores\n",
        "plt.figure(figsize=(8, 6))\n",
        "# TODO <--code below-->\n",
        "plt.show()\n",
        "\n"
      ]
    },
    {
      "cell_type": "code",
      "execution_count": null,
      "metadata": {
        "id": "qe_Hc0XXYjL7"
      },
      "outputs": [],
      "source": [
        "\n",
        "# Choose k based on ARI\n",
        "best_ari_k = None # TODO\n",
        "kmeans_ari = KMeans(n_clusters=best_ari_k, random_state=42, n_init=10)\n",
        "clusters_ari = kmeans_ari.fit_predict(X_train)\n",
        "\n",
        "# PCA for visualization\n",
        "pca =  None # TODO\n",
        "X_train_pca_ari =  None # TODO\n",
        "\n",
        "\n",
        "# Plotting the clusters\n",
        "plt.figure(figsize=(8, 6))\n",
        "# TODO <--code below-->\n",
        "plt.show()\n",
        "\n"
      ]
    },
    {
      "cell_type": "markdown",
      "metadata": {
        "id": "YJzD4M24VHje"
      },
      "source": [
        "## Prototype Selection using K-means Clustering."
      ]
    },
    {
      "cell_type": "markdown",
      "metadata": {
        "id": "J3YE1_6dDweK"
      },
      "source": [
        "### 1. Random Selection"
      ]
    },
    {
      "cell_type": "code",
      "execution_count": null,
      "metadata": {
        "id": "xgWv8KjA_biY"
      },
      "outputs": [],
      "source": [
        "\n",
        "import numpy as np\n",
        "import pandas as pd\n",
        "from sklearn.linear_model import LogisticRegression\n",
        "from sklearn.metrics import accuracy_score\n",
        "\n",
        "def random_prototype_selection(X, y, n_samples):\n",
        "    \"\"\"\n",
        "    Selects a random subset from the data. train a logistic regression model\n",
        "    on the selected data.\n",
        "\n",
        "    Args:\n",
        "        X (pd.DataFrame): The input features.\n",
        "        y (pd.Series): The target labels.\n",
        "        n_samples(int): The number of samples to select from each class.\n",
        "\n",
        "    Returns:\n",
        "        tuple: A tuple containing the selected features (X_selected) and labels (y_selected).\n",
        "    \"\"\"\n",
        "\n",
        "\n",
        "    # TODO <--code below-->\n",
        "\n",
        "\n",
        "    return NotImplemented\n",
        "\n",
        "\n",
        "n_repetitions = 10\n",
        "accuracies = []\n",
        "n_samples = 120\n",
        "\n",
        "# TODO caculate the accracy for the randomly selected prototype for 10 expermenteds\n",
        "# TODO <--code below-->\n",
        "\n",
        "average_accuracy = np.mean(accuracies)\n",
        "print(f\"Average Accuracy with Random Selection over {n_repetitions} repetitions: {average_accuracy:.4f}\")\n"
      ]
    },
    {
      "cell_type": "markdown",
      "metadata": {
        "id": "MNG-xrNaD02I"
      },
      "source": [
        "### 2. K-means Clustering by Class\n"
      ]
    },
    {
      "cell_type": "code",
      "execution_count": null,
      "metadata": {
        "id": "iwsOQCcBDtSl"
      },
      "outputs": [],
      "source": [
        "\n",
        "# 2. K-means Clustering by Class\n",
        "def kmeans_prototype_selection(X, y, n_prototypes_per_class):\n",
        "    \"\"\"\n",
        "    Selects prototypes using K-means clustering for each class.\n",
        "\n",
        "    Args:\n",
        "        X (pd.DataFrame): The input features.\n",
        "        y (pd.Series): The target labels.\n",
        "        n_prototypes_per_class (int): The number of prototypes to select from each class.\n",
        "\n",
        "    Returns:\n",
        "        pd.DataFrame: The selected prototypes.\n",
        "        pd.Series: The selected labels.\n",
        "    \"\"\"\n",
        "\n",
        "    #Initialize lists to store selected prototypes and labels\n",
        "    X_selected = []  # List to store selected feature subsets for each class\n",
        "    y_selected = []  # List to store selected labels for each class\n",
        "\n",
        "\n",
        "    # TODO:\n",
        "      # Step 1: Iterate over each unique class label in the target labels\n",
        "      # Step 2: for each class cluster its points using k = n_prototypes_per_class\n",
        "      # Step 3: Find the closest points to each centroid\n",
        "    # TODO <--code below-->\n",
        "\n",
        "    return NotImplemented\n",
        "\n",
        "\n",
        "\n",
        "# Select prototypes using K-means\n",
        "X_train_selected_kmeans, y_train_selected_kmeans = kmeans_prototype_selection(X_train, y_train['Activity'], 20)\n",
        "\n",
        "# Train Logistic Regression model\n",
        "logistic_regression_kmeans = LogisticRegression(random_state=42, max_iter=1000)\n",
        "logistic_regression_kmeans.fit(X_train_selected_kmeans, y_train_selected_kmeans)\n",
        "\n",
        "# Make predictions and calculate accuracy\n",
        "y_pred_kmeans = logistic_regression_kmeans.predict(X_test)\n",
        "accuracy_kmeans = accuracy_score(y_test, y_pred_kmeans)\n",
        "print(f\"Accuracy with K-means Selection: {accuracy_kmeans:.4f}\")\n",
        "\n"
      ]
    },
    {
      "cell_type": "markdown",
      "metadata": {
        "id": "H0T-GQWjEt-q"
      },
      "source": [
        "## Autoencoder for Features Learning.\n"
      ]
    },
    {
      "cell_type": "markdown",
      "metadata": {
        "id": "LH0H3NGdEyq_"
      },
      "source": [
        "####1.  Data Preparation:"
      ]
    },
    {
      "cell_type": "code",
      "execution_count": null,
      "metadata": {
        "id": "CyZ9Thi-IFBE"
      },
      "outputs": [],
      "source": [
        "import glob\n",
        "import numpy as np\n",
        "\n",
        "# Load data with proper tensor formatting\n",
        "def load_inertial_data(path):\n",
        "    files = glob.glob(path)\n",
        "    data_dict = {}\n",
        "    for f in files:\n",
        "        name = f.split('/')[-1][:-4]\n",
        "        # Read as numpy array and convert to float32\n",
        "        data_dict[name] = pd.read_csv(f, sep='\\s+', header=None).values.astype(np.float32)\n",
        "    return data_dict\n",
        "\n",
        "# Load training data\n",
        "train_data = load_inertial_data(\"/content/UCI HAR Dataset/train/Inertial Signals/*.txt\")\n",
        "train_labels = pd.read_csv(\"/content/UCI HAR Dataset/train/y_train.txt\", header=None)[0].values\n",
        "\n",
        "# Load Test data\n",
        "test_data = load_inertial_data(\"/content/UCI HAR Dataset/test/Inertial Signals/*.txt\")\n",
        "test_labels = pd.read_csv(\"/content/UCI HAR Dataset/test/y_test.txt\", header=None)[0].values\n",
        "\n",
        "\n",
        "print(f\"Train Data Dictionary keys: {list(train_data.keys())}\")\n",
        "print(f\"For each sensor the Data shape: {train_data['body_acc_x_train'].shape}\")"
      ]
    },
    {
      "cell_type": "code",
      "execution_count": null,
      "metadata": {
        "id": "KqJ8FU2kIzJS"
      },
      "outputs": [],
      "source": [
        "# Create PyTorch Dataset\n",
        "class SensorsDataset(Dataset):\n",
        "    def __init__(self, data_dict, labels):\n",
        "        # Stack all signals along the feature dimension  Shape: (num_samples, 128, num_features)\n",
        "        self.data = # TODO\n",
        "        self.labels =  #TODO\n",
        "\n",
        "    def __len__(self):\n",
        "        return len(self.data)\n",
        "\n",
        "    def __getitem__(self, idx):\n",
        "        return self.data[idx], self.labels[idx]\n",
        "\n",
        "# Create dataset and dataloader\n",
        "train_dataset = SensorsDataset(train_data, train_labels)\n",
        "train_loader = # TODO: create pytorch dataloader with Batch sie 32, and shuffle\n",
        "\n",
        "# Verify shapes\n",
        "sample, label = next(iter(train_loader))\n",
        "print(f\"Input shape: {sample.shape}\")  # Should be (batch_size, 128, 9)\n",
        "print(f\"Label shape: {label.shape}\")   # Should be (batch_size)\n"
      ]
    },
    {
      "cell_type": "markdown",
      "metadata": {
        "id": "6mk8CqlaFMNd"
      },
      "source": [
        "\n",
        "#### 2. Autoencoder Implementation"
      ]
    },
    {
      "cell_type": "code",
      "execution_count": null,
      "metadata": {
        "id": "oxJqiQ9_FKZe"
      },
      "outputs": [],
      "source": [
        "\n",
        "# 2. Autoencoder Implementation\n",
        "class TimeSeriesAE(nn.Module):\n",
        "    def __init__(self, input_size=9, hidden_size = 64, encoding_dim=64):\n",
        "        super().__init__()\n",
        "        # Encoder\n",
        "        self.encoder = # TODO: bidirectional GRU with proper hidden layer size\n",
        "        self.enc_fc = # TODO: fully connected layer for the encoder (output encoder_dim)\n",
        "\n",
        "        # Decoder\n",
        "        self.dec_fc = # TODO: fully connected layer for the decoder\n",
        "        self.decoder =  # TODO: bidirectional GRU with proper input and hidden layer size\n",
        "        self.output_layer = torch.nn.Linear(hidden_size * 2, input_size) # fully connected layer for the output ( ouput is the input size)\n",
        "        # note The input is is hidden_size*2 for bidirectional\n",
        "\n",
        "    def forward(self, x):\n",
        "        # Encoding\n",
        "        _, hidden = self.encoder(x)\n",
        "        hidden = torch.cat([hidden[-2], hidden[-1]], dim=1)  # Combine bidirectional\n",
        "        encoded = self.enc_fc(hidden)\n",
        "\n",
        "        # Decoding\n",
        "        decoded = self.dec_fc(encoded).unsqueeze(1).repeat(1, x.size(1), 1)\n",
        "        out, _ = self.decoder(decoded)\n",
        "        reconstructed = self.output_layer(out)\n",
        "\n",
        "        return reconstructed, encoded\n",
        "\n",
        "\n",
        "\n",
        "# Instantiate the model\n",
        "input_size = 9  # Number of features\n",
        "hidden_size = 64\n",
        "\n",
        "model = TimeSeriesAE(input_size)\n",
        "\n",
        "# Define loss function and optimizer\n",
        "criterion = # TODO\n",
        "optimizer = # TODO\n",
        "\n",
        "# TODO: Train loop for the autoencoder\n",
        "num_epochs = 10\n",
        "for epoch in range(num_epochs):\n",
        "    model.train()\n",
        "    total_loss = 0\n",
        "    for batch_X, _ in train_loader:\n",
        "        # TODO <--code below-->\n",
        "\n",
        "\n",
        "    print(f\"Epoch {epoch+1}/{num_epochs}, Loss: {total_loss/len(train_loader):.4f}\")\n",
        "\n",
        "\n",
        "\n",
        "\n",
        "# Plotting the accuracy vs epcoh\n",
        "plt.figure(figsize=(8, 6))\n",
        "# TODO <--code below-->\n",
        "plt.show()"
      ]
    },
    {
      "cell_type": "code",
      "execution_count": null,
      "metadata": {
        "id": "wEjqTkpxFU8Y"
      },
      "outputs": [],
      "source": [
        "# 3. Embedding Extraction and Visualization\n",
        "\n",
        "\n",
        "ae_loader = DataLoader(train_dataset, batch_size=32, shuffle=False)\n",
        "\n",
        "# Extract embeddings for the training data\n",
        "model.eval()\n",
        "embeddings = []\n",
        "train_labels = []\n",
        "with torch.no_grad():\n",
        "    for batch_X ,_ in ae_loader:\n",
        "      # TODO <--code below-->\n",
        "\n",
        "\n",
        "\n",
        "embeddings = np.concatenate(embeddings, axis=0)\n",
        "\n",
        "# Create a scatter plot of the 2D embeddings\n",
        "plt.figure(figsize=(8, 6))\n",
        "activities = np.unique(y_train)\n",
        "plt.scatter(embeddings[:, 0], embeddings[:, 1], c=y_train.values, cmap='viridis', alpha=0.6)\n",
        "plt.colorbar(label='Activity Class')\n",
        "plt.title('Autoencoder Embeddings')\n",
        "plt.show()\n"
      ]
    },
    {
      "cell_type": "code",
      "execution_count": null,
      "metadata": {
        "id": "iOEMeRMUUrXH"
      },
      "outputs": [],
      "source": [
        "\n",
        "# Adjusted Rand Index (ARI) for the embeddings\n",
        "\n",
        "ari_scores = []\n",
        "for k in range(2, 16):\n",
        "    # TODO <--code below-->\n",
        "\n",
        "\n",
        "# Plotting ARI Scores\n",
        "plt.figure(figsize=(8, 6))\n",
        "# TODO <--code below-->\n",
        "plt.show()\n",
        "\n"
      ]
    },
    {
      "cell_type": "code",
      "execution_count": null,
      "metadata": {
        "id": "fZDgW-anYovG"
      },
      "outputs": [],
      "source": [
        "\n",
        "# Choose k based on ARI\n",
        "best_embedd_ari_k = None # TODO\n",
        "kmeans_ari = KMeans(n_clusters=best_embedd_ari_k, random_state=42, n_init=10)\n",
        "clusters_ari = kmeans_ari.fit_predict(X_train)\n",
        "\n",
        "# PCA for visualization\n",
        "pca =  None # TODO\n",
        "X_train_pca_ari =  None # TODO\n",
        "\n",
        "\n",
        "# Plotting the clusters\n",
        "plt.figure(figsize=(8, 6))\n",
        "# TODO <--code below-->\n",
        "plt.show()\n",
        "\n",
        "\n"
      ]
    }
  ],
  "metadata": {
    "colab": {
      "provenance": []
    },
    "kernelspec": {
      "display_name": "EnvMaths",
      "language": "python",
      "name": "python3"
    },
    "language_info": {
      "codemirror_mode": {
        "name": "ipython",
        "version": 3
      },
      "file_extension": ".py",
      "mimetype": "text/x-python",
      "name": "python",
      "nbconvert_exporter": "python",
      "pygments_lexer": "ipython3",
      "version": "3.12.3"
    }
  },
  "nbformat": 4,
  "nbformat_minor": 0
}
