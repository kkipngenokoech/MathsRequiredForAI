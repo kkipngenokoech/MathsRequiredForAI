{
 "cells": [
  {
   "cell_type": "code",
   "execution_count": null,
   "id": "a0b64b7f",
   "metadata": {},
   "outputs": [
    {
     "name": "stdout",
     "output_type": "stream",
     "text": [
      "Eigenvalues: [9.00000000e+00 1.00000000e+00 2.90472595e-16]\n",
      "Eigenvectors: [[-4.08248290e-01 -7.07106781e-01 -5.77350269e-01]\n",
      " [-4.08248290e-01  7.07106781e-01 -5.77350269e-01]\n",
      " [-8.16496581e-01 -1.10693380e-16  5.77350269e-01]]\n"
     ]
    }
   ],
   "source": [
    "import numpy as np\n",
    "C_X = np.array([[2, 1, 3], [1, 2, 3], [3, 3, 6]])\n",
    "eigenvalues, eigenvectors = np.linalg.eig(C_X)\n",
    "print(\"Eigenvalues:\", eigenvalues)\n",
    "print(\"Eigenvectors:\", eigenvectors)"
   ]
  },
  {
   "cell_type": "code",
   "execution_count": 1,
   "id": "30652d06",
   "metadata": {},
   "outputs": [
    {
     "name": "stdout",
     "output_type": "stream",
     "text": [
      "Your u1 matches NumPy eigenvector 1: True\n",
      "Your u2 matches NumPy eigenvector 2: True\n",
      "Your u3 matches NumPy eigenvector 3: True\n"
     ]
    }
   ],
   "source": [
    "import numpy as np\n",
    "\n",
    "# Matrix\n",
    "C_X = np.array([[2, 1, 3],\n",
    "                [1, 2, 3],\n",
    "                [3, 3, 6]])\n",
    "\n",
    "# Eigenvalues and eigenvectors from NumPy\n",
    "eigenvalues, eigenvectors = np.linalg.eig(C_X)\n",
    "\n",
    "# Your claimed (unnormalized) eigenvectors\n",
    "u1 = np.array([1, 1, 2])\n",
    "u2 = np.array([-1, 1, 0])\n",
    "u3 = np.array([-1, -1, 1])\n",
    "\n",
    "# Normalize your vectors\n",
    "def normalize(v):\n",
    "    return v / np.linalg.norm(v)\n",
    "\n",
    "u1_norm = normalize(u1)\n",
    "u2_norm = normalize(u2)\n",
    "u3_norm = normalize(u3)\n",
    "\n",
    "# Compare each with NumPy's output (columns of eigenvectors matrix)\n",
    "for i, ui in enumerate([u1_norm, u2_norm, u3_norm]):\n",
    "    numpy_vec = eigenvectors[:, i]\n",
    "    match = np.allclose(ui, numpy_vec) or np.allclose(ui, -numpy_vec)\n",
    "    print(f\"Your u{i+1} matches NumPy eigenvector {i+1}: {match}\")\n"
   ]
  },
  {
   "cell_type": "code",
   "execution_count": null,
   "id": "db445330",
   "metadata": {},
   "outputs": [],
   "source": []
  }
 ],
 "metadata": {
  "kernelspec": {
   "display_name": "EnvMaths",
   "language": "python",
   "name": "python3"
  },
  "language_info": {
   "codemirror_mode": {
    "name": "ipython",
    "version": 3
   },
   "file_extension": ".py",
   "mimetype": "text/x-python",
   "name": "python",
   "nbconvert_exporter": "python",
   "pygments_lexer": "ipython3",
   "version": "3.12.3"
  }
 },
 "nbformat": 4,
 "nbformat_minor": 5
}
