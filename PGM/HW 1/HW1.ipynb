{
 "cells": [
  {
   "cell_type": "markdown",
   "metadata": {},
   "source": [
    "## IMPORTS"
   ]
  },
  {
   "cell_type": "code",
   "execution_count": 1,
   "metadata": {},
   "outputs": [],
   "source": [
    "import numpy as np"
   ]
  },
  {
   "cell_type": "markdown",
   "metadata": {},
   "source": [
    "## QUESTION ONE\n",
    "\n",
    "Consider a simple Markov Chain structure X → Y → Z, where all variables are binary. You are required to:\n",
    "(a) Write a code (using your preferred programming language) that generates a distribution (not necessarily a valid BN one) over\n",
    "the 3 variables.\n"
   ]
  },
  {
   "cell_type": "code",
   "execution_count": null,
   "metadata": {},
   "outputs": [
    {
     "name": "stdout",
     "output_type": "stream",
     "text": [
      "P(X=0, Y=0, Z=0) = 0.15852293146142912\n",
      "P(X=0, Y=0, Z=1) = 0.16165590492211265\n",
      "P(X=0, Y=1, Z=0) = 0.16321580719523265\n",
      "P(X=0, Y=1, Z=1) = 0.030715477297894478\n",
      "P(X=1, Y=0, Z=0) = 0.13637423353210798\n",
      "P(X=1, Y=0, Z=1) = 0.05379150260377778\n",
      "P(X=1, Y=1, Z=0) = 0.0751038508434909\n",
      "P(X=1, Y=1, Z=1) = 0.22062029214395443\n",
      "The sum of the probabilities is 1.0\n"
     ]
    }
   ],
   "source": [
    "def generate_random_distribution():\n",
    "    \"\"\"\n",
    "    Generates a random joint probability distribution P(X, Y, Z) for binary variables.\n",
    "    A valid probability distribution should sum up to 1.\n",
    "    \n",
    "    So we can generate random values and normalize them to make them a probability distribution.\n",
    "    \"\"\"\n",
    "    \n",
    "    # We use 2 as the variable is a binary variable and it could take 0 or 1\n",
    "    '''\n",
    "    We have three variables X, Y, Z. So we need to generate a 2x2x2 matrix: 000, 001, 010, 011, 100, 101, 110, 111\n",
    "    \n",
    "    '''\n",
    "    P = np.random.rand(2, 2, 2)  # we generate Random values for P(X, Y, Z)\n",
    "    P /= np.sum(P)  # Normalize to make it a probability distribution\n",
    "    return P\n",
    "\n",
    "random = generate_random_distribution()\n",
    "# I want to print the individual values and their probabilities\n",
    "for i in range(2):\n",
    "    for j in range(2):\n",
    "        for k in range(2):\n",
    "            print(f\"P(X={i}, Y={j}, Z={k}) = {random[i, j, k]}\")\n",
    "''' \n",
    "Output should be something like:\n",
    "[[[0.023 0.073] # P(X=0, Y=0, Z=0) = 0.023, P(X=0, Y=0, Z=1) = 0.073\n",
    "  [0.053 0.031]] # P(X=0, Y=1, Z=0) = 0.053, P(X=0, Y=1, Z=1) = 0.031\n",
    "\n",
    " [[0.1   0.1  ] # P(X=1, Y=0, Z=0) = 0.1, P(X=1, Y=0, Z=1) = 0.1\n",
    "  [0.1   0.1  ]]] # P(X=1, Y=1, Z=0) = 0.1, P(X=1, Y=1, Z=1) = 0.1\n",
    "'''\n",
    "print(f\"The sum of the probabilities is {np.sum(random)}\")\n",
    "# output should be 1.0"
   ]
  },
  {
   "cell_type": "markdown",
   "metadata": {},
   "source": [
    "### PLAYGROUND\n",
    "\n",
    "__NB__: This is just me trying to understand my probability distribution, ignore the next cell"
   ]
  },
  {
   "cell_type": "code",
   "execution_count": 9,
   "metadata": {},
   "outputs": [
    {
     "name": "stdout",
     "output_type": "stream",
     "text": [
      "P(X = 0) = 0.514110120876669\n",
      "P(X = 1) = 0.48588987912333115\n",
      "The sum of the probabilities is 1.0\n",
      "P(Y = 0) = 0.5103445725194276\n",
      "P(Y = 1) = 0.48965542748057245\n",
      "The sum of the probabilities is 1.0\n",
      "P(Z = 0) = 0.5332168230322607\n",
      "P(Z = 1) = 0.4667831769677393\n",
      "The sum of the probabilities is 1.0\n",
      "P(Y = 0 | X = 0) = 0.62278259731119\n",
      "P(Y = 1 | X = 0) = 0.3772174026888098\n",
      "P(Y = 0 | X = 1) = 0.3913762033467194\n",
      "P(Y = 1 | X = 1) = 0.6086237966532805\n",
      "The sum of the probabilities is [1. 1.]\n",
      "P(Z = 0 | Y = 0) = 0.5778393283144225\n",
      "P(Z = 1 | Y = 0) = 0.4221606716855774\n",
      "P(Z = 0 | Y = 1) = 0.48670890725127136\n",
      "P(Z = 1 | Y = 1) = 0.5132910927487286\n",
      "The sum of the probabilities is [1. 1.]\n"
     ]
    }
   ],
   "source": [
    "# Marginalize of X\n",
    "P_X = np.sum(random, axis=(1, 2))\n",
    "print(f\"P(X = 0) = {P_X[0]}\")\n",
    "print(f\"P(X = 1) = {P_X[1]}\")\n",
    "print(f\"The sum of the probabilities is {np.sum(P_X)}\")\n",
    "\n",
    "# Marginalize of Y\n",
    "P_Y = np.sum(random, axis=(0, 2))\n",
    "print(f\"P(Y = 0) = {P_Y[0]}\")\n",
    "print(f\"P(Y = 1) = {P_Y[1]}\")\n",
    "print(f\"The sum of the probabilities is {np.sum(P_Y)}\")\n",
    "\n",
    "# Marginalize of Z\n",
    "P_Z = np.sum(random, axis=(0, 1))\n",
    "print(f\"P(Z = 0) = {P_Z[0]}\")\n",
    "print(f\"P(Z = 1) = {P_Z[1]}\")\n",
    "print(f\"The sum of the probabilities is {np.sum(P_Z)}\")\n",
    "\n",
    "# Probability of Y given X\n",
    "joint_XY = np.sum(random, axis=2) # P(X, Y) - remove the influence Z then use conditional probability formula\n",
    "P_Y_given_X = joint_XY / P_X[:, None] # P(Y | X) = P(X, Y) / P(X) # NOTE: Here we are creating the conditional probability table between a child and its parent\n",
    "print(f\"P(Y = 0 | X = 0) = {P_Y_given_X[0, 0]}\")\n",
    "print(f\"P(Y = 1 | X = 0) = {P_Y_given_X[0, 1]}\")\n",
    "print(f\"P(Y = 0 | X = 1) = {P_Y_given_X[1, 0]}\")\n",
    "print(f\"P(Y = 1 | X = 1) = {P_Y_given_X[1, 1]}\")\n",
    "print(f\"The sum of the probabilities is {np.sum(P_Y_given_X, axis=1)}\")\n",
    "\n",
    "# Probability of Z given Y\n",
    "joint_YZ = np.sum(random, axis=0) # P(Y, Z) - remove the influence X then use conditional probability formula\n",
    "P_Z_given_Y = joint_YZ / P_Y[:, None] # P(Z | Y) = P(Y, Z) / P(Y) # NOTE: Here we are creating the conditional probability table between a child and its parent\n",
    "print(f\"P(Z = 0 | Y = 0) = {P_Z_given_Y[0, 0]}\")\n",
    "print(f\"P(Z = 1 | Y = 0) = {P_Z_given_Y[0, 1]}\")\n",
    "print(f\"P(Z = 0 | Y = 1) = {P_Z_given_Y[1, 0]}\")\n",
    "print(f\"P(Z = 1 | Y = 1) = {P_Z_given_Y[1, 1]}\")\n",
    "print(f\"The sum of the probabilities is {np.sum(P_Z_given_Y, axis=1)}\")"
   ]
  },
  {
   "cell_type": "markdown",
   "metadata": {},
   "source": [
    "(b) Write a code that verifies whether a distribution is a valid BN distribution.\n"
   ]
  },
  {
   "cell_type": "code",
   "execution_count": 12,
   "metadata": {},
   "outputs": [
    {
     "name": "stdout",
     "output_type": "stream",
     "text": [
      "Is the random distribution a valid BN factorization? False\n"
     ]
    }
   ],
   "source": [
    "import numpy as np\n",
    "\n",
    "def check_bn_validity(P):\n",
    "    \"\"\"\n",
    "    Checks if P(X, Y, Z) factorizes as P(X) P(Y|X) P(Z|Y)\n",
    "    \"\"\"\n",
    "    P_X = np.sum(P, axis=(1, 2))  # Marginal P(X)\n",
    "    \n",
    "    # Conditional P(Y | X) = P(X, Y) / P(X)  where P(X, Y) = sum over Z\n",
    "    P_Y_given_X = np.sum(P, axis=2) / P_X[:, None]  # Shape (2,2)\n",
    "\n",
    "    # Conditional P(Z | Y) = P(Y, Z) / P(Y) where P(Y, Z) = sum over X\n",
    "    P_Z_given_Y = np.sum(P, axis=0) / np.sum(P, axis=0).sum(axis=1, keepdims=True)  # Shape (2,2)\n",
    "\n",
    "    # Reconstruct P(X, Y, Z) using the BN factorization\n",
    "    P_reconstructed = np.zeros((2, 2, 2))\n",
    "    for x in range(2):\n",
    "        for y in range(2):\n",
    "            for z in range(2):\n",
    "                P_reconstructed[x, y, z] = P_X[x] * P_Y_given_X[x, y] * P_Z_given_Y[y, z]\n",
    "\n",
    "    return np.allclose(P, P_reconstructed, atol=1e-5)\n",
    "\n",
    "# Example test with a random probability table\n",
    "random_P = np.random.rand(2, 2, 2)\n",
    "random_P /= np.sum(random_P)  # Normalize to ensure it's a valid joint probability distribution\n",
    "\n",
    "print(f\"Is the random distribution a valid BN factorization? {check_bn_validity(random_P)}\")\n"
   ]
  },
  {
   "cell_type": "markdown",
   "metadata": {},
   "source": [
    "(c) Using your code, generate 10000 distributions and compute the fraction of distributions that are valid BN distributions."
   ]
  },
  {
   "cell_type": "code",
   "execution_count": null,
   "metadata": {},
   "outputs": [
    {
     "ename": "KeyboardInterrupt",
     "evalue": "",
     "output_type": "error",
     "traceback": [
      "\u001b[0;31m---------------------------------------------------------------------------\u001b[0m",
      "\u001b[0;31mKeyboardInterrupt\u001b[0m                         Traceback (most recent call last)",
      "Cell \u001b[0;32mIn[14], line 10\u001b[0m\n\u001b[1;32m      7\u001b[0m             valid_count \u001b[38;5;241m+\u001b[39m\u001b[38;5;241m=\u001b[39m \u001b[38;5;241m1\u001b[39m\n\u001b[1;32m      8\u001b[0m     \u001b[38;5;28;01mreturn\u001b[39;00m valid_count \u001b[38;5;241m/\u001b[39m num_samples\n\u001b[0;32m---> 10\u001b[0m valid_fraction \u001b[38;5;241m=\u001b[39m \u001b[43mestimate_valid_bn_fraction\u001b[49m\u001b[43m(\u001b[49m\u001b[43m)\u001b[49m\n\u001b[1;32m     11\u001b[0m \u001b[38;5;28mprint\u001b[39m(\u001b[38;5;124mf\u001b[39m\u001b[38;5;124m\"\u001b[39m\u001b[38;5;124mFraction of valid BN distributions: \u001b[39m\u001b[38;5;132;01m{\u001b[39;00mvalid_fraction\u001b[38;5;132;01m:\u001b[39;00m\u001b[38;5;124m.4f\u001b[39m\u001b[38;5;132;01m}\u001b[39;00m\u001b[38;5;124m\"\u001b[39m)\n",
      "Cell \u001b[0;32mIn[14], line 6\u001b[0m, in \u001b[0;36mestimate_valid_bn_fraction\u001b[0;34m(num_samples)\u001b[0m\n\u001b[1;32m      4\u001b[0m \u001b[38;5;28;01mfor\u001b[39;00m _ \u001b[38;5;129;01min\u001b[39;00m \u001b[38;5;28mrange\u001b[39m(num_samples):\n\u001b[1;32m      5\u001b[0m     P \u001b[38;5;241m=\u001b[39m generate_random_distribution()\n\u001b[0;32m----> 6\u001b[0m     \u001b[38;5;28;01mif\u001b[39;00m \u001b[43mcheck_bn_validity\u001b[49m\u001b[43m(\u001b[49m\u001b[43mP\u001b[49m\u001b[43m)\u001b[49m:\n\u001b[1;32m      7\u001b[0m         valid_count \u001b[38;5;241m+\u001b[39m\u001b[38;5;241m=\u001b[39m \u001b[38;5;241m1\u001b[39m\n\u001b[1;32m      8\u001b[0m \u001b[38;5;28;01mreturn\u001b[39;00m valid_count \u001b[38;5;241m/\u001b[39m num_samples\n",
      "Cell \u001b[0;32mIn[12], line 7\u001b[0m, in \u001b[0;36mcheck_bn_validity\u001b[0;34m(P)\u001b[0m\n\u001b[1;32m      3\u001b[0m \u001b[38;5;28;01mdef\u001b[39;00m \u001b[38;5;21mcheck_bn_validity\u001b[39m(P):\n\u001b[1;32m      4\u001b[0m \u001b[38;5;250m    \u001b[39m\u001b[38;5;124;03m\"\"\"\u001b[39;00m\n\u001b[1;32m      5\u001b[0m \u001b[38;5;124;03m    Checks if P(X, Y, Z) factorizes as P(X) P(Y|X) P(Z|Y)\u001b[39;00m\n\u001b[1;32m      6\u001b[0m \u001b[38;5;124;03m    \"\"\"\u001b[39;00m\n\u001b[0;32m----> 7\u001b[0m     P_X \u001b[38;5;241m=\u001b[39m \u001b[43mnp\u001b[49m\u001b[38;5;241;43m.\u001b[39;49m\u001b[43msum\u001b[49m\u001b[43m(\u001b[49m\u001b[43mP\u001b[49m\u001b[43m,\u001b[49m\u001b[43m \u001b[49m\u001b[43maxis\u001b[49m\u001b[38;5;241;43m=\u001b[39;49m\u001b[43m(\u001b[49m\u001b[38;5;241;43m1\u001b[39;49m\u001b[43m,\u001b[49m\u001b[43m \u001b[49m\u001b[38;5;241;43m2\u001b[39;49m\u001b[43m)\u001b[49m\u001b[43m)\u001b[49m  \u001b[38;5;66;03m# Marginal P(X)\u001b[39;00m\n\u001b[1;32m      9\u001b[0m     \u001b[38;5;66;03m# Conditional P(Y | X) = P(X, Y) / P(X)  where P(X, Y) = sum over Z\u001b[39;00m\n\u001b[1;32m     10\u001b[0m     P_Y_given_X \u001b[38;5;241m=\u001b[39m np\u001b[38;5;241m.\u001b[39msum(P, axis\u001b[38;5;241m=\u001b[39m\u001b[38;5;241m2\u001b[39m) \u001b[38;5;241m/\u001b[39m P_X[:, \u001b[38;5;28;01mNone\u001b[39;00m]  \u001b[38;5;66;03m# Shape (2,2)\u001b[39;00m\n",
      "File \u001b[0;32m~/projects/MathsRequiredForAI/EnvMaths/lib/python3.12/site-packages/numpy/_core/fromnumeric.py:2389\u001b[0m, in \u001b[0;36msum\u001b[0;34m(a, axis, dtype, out, keepdims, initial, where)\u001b[0m\n\u001b[1;32m   2386\u001b[0m         \u001b[38;5;28;01mreturn\u001b[39;00m out\n\u001b[1;32m   2387\u001b[0m     \u001b[38;5;28;01mreturn\u001b[39;00m res\n\u001b[0;32m-> 2389\u001b[0m \u001b[38;5;28;01mreturn\u001b[39;00m \u001b[43m_wrapreduction\u001b[49m\u001b[43m(\u001b[49m\n\u001b[1;32m   2390\u001b[0m \u001b[43m    \u001b[49m\u001b[43ma\u001b[49m\u001b[43m,\u001b[49m\u001b[43m \u001b[49m\u001b[43mnp\u001b[49m\u001b[38;5;241;43m.\u001b[39;49m\u001b[43madd\u001b[49m\u001b[43m,\u001b[49m\u001b[43m \u001b[49m\u001b[38;5;124;43m'\u001b[39;49m\u001b[38;5;124;43msum\u001b[39;49m\u001b[38;5;124;43m'\u001b[39;49m\u001b[43m,\u001b[49m\u001b[43m \u001b[49m\u001b[43maxis\u001b[49m\u001b[43m,\u001b[49m\u001b[43m \u001b[49m\u001b[43mdtype\u001b[49m\u001b[43m,\u001b[49m\u001b[43m \u001b[49m\u001b[43mout\u001b[49m\u001b[43m,\u001b[49m\n\u001b[1;32m   2391\u001b[0m \u001b[43m    \u001b[49m\u001b[43mkeepdims\u001b[49m\u001b[38;5;241;43m=\u001b[39;49m\u001b[43mkeepdims\u001b[49m\u001b[43m,\u001b[49m\u001b[43m \u001b[49m\u001b[43minitial\u001b[49m\u001b[38;5;241;43m=\u001b[39;49m\u001b[43minitial\u001b[49m\u001b[43m,\u001b[49m\u001b[43m \u001b[49m\u001b[43mwhere\u001b[49m\u001b[38;5;241;43m=\u001b[39;49m\u001b[43mwhere\u001b[49m\n\u001b[1;32m   2392\u001b[0m \u001b[43m\u001b[49m\u001b[43m)\u001b[49m\n",
      "File \u001b[0;32m~/projects/MathsRequiredForAI/EnvMaths/lib/python3.12/site-packages/numpy/_core/fromnumeric.py:86\u001b[0m, in \u001b[0;36m_wrapreduction\u001b[0;34m(obj, ufunc, method, axis, dtype, out, **kwargs)\u001b[0m\n\u001b[1;32m     83\u001b[0m         \u001b[38;5;28;01melse\u001b[39;00m:\n\u001b[1;32m     84\u001b[0m             \u001b[38;5;28;01mreturn\u001b[39;00m reduction(axis\u001b[38;5;241m=\u001b[39maxis, out\u001b[38;5;241m=\u001b[39mout, \u001b[38;5;241m*\u001b[39m\u001b[38;5;241m*\u001b[39mpasskwargs)\n\u001b[0;32m---> 86\u001b[0m \u001b[38;5;28;01mreturn\u001b[39;00m \u001b[43mufunc\u001b[49m\u001b[38;5;241;43m.\u001b[39;49m\u001b[43mreduce\u001b[49m\u001b[43m(\u001b[49m\u001b[43mobj\u001b[49m\u001b[43m,\u001b[49m\u001b[43m \u001b[49m\u001b[43maxis\u001b[49m\u001b[43m,\u001b[49m\u001b[43m \u001b[49m\u001b[43mdtype\u001b[49m\u001b[43m,\u001b[49m\u001b[43m \u001b[49m\u001b[43mout\u001b[49m\u001b[43m,\u001b[49m\u001b[43m \u001b[49m\u001b[38;5;241;43m*\u001b[39;49m\u001b[38;5;241;43m*\u001b[39;49m\u001b[43mpasskwargs\u001b[49m\u001b[43m)\u001b[49m\n",
      "\u001b[0;31mKeyboardInterrupt\u001b[0m: "
     ]
    }
   ],
   "source": [
    "def estimate_valid_bn_fraction(num_samples=10000):\n",
    "    \"\"\"Generates num_samples distributions and computes the fraction that are valid BN distributions.\"\"\"\n",
    "    valid_count = 0\n",
    "    for _ in range(num_samples):\n",
    "        P = generate_random_distribution()\n",
    "        if check_bn_validity(P):\n",
    "            valid_count += 1\n",
    "    return valid_count / num_samples\n",
    "\n",
    "valid_fraction = estimate_valid_bn_fraction()\n",
    "print(f\"Fraction of valid BN distributions: {valid_fraction:.4f}\")"
   ]
  },
  {
   "cell_type": "code",
   "execution_count": null,
   "metadata": {},
   "outputs": [],
   "source": []
  },
  {
   "cell_type": "code",
   "execution_count": null,
   "metadata": {},
   "outputs": [],
   "source": []
  }
 ],
 "metadata": {
  "kernelspec": {
   "display_name": "EnvMaths",
   "language": "python",
   "name": "python3"
  },
  "language_info": {
   "codemirror_mode": {
    "name": "ipython",
    "version": 3
   },
   "file_extension": ".py",
   "mimetype": "text/x-python",
   "name": "python",
   "nbconvert_exporter": "python",
   "pygments_lexer": "ipython3",
   "version": "3.12.3"
  }
 },
 "nbformat": 4,
 "nbformat_minor": 2
}
