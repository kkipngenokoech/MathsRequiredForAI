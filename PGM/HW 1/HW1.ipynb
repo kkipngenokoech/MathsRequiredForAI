{
 "cells": [
  {
   "cell_type": "markdown",
   "metadata": {},
   "source": [
    "## IMPORTS"
   ]
  },
  {
   "cell_type": "code",
   "execution_count": 1,
   "metadata": {},
   "outputs": [],
   "source": [
    "import numpy as np"
   ]
  },
  {
   "cell_type": "markdown",
   "metadata": {},
   "source": [
    "## QUESTION ONE\n",
    "\n",
    "Consider a simple Markov Chain structure X → Y → Z, where all variables are binary. You are required to:\n",
    "(a) Write a code (using your preferred programming language) that generates a distribution (not necessarily a valid BN one) over\n",
    "the 3 variables.\n"
   ]
  },
  {
   "cell_type": "code",
   "execution_count": null,
   "metadata": {},
   "outputs": [
    {
     "name": "stdout",
     "output_type": "stream",
     "text": [
      "P(X=0, Y=0, Z=0) = 0.15852293146142912\n",
      "P(X=0, Y=0, Z=1) = 0.16165590492211265\n",
      "P(X=0, Y=1, Z=0) = 0.16321580719523265\n",
      "P(X=0, Y=1, Z=1) = 0.030715477297894478\n",
      "P(X=1, Y=0, Z=0) = 0.13637423353210798\n",
      "P(X=1, Y=0, Z=1) = 0.05379150260377778\n",
      "P(X=1, Y=1, Z=0) = 0.0751038508434909\n",
      "P(X=1, Y=1, Z=1) = 0.22062029214395443\n",
      "The sum of the probabilities is 1.0\n"
     ]
    }
   ],
   "source": [
    "def generate_random_distribution():\n",
    "    \"\"\"\n",
    "    Generates a random joint probability distribution P(X, Y, Z) for binary variables.\n",
    "    A valid probability distribution should sum up to 1.\n",
    "    \n",
    "    So we can generate random values and normalize them to make them a probability distribution.\n",
    "    \"\"\"\n",
    "    \n",
    "    # We use 2 as the variable is a binary variable and it could take 0 or 1\n",
    "    '''\n",
    "    We have three variables X, Y, Z. So we need to generate a 2x2x2 matrix: 000, 001, 010, 011, 100, 101, 110, 111\n",
    "    \n",
    "    '''\n",
    "    P = np.random.rand(2, 2, 2)  # we generate Random values for P(X, Y, Z)\n",
    "    P /= np.sum(P)  # Normalize to make it a probability distribution\n",
    "    return P\n",
    "\n",
    "random = generate_random_distribution()\n",
    "# I want to print the individual values and their probabilities\n",
    "for i in range(2):\n",
    "    for j in range(2):\n",
    "        for k in range(2):\n",
    "            print(f\"P(X={i}, Y={j}, Z={k}) = {random[i, j, k]}\")\n",
    "''' \n",
    "Output should be something like:\n",
    "[[[0.023 0.073] # P(X=0, Y=0, Z=0) = 0.023, P(X=0, Y=0, Z=1) = 0.073\n",
    "  [0.053 0.031]] # P(X=0, Y=1, Z=0) = 0.053, P(X=0, Y=1, Z=1) = 0.031\n",
    "\n",
    " [[0.1   0.1  ] # P(X=1, Y=0, Z=0) = 0.1, P(X=1, Y=0, Z=1) = 0.1\n",
    "  [0.1   0.1  ]]] # P(X=1, Y=1, Z=0) = 0.1, P(X=1, Y=1, Z=1) = 0.1\n",
    "'''\n",
    "print(f\"The sum of the probabilities is {np.sum(random)}\")\n",
    "# output should be 1.0"
   ]
  },
  {
   "cell_type": "markdown",
   "metadata": {},
   "source": [
    "### PLAYGROUND\n",
    "\n",
    "__NB__: This is just me trying to understand my probability distribution, ignore the next cell"
   ]
  },
  {
   "cell_type": "code",
   "execution_count": 9,
   "metadata": {},
   "outputs": [
    {
     "name": "stdout",
     "output_type": "stream",
     "text": [
      "P(X = 0) = 0.514110120876669\n",
      "P(X = 1) = 0.48588987912333115\n",
      "The sum of the probabilities is 1.0\n",
      "P(Y = 0) = 0.5103445725194276\n",
      "P(Y = 1) = 0.48965542748057245\n",
      "The sum of the probabilities is 1.0\n",
      "P(Z = 0) = 0.5332168230322607\n",
      "P(Z = 1) = 0.4667831769677393\n",
      "The sum of the probabilities is 1.0\n",
      "P(Y = 0 | X = 0) = 0.62278259731119\n",
      "P(Y = 1 | X = 0) = 0.3772174026888098\n",
      "P(Y = 0 | X = 1) = 0.3913762033467194\n",
      "P(Y = 1 | X = 1) = 0.6086237966532805\n",
      "The sum of the probabilities is [1. 1.]\n",
      "P(Z = 0 | Y = 0) = 0.5778393283144225\n",
      "P(Z = 1 | Y = 0) = 0.4221606716855774\n",
      "P(Z = 0 | Y = 1) = 0.48670890725127136\n",
      "P(Z = 1 | Y = 1) = 0.5132910927487286\n",
      "The sum of the probabilities is [1. 1.]\n"
     ]
    }
   ],
   "source": [
    "# Marginalize of X\n",
    "P_X = np.sum(random, axis=(1, 2))\n",
    "print(f\"P(X = 0) = {P_X[0]}\")\n",
    "print(f\"P(X = 1) = {P_X[1]}\")\n",
    "print(f\"The sum of the probabilities is {np.sum(P_X)}\")\n",
    "\n",
    "# Marginalize of Y\n",
    "P_Y = np.sum(random, axis=(0, 2))\n",
    "print(f\"P(Y = 0) = {P_Y[0]}\")\n",
    "print(f\"P(Y = 1) = {P_Y[1]}\")\n",
    "print(f\"The sum of the probabilities is {np.sum(P_Y)}\")\n",
    "\n",
    "# Marginalize of Z\n",
    "P_Z = np.sum(random, axis=(0, 1))\n",
    "print(f\"P(Z = 0) = {P_Z[0]}\")\n",
    "print(f\"P(Z = 1) = {P_Z[1]}\")\n",
    "print(f\"The sum of the probabilities is {np.sum(P_Z)}\")\n",
    "\n",
    "# Probability of Y given X\n",
    "joint_XY = np.sum(random, axis=2) # P(X, Y) - remove the influence Z then use conditional probability formula\n",
    "P_Y_given_X = joint_XY / P_X[:, None] # P(Y | X) = P(X, Y) / P(X) # NOTE: Here we are creating the conditional probability table between a child and its parent\n",
    "print(f\"P(Y = 0 | X = 0) = {P_Y_given_X[0, 0]}\")\n",
    "print(f\"P(Y = 1 | X = 0) = {P_Y_given_X[0, 1]}\")\n",
    "print(f\"P(Y = 0 | X = 1) = {P_Y_given_X[1, 0]}\")\n",
    "print(f\"P(Y = 1 | X = 1) = {P_Y_given_X[1, 1]}\")\n",
    "print(f\"The sum of the probabilities is {np.sum(P_Y_given_X, axis=1)}\")\n",
    "\n",
    "# Probability of Z given Y\n",
    "joint_YZ = np.sum(random, axis=0) # P(Y, Z) - remove the influence X then use conditional probability formula\n",
    "P_Z_given_Y = joint_YZ / P_Y[:, None] # P(Z | Y) = P(Y, Z) / P(Y) # NOTE: Here we are creating the conditional probability table between a child and its parent\n",
    "print(f\"P(Z = 0 | Y = 0) = {P_Z_given_Y[0, 0]}\")\n",
    "print(f\"P(Z = 1 | Y = 0) = {P_Z_given_Y[0, 1]}\")\n",
    "print(f\"P(Z = 0 | Y = 1) = {P_Z_given_Y[1, 0]}\")\n",
    "print(f\"P(Z = 1 | Y = 1) = {P_Z_given_Y[1, 1]}\")\n",
    "print(f\"The sum of the probabilities is {np.sum(P_Z_given_Y, axis=1)}\")"
   ]
  },
  {
   "cell_type": "markdown",
   "metadata": {},
   "source": [
    "(b) Write a code that verifies whether a distribution is a valid BN distribution.\n"
   ]
  },
  {
   "cell_type": "code",
   "execution_count": 8,
   "metadata": {},
   "outputs": [
    {
     "name": "stdout",
     "output_type": "stream",
     "text": [
      "Is the random distribution a valid BN factorization? False\n"
     ]
    }
   ],
   "source": [
    "def check_bn_validity(P):\n",
    "    \"\"\"\n",
    "    Checks if P(X, Y, Z) factorizes as P(X) P(Y|X) P(Z|Y)\n",
    "    To find P(X) we need to sum over Y and Z, to find P(Y|X) we need to sum over Z and to find P(Z|Y) we need to sum over X.\n",
    "    \n",
    "    We can use the numpy sum function with the axis parameter to sum over the desired axes.\n",
    "    \n",
    "    X = 0 axis, Y = 1 axis, Z = 2 axis\n",
    "    \n",
    "    \n",
    "    \"\"\"\n",
    "    P_X = np.sum(P, axis=(1, 2))  # Marginal P(X)\n",
    "    ''' \n",
    "    conditional probability P(Y|X) = P(X, Y) / P(X) where P(X, Y) = summing over Z\n",
    "    '''\n",
    "    P_Y_given_X = np.sum(P, axis=2) / P_X[:, None]  # Conditional P(Y|X)\n",
    "    '''\n",
    "    conditional probability P(Z|Y) = P(Y, Z) / P(Y) where P(Y, Z) = summing over X\n",
    "    \n",
    "    '''\n",
    "    P_Z_given_Y = P / np.sum(P, axis=0) / np.sum(P, axis=(0, 2))[:, None]  # Conditional P(Z|Y)\n",
    "    \n",
    "    # Reconstruct P(X, Y, Z) using the BN factorization\n",
    "    P_reconstructed = np.zeros((2, 2, 2))\n",
    "    for x in range(2):\n",
    "        for y in range(2):\n",
    "            for z in range(2):\n",
    "                P_reconstructed[x, y, z] = P_X[x] * P_Y_given_X[x, y] * P_Z_given_Y[x, y, z]\n",
    "    \n",
    "    return np.allclose(P, P_reconstructed, atol=1e-5)\n",
    "\n",
    "print(f\"Is the random distribution a valid BN factorization? {check_bn_validity(random)}\")"
   ]
  },
  {
   "cell_type": "markdown",
   "metadata": {},
   "source": [
    "(c) Using your code, generate 10000 distributions and compute the fraction of distributions that are valid BN distributions."
   ]
  },
  {
   "cell_type": "code",
   "execution_count": 14,
   "metadata": {},
   "outputs": [
    {
     "name": "stdout",
     "output_type": "stream",
     "text": [
      "Fraction of valid BN distributions: 0.0000\n"
     ]
    }
   ],
   "source": [
    "def estimate_valid_bn_fraction(num_samples=10000):\n",
    "    \"\"\"Generates num_samples distributions and computes the fraction that are valid BN distributions.\"\"\"\n",
    "    valid_count = 0\n",
    "    for _ in range(num_samples):\n",
    "        P = generate_random_distribution()\n",
    "        if check_bn_validity(P):\n",
    "            valid_count += 1\n",
    "    return valid_count / num_samples\n",
    "\n",
    "valid_fraction = estimate_valid_bn_fraction()\n",
    "print(f\"Fraction of valid BN distributions: {valid_fraction:.4f}\")"
   ]
  },
  {
   "cell_type": "code",
   "execution_count": null,
   "metadata": {},
   "outputs": [],
   "source": []
  },
  {
   "cell_type": "code",
   "execution_count": null,
   "metadata": {},
   "outputs": [],
   "source": []
  }
 ],
 "metadata": {
  "kernelspec": {
   "display_name": "EnvMaths",
   "language": "python",
   "name": "python3"
  },
  "language_info": {
   "codemirror_mode": {
    "name": "ipython",
    "version": 3
   },
   "file_extension": ".py",
   "mimetype": "text/x-python",
   "name": "python",
   "nbconvert_exporter": "python",
   "pygments_lexer": "ipython3",
   "version": "3.12.3"
  }
 },
 "nbformat": 4,
 "nbformat_minor": 2
}
