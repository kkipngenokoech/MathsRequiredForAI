{
 "cells": [
  {
   "cell_type": "markdown",
   "metadata": {},
   "source": [
    "# MONTY HALL"
   ]
  },
  {
   "cell_type": "code",
   "execution_count": 1,
   "metadata": {},
   "outputs": [
    {
     "name": "stdout",
     "output_type": "stream",
     "text": [
      "Keeping the original door\n",
      "P(X=1) = 0.317   | P(X=0) = 0.683\n",
      "************************************************** \n",
      "\n",
      "Switch the door\n",
      "P(X=1) = 0.683   | P(X=0) = 0.317\n",
      "************************************************** \n",
      "\n",
      "Randomly switch the door with a probability of 0.5\n",
      "P(X=1) = 0.524   | P(X=0) = 0.476\n"
     ]
    }
   ],
   "source": [
    "import random\n",
    "\n",
    "def initialize() -> tuple:\n",
    "    \"\"\"\n",
    "    This function creates and returns a list of three integers. Two zeroes \"0\" and a \"1\".\n",
    "    The position of the \"1\" in the list is random.\n",
    "    e.g: return [0,0,1] \n",
    "    \"\"\"\n",
    "    doors = [0,0,1]\n",
    "    random.shuffle(doors)\n",
    "    return doors, doors.index(1)\n",
    "\n",
    "def player_choice() -> int:\n",
    "    \"\"\"\n",
    "    This function returns a random number between 0 and 2 (inclusive).\n",
    "    It will represent the choice of the player among the three doors.\n",
    "    It is between 0 and 2 because it's an index that will used to access the choice in an array.\n",
    "    \"\"\"\n",
    "    return random.randint(0,2)\n",
    "\n",
    "def host_choice(doors: list, prize_index:int, player_index:int) -> int:\n",
    "    \"\"\"\n",
    "    This is the door that the host reveals after the player chose a door.\n",
    "    If a player chose a door the host should reveal another door with no prize.\n",
    "    The index is between 0 and 2.\n",
    "\n",
    "    Parameters\n",
    "    ----------\n",
    "    :param doors: a list of three elements. e.g. [1,0,0]\n",
    "    :param prize_index: the index of the \"1\" in the list. e.g. 0\n",
    "    :param player_index: the index of the door chosen by the player. e.g. If the player chose the third door it's 2\n",
    "    :return: the index of the door chose by the host. e.g. 1\n",
    "    \"\"\"\n",
    "    return random.choice([i for i in range(3) if i != player_index and i != prize_index])\n",
    "\n",
    "def get_alt_index(doors: list, player_index:int, host_index:int) -> int:\n",
    "    \"\"\"\n",
    "    Given the player's choice and the host's choice, this helper function returns the index of the remaining door.\n",
    "    e.g. if the list is [0,1,0], the player's choice is 0 and the host's choice is 2, this function returns 1.\n",
    "    \"\"\"\n",
    "    return [i for i in range(3) if i != player_index and i != host_index][0]\n",
    "\n",
    "def play_game(switching_prob=0):\n",
    "    \"\"\"\n",
    "    You don't have to modify this function.\n",
    "    switching_prob is the probability that the player switches the original door that he chose.\n",
    "    This function simulates the game once and returns the number behind the final choice of the player.\n",
    "    1 means that the player won a prize, 0 means that he didn't.\n",
    "    \"\"\"\n",
    "    doors, prize_index = initialize()\n",
    "    player_index = player_choice()\n",
    "    host_index = host_choice(doors, prize_index, player_index)\n",
    "    alt_index = get_alt_index(doors, player_index, host_index)\n",
    "\n",
    "    final_index = random.choices([player_index, alt_index], \n",
    "    weights=[1-switching_prob,switching_prob], k=1)[0]\n",
    "\n",
    "    return doors[final_index]\n",
    "\n",
    "def simulate(n=1000):\n",
    "    \"\"\"\n",
    "    You don't have to modify this function either.\n",
    "    It simulates the game n times and displays the probabilities of winning the prize, for three scenarios.\n",
    "    X=1 means that the player won the prize and X=0 means that he didn't.\n",
    "    \"\"\"\n",
    "    result_1, result_2, result_3 = [], [], []\n",
    "    for i in range(n):\n",
    "        result_1.append(play_game(switching_prob=0))\n",
    "        result_2.append(play_game(switching_prob=1))\n",
    "        result_3.append(play_game(switching_prob=0.5))\n",
    "    \n",
    "    print(f\"Keeping the original door\")\n",
    "    print(f\"P(X=1) = {result_1.count(1)/len(result_1)}   | P(X=0) = {result_1.count(0)/len(result_1)}\")\n",
    "    print(\"*\"*50, \"\\n\")\n",
    "    print(f\"Switch the door\")\n",
    "    print(f\"P(X=1) = {result_2.count(1)/len(result_2)}   | P(X=0) = {result_2.count(0)/len(result_2)}\")\n",
    "    print(\"*\"*50, \"\\n\")\n",
    "    print(f\"Randomly switch the door with a probability of 0.5\")\n",
    "    print(f\"P(X=1) = {result_3.count(1)/len(result_3)}   | P(X=0) = {result_3.count(0)/len(result_3)}\")\n",
    "\n",
    "if __name__ == \"__main__\":\n",
    "    simulate(1_000)\n"
   ]
  }
 ],
 "metadata": {
  "kernelspec": {
   "display_name": "EnvMaths",
   "language": "python",
   "name": "python3"
  },
  "language_info": {
   "codemirror_mode": {
    "name": "ipython",
    "version": 3
   },
   "file_extension": ".py",
   "mimetype": "text/x-python",
   "name": "python",
   "nbconvert_exporter": "python",
   "pygments_lexer": "ipython3",
   "version": "3.12.3"
  }
 },
 "nbformat": 4,
 "nbformat_minor": 2
}
