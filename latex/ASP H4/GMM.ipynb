{
 "cells": [
  {
   "cell_type": "markdown",
   "metadata": {},
   "source": [
    "## Generate the Synthetic Dataset"
   ]
  },
  {
   "cell_type": "code",
   "execution_count": 3,
   "metadata": {},
   "outputs": [],
   "source": [
    "import numpy as np\n",
    "\n",
    "# Set random seed for reproducibility\n",
    "np.random.seed(42)\n",
    "\n",
    "# Parameters of the Gaussian mixture model\n",
    "mu1, sigma1, pi1 = 0, 1, 0.3\n",
    "mu2, sigma2, pi2 = 5, np.sqrt(2), 0.7\n",
    "n_samples = 1000\n",
    "\n",
    "# Generate samples\n",
    "samples = []\n",
    "for _ in range(n_samples):\n",
    "    # Choose which component to sample from\n",
    "    if np.random.rand() < pi1:\n",
    "        samples.append(np.random.normal(mu1, sigma1))\n",
    "    else:\n",
    "        samples.append(np.random.normal(mu2, sigma2))\n",
    "\n",
    "# Convert to a numpy array\n",
    "samples = np.array(samples)\n"
   ]
  },
  {
   "cell_type": "markdown",
   "metadata": {},
   "source": [
    "## Implementing the EM Algorithm"
   ]
  },
  {
   "cell_type": "code",
   "execution_count": 4,
   "metadata": {},
   "outputs": [
    {
     "name": "stdout",
     "output_type": "stream",
     "text": [
      "Estimated mu1: -0.019018690681499605, sigma1: 0.9416575998627877, pi1: 0.2926035819920777\n",
      "Estimated mu2: 5.013590145860436, sigma2: 1.4295614962171463, pi2: 0.7073964180079222\n"
     ]
    }
   ],
   "source": [
    "# Initial parameters\n",
    "np.random.seed(42)\n",
    "mu1_est, mu2_est = np.random.choice(samples, 2)  # random initial means\n",
    "sigma1_est, sigma2_est = np.std(samples), np.std(samples)  # initial std deviations\n",
    "pi1_est, pi2_est = 0.5, 0.5  # initial mixing proportions\n",
    "\n",
    "# EM algorithm parameters\n",
    "max_iter = 100\n",
    "tol = 1e-6\n",
    "n = len(samples)\n",
    "\n",
    "# Helper function for Gaussian PDF\n",
    "def gaussian_pdf(x, mean, std):\n",
    "    return (1 / (np.sqrt(2 * np.pi) * std)) * np.exp(-0.5 * ((x - mean) / std) ** 2)\n",
    "\n",
    "# EM algorithm\n",
    "for iteration in range(max_iter):\n",
    "    # E-step: Compute responsibilities\n",
    "    r1 = pi1_est * gaussian_pdf(samples, mu1_est, sigma1_est)\n",
    "    r2 = pi2_est * gaussian_pdf(samples, mu2_est, sigma2_est)\n",
    "    total = r1 + r2\n",
    "    gamma1 = r1 / total\n",
    "    gamma2 = r2 / total\n",
    "    \n",
    "    # M-step: Update parameters\n",
    "    N1 = np.sum(gamma1)\n",
    "    N2 = np.sum(gamma2)\n",
    "    \n",
    "    # Update means\n",
    "    mu1_new = np.sum(gamma1 * samples) / N1\n",
    "    mu2_new = np.sum(gamma2 * samples) / N2\n",
    "    \n",
    "    # Update variances\n",
    "    sigma1_new = np.sqrt(np.sum(gamma1 * (samples - mu1_new) ** 2) / N1)\n",
    "    sigma2_new = np.sqrt(np.sum(gamma2 * (samples - mu2_new) ** 2) / N2)\n",
    "    \n",
    "    # Update mixing coefficients\n",
    "    pi1_new = N1 / n\n",
    "    pi2_new = N2 / n\n",
    "    \n",
    "    # Check for convergence\n",
    "    if (\n",
    "        np.abs(mu1_new - mu1_est) < tol and\n",
    "        np.abs(mu2_new - mu2_est) < tol and\n",
    "        np.abs(sigma1_new - sigma1_est) < tol and\n",
    "        np.abs(sigma2_new - sigma2_est) < tol\n",
    "    ):\n",
    "        break\n",
    "    \n",
    "    # Update parameters for the next iteration\n",
    "    mu1_est, mu2_est = mu1_new, mu2_new\n",
    "    sigma1_est, sigma2_est = sigma1_new, sigma2_new\n",
    "    pi1_est, pi2_est = pi1_new, pi2_new\n",
    "\n",
    "# Final estimates\n",
    "print(f\"Estimated mu1: {mu1_est}, sigma1: {sigma1_est}, pi1: {pi1_est}\")\n",
    "print(f\"Estimated mu2: {mu2_est}, sigma2: {sigma2_est}, pi2: {pi2_est}\")\n"
   ]
  },
  {
   "cell_type": "markdown",
   "metadata": {},
   "source": [
    "## Compare the estimated parameters with the true parameters and discuss the results."
   ]
  },
  {
   "cell_type": "markdown",
   "metadata": {},
   "source": [
    "### True Parameters\n",
    "- Mean of first Gaussian component (mu1): 0\n",
    "- Standard deviation of first Gaussian component (sigma1): 1\n",
    "- Mixing coefficient of first Gaussian component (pi1): 0.3\n",
    "\n",
    "- Mean of second Gaussian component (mu2): 5\n",
    "- Standard deviation of second Gaussian component (sigma2): sqrt(2) ≈ 1.414\n",
    "- Mixing coefficient of second Gaussian component (pi2): 0.7\n",
    "\n",
    "### Estimated Parameters\n",
    "- Mean of first Gaussian component (mu1_est): -0.019\n",
    "- Standard deviation of first Gaussian component (sigma1_est): 0.942\n",
    "- Mixing coefficient of first Gaussian component (pi1_est): 0.293\n",
    "\n",
    "- Mean of second Gaussian component (mu2_est): 5.014\n",
    "- Standard deviation of second Gaussian component (sigma2_est): 1.430\n",
    "- Mixing coefficient of second Gaussian component (pi2_est): 0.707\n",
    "\n",
    "### Discussion\n",
    "The estimated parameters are quite close to the true parameters, indicating that the EM algorithm has performed well in estimating the parameters of the Gaussian mixture model. Here are some observations:\n",
    "\n",
    "- **Means (mu1 and mu2)**: The estimated means are very close to the true means. The slight deviation in `mu1_est` from `mu1` is minimal and can be attributed to the randomness in the data generation and the iterative nature of the EM algorithm.\n",
    "  \n",
    "- **Standard Deviations (sigma1 and sigma2)**: The estimated standard deviations are also close to the true values. The slight overestimation of `sigma2_est` compared to `sigma2` might be due to the variability in the data and the convergence criteria of the EM algorithm.\n",
    "\n",
    "- **Mixing Coefficients (pi1 and pi2)**: The estimated mixing coefficients are very close to the true values, indicating that the algorithm has correctly identified the proportion of each component in the mixture.\n",
    "\n",
    "Overall, the EM algorithm has successfully estimated the parameters of the Gaussian mixture model, with minor deviations that are expected in practical scenarios.\n"
   ]
  },
  {
   "cell_type": "markdown",
   "metadata": {},
   "source": []
  }
 ],
 "metadata": {
  "kernelspec": {
   "display_name": "EnvMaths",
   "language": "python",
   "name": "python3"
  },
  "language_info": {
   "codemirror_mode": {
    "name": "ipython",
    "version": 3
   },
   "file_extension": ".py",
   "mimetype": "text/x-python",
   "name": "python",
   "nbconvert_exporter": "python",
   "pygments_lexer": "ipython3",
   "version": "3.12.3"
  }
 },
 "nbformat": 4,
 "nbformat_minor": 2
}
