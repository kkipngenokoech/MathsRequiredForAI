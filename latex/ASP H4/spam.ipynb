{
 "cells": [
  {
   "cell_type": "markdown",
   "metadata": {},
   "source": [
    "# MAXIMUM LIKELYHOOD ESTIMATOR\n",
    "\n",
    "What this notebook does is:\n",
    "\n",
    "1. gets a table (dataframe) of messages classified as spam or ham, preprocess it and split it into training and test dataset\n",
    "2. processing done is converting all the words to lowercase and removing the punctuation marks. In addition to that, we have tokenized every word so that we can sum up the amounts of time a word has appeared as either spam or ham\n",
    "3. We would then later on use this for predictions in an \"**unseen words**\""
   ]
  },
  {
   "cell_type": "markdown",
   "metadata": {},
   "source": [
    "# data loading & pre-processing"
   ]
  },
  {
   "cell_type": "code",
   "execution_count": 8,
   "metadata": {},
   "outputs": [
    {
     "data": {
      "text/html": [
       "<div>\n",
       "<style scoped>\n",
       "    .dataframe tbody tr th:only-of-type {\n",
       "        vertical-align: middle;\n",
       "    }\n",
       "\n",
       "    .dataframe tbody tr th {\n",
       "        vertical-align: top;\n",
       "    }\n",
       "\n",
       "    .dataframe thead th {\n",
       "        text-align: right;\n",
       "    }\n",
       "</style>\n",
       "<table border=\"1\" class=\"dataframe\">\n",
       "  <thead>\n",
       "    <tr style=\"text-align: right;\">\n",
       "      <th></th>\n",
       "      <th>label</th>\n",
       "      <th>message</th>\n",
       "    </tr>\n",
       "  </thead>\n",
       "  <tbody>\n",
       "    <tr>\n",
       "      <th>0</th>\n",
       "      <td>ham</td>\n",
       "      <td>Go until jurong point, crazy.. Available only ...</td>\n",
       "    </tr>\n",
       "    <tr>\n",
       "      <th>1</th>\n",
       "      <td>ham</td>\n",
       "      <td>Ok lar... Joking wif u oni...</td>\n",
       "    </tr>\n",
       "    <tr>\n",
       "      <th>2</th>\n",
       "      <td>spam</td>\n",
       "      <td>Free entry in 2 a wkly comp to win FA Cup fina...</td>\n",
       "    </tr>\n",
       "    <tr>\n",
       "      <th>3</th>\n",
       "      <td>ham</td>\n",
       "      <td>U dun say so early hor... U c already then say...</td>\n",
       "    </tr>\n",
       "    <tr>\n",
       "      <th>4</th>\n",
       "      <td>ham</td>\n",
       "      <td>Nah I don't think he goes to usf, he lives aro...</td>\n",
       "    </tr>\n",
       "  </tbody>\n",
       "</table>\n",
       "</div>"
      ],
      "text/plain": [
       "  label                                            message\n",
       "0   ham  Go until jurong point, crazy.. Available only ...\n",
       "1   ham                      Ok lar... Joking wif u oni...\n",
       "2  spam  Free entry in 2 a wkly comp to win FA Cup fina...\n",
       "3   ham  U dun say so early hor... U c already then say...\n",
       "4   ham  Nah I don't think he goes to usf, he lives aro..."
      ]
     },
     "execution_count": 8,
     "metadata": {},
     "output_type": "execute_result"
    }
   ],
   "source": [
    "import pandas as pd\n",
    "import os\n",
    "# Check if the file exists in the specified path\n",
    "\n",
    "# Load the SMS spam dataset\n",
    "file_path = 'SMSSpamCollection'\n",
    "df = pd.read_csv(file_path, sep='\\t', header=None, names=['label', 'message'])\n",
    "\n",
    "# Display the first few rows of the dataframe\n",
    "df.head()"
   ]
  },
  {
   "cell_type": "markdown",
   "metadata": {},
   "source": [
    "## Preprocess The Text Messages"
   ]
  },
  {
   "cell_type": "code",
   "execution_count": 25,
   "metadata": {},
   "outputs": [
    {
     "data": {
      "text/html": [
       "<div>\n",
       "<style scoped>\n",
       "    .dataframe tbody tr th:only-of-type {\n",
       "        vertical-align: middle;\n",
       "    }\n",
       "\n",
       "    .dataframe tbody tr th {\n",
       "        vertical-align: top;\n",
       "    }\n",
       "\n",
       "    .dataframe thead th {\n",
       "        text-align: right;\n",
       "    }\n",
       "</style>\n",
       "<table border=\"1\" class=\"dataframe\">\n",
       "  <thead>\n",
       "    <tr style=\"text-align: right;\">\n",
       "      <th></th>\n",
       "      <th>label</th>\n",
       "      <th>message</th>\n",
       "      <th>processed_message</th>\n",
       "    </tr>\n",
       "  </thead>\n",
       "  <tbody>\n",
       "    <tr>\n",
       "      <th>0</th>\n",
       "      <td>ham</td>\n",
       "      <td>Go until jurong point, crazy.. Available only ...</td>\n",
       "      <td>[go, until, jurong, point, crazy, available, o...</td>\n",
       "    </tr>\n",
       "    <tr>\n",
       "      <th>1</th>\n",
       "      <td>ham</td>\n",
       "      <td>Ok lar... Joking wif u oni...</td>\n",
       "      <td>[ok, lar, joking, wif, u, oni]</td>\n",
       "    </tr>\n",
       "    <tr>\n",
       "      <th>2</th>\n",
       "      <td>spam</td>\n",
       "      <td>Free entry in 2 a wkly comp to win FA Cup fina...</td>\n",
       "      <td>[free, entry, in, 2, a, wkly, comp, to, win, f...</td>\n",
       "    </tr>\n",
       "    <tr>\n",
       "      <th>3</th>\n",
       "      <td>ham</td>\n",
       "      <td>U dun say so early hor... U c already then say...</td>\n",
       "      <td>[u, dun, say, so, early, hor, u, c, already, t...</td>\n",
       "    </tr>\n",
       "    <tr>\n",
       "      <th>4</th>\n",
       "      <td>ham</td>\n",
       "      <td>Nah I don't think he goes to usf, he lives aro...</td>\n",
       "      <td>[nah, i, dont, think, he, goes, to, usf, he, l...</td>\n",
       "    </tr>\n",
       "    <tr>\n",
       "      <th>5</th>\n",
       "      <td>spam</td>\n",
       "      <td>FreeMsg Hey there darling it's been 3 week's n...</td>\n",
       "      <td>[freemsg, hey, there, darling, its, been, 3, w...</td>\n",
       "    </tr>\n",
       "    <tr>\n",
       "      <th>6</th>\n",
       "      <td>ham</td>\n",
       "      <td>Even my brother is not like to speak with me. ...</td>\n",
       "      <td>[even, my, brother, is, not, like, to, speak, ...</td>\n",
       "    </tr>\n",
       "    <tr>\n",
       "      <th>7</th>\n",
       "      <td>ham</td>\n",
       "      <td>As per your request 'Melle Melle (Oru Minnamin...</td>\n",
       "      <td>[as, per, your, request, melle, melle, oru, mi...</td>\n",
       "    </tr>\n",
       "    <tr>\n",
       "      <th>8</th>\n",
       "      <td>spam</td>\n",
       "      <td>WINNER!! As a valued network customer you have...</td>\n",
       "      <td>[winner, as, a, valued, network, customer, you...</td>\n",
       "    </tr>\n",
       "    <tr>\n",
       "      <th>9</th>\n",
       "      <td>spam</td>\n",
       "      <td>Had your mobile 11 months or more? U R entitle...</td>\n",
       "      <td>[had, your, mobile, 11, months, or, more, u, r...</td>\n",
       "    </tr>\n",
       "    <tr>\n",
       "      <th>10</th>\n",
       "      <td>ham</td>\n",
       "      <td>I'm gonna be home soon and i don't want to tal...</td>\n",
       "      <td>[im, gonna, be, home, soon, and, i, dont, want...</td>\n",
       "    </tr>\n",
       "    <tr>\n",
       "      <th>11</th>\n",
       "      <td>spam</td>\n",
       "      <td>SIX chances to win CASH! From 100 to 20,000 po...</td>\n",
       "      <td>[six, chances, to, win, cash, from, 100, to, 2...</td>\n",
       "    </tr>\n",
       "    <tr>\n",
       "      <th>12</th>\n",
       "      <td>spam</td>\n",
       "      <td>URGENT! You have won a 1 week FREE membership ...</td>\n",
       "      <td>[urgent, you, have, won, a, 1, week, free, mem...</td>\n",
       "    </tr>\n",
       "    <tr>\n",
       "      <th>13</th>\n",
       "      <td>ham</td>\n",
       "      <td>I've been searching for the right words to tha...</td>\n",
       "      <td>[ive, been, searching, for, the, right, words,...</td>\n",
       "    </tr>\n",
       "    <tr>\n",
       "      <th>14</th>\n",
       "      <td>ham</td>\n",
       "      <td>I HAVE A DATE ON SUNDAY WITH WILL!!</td>\n",
       "      <td>[i, have, a, date, on, sunday, with, will]</td>\n",
       "    </tr>\n",
       "    <tr>\n",
       "      <th>15</th>\n",
       "      <td>spam</td>\n",
       "      <td>XXXMobileMovieClub: To use your credit, click ...</td>\n",
       "      <td>[xxxmobilemovieclub, to, use, your, credit, cl...</td>\n",
       "    </tr>\n",
       "    <tr>\n",
       "      <th>16</th>\n",
       "      <td>ham</td>\n",
       "      <td>Oh k...i'm watching here:)</td>\n",
       "      <td>[oh, kim, watching, here]</td>\n",
       "    </tr>\n",
       "    <tr>\n",
       "      <th>17</th>\n",
       "      <td>ham</td>\n",
       "      <td>Eh u remember how 2 spell his name... Yes i di...</td>\n",
       "      <td>[eh, u, remember, how, 2, spell, his, name, ye...</td>\n",
       "    </tr>\n",
       "    <tr>\n",
       "      <th>18</th>\n",
       "      <td>ham</td>\n",
       "      <td>Fine if thats the way u feel. Thats the way ...</td>\n",
       "      <td>[fine, if, thats, the, way, u, feel, thats, th...</td>\n",
       "    </tr>\n",
       "    <tr>\n",
       "      <th>19</th>\n",
       "      <td>spam</td>\n",
       "      <td>England v Macedonia - dont miss the goals/team...</td>\n",
       "      <td>[england, v, macedonia, dont, miss, the, goals...</td>\n",
       "    </tr>\n",
       "  </tbody>\n",
       "</table>\n",
       "</div>"
      ],
      "text/plain": [
       "   label                                            message  \\\n",
       "0    ham  Go until jurong point, crazy.. Available only ...   \n",
       "1    ham                      Ok lar... Joking wif u oni...   \n",
       "2   spam  Free entry in 2 a wkly comp to win FA Cup fina...   \n",
       "3    ham  U dun say so early hor... U c already then say...   \n",
       "4    ham  Nah I don't think he goes to usf, he lives aro...   \n",
       "5   spam  FreeMsg Hey there darling it's been 3 week's n...   \n",
       "6    ham  Even my brother is not like to speak with me. ...   \n",
       "7    ham  As per your request 'Melle Melle (Oru Minnamin...   \n",
       "8   spam  WINNER!! As a valued network customer you have...   \n",
       "9   spam  Had your mobile 11 months or more? U R entitle...   \n",
       "10   ham  I'm gonna be home soon and i don't want to tal...   \n",
       "11  spam  SIX chances to win CASH! From 100 to 20,000 po...   \n",
       "12  spam  URGENT! You have won a 1 week FREE membership ...   \n",
       "13   ham  I've been searching for the right words to tha...   \n",
       "14   ham                I HAVE A DATE ON SUNDAY WITH WILL!!   \n",
       "15  spam  XXXMobileMovieClub: To use your credit, click ...   \n",
       "16   ham                         Oh k...i'm watching here:)   \n",
       "17   ham  Eh u remember how 2 spell his name... Yes i di...   \n",
       "18   ham  Fine if thats the way u feel. Thats the way ...   \n",
       "19  spam  England v Macedonia - dont miss the goals/team...   \n",
       "\n",
       "                                    processed_message  \n",
       "0   [go, until, jurong, point, crazy, available, o...  \n",
       "1                      [ok, lar, joking, wif, u, oni]  \n",
       "2   [free, entry, in, 2, a, wkly, comp, to, win, f...  \n",
       "3   [u, dun, say, so, early, hor, u, c, already, t...  \n",
       "4   [nah, i, dont, think, he, goes, to, usf, he, l...  \n",
       "5   [freemsg, hey, there, darling, its, been, 3, w...  \n",
       "6   [even, my, brother, is, not, like, to, speak, ...  \n",
       "7   [as, per, your, request, melle, melle, oru, mi...  \n",
       "8   [winner, as, a, valued, network, customer, you...  \n",
       "9   [had, your, mobile, 11, months, or, more, u, r...  \n",
       "10  [im, gonna, be, home, soon, and, i, dont, want...  \n",
       "11  [six, chances, to, win, cash, from, 100, to, 2...  \n",
       "12  [urgent, you, have, won, a, 1, week, free, mem...  \n",
       "13  [ive, been, searching, for, the, right, words,...  \n",
       "14         [i, have, a, date, on, sunday, with, will]  \n",
       "15  [xxxmobilemovieclub, to, use, your, credit, cl...  \n",
       "16                          [oh, kim, watching, here]  \n",
       "17  [eh, u, remember, how, 2, spell, his, name, ye...  \n",
       "18  [fine, if, thats, the, way, u, feel, thats, th...  \n",
       "19  [england, v, macedonia, dont, miss, the, goals...  "
      ]
     },
     "execution_count": 25,
     "metadata": {},
     "output_type": "execute_result"
    }
   ],
   "source": [
    "import re\n",
    "# Function to preprocess text\n",
    "def preprocess_text(text):\n",
    "    # Convert to lowercase\n",
    "    text = text.lower()\n",
    "    # Remove punctuations and special characters\n",
    "    text = re.sub(r'[^a-zA-Z0-9\\s]', '', text)\n",
    "    # Tokenize the text\n",
    "    tokens = re.findall(r'\\b\\w+\\b', text)\n",
    "    return tokens\n",
    "\n",
    "# Apply the preprocessing function to the 'message' column\n",
    "df['processed_message'] = df['message'].apply(preprocess_text)\n",
    "\n",
    "# Display the first few rows of the dataframe with the processed messages\n",
    "df.head(20)"
   ]
  },
  {
   "cell_type": "markdown",
   "metadata": {},
   "source": [
    "## Splitting the dataset into training & test sets"
   ]
  },
  {
   "cell_type": "code",
   "execution_count": 30,
   "metadata": {},
   "outputs": [
    {
     "name": "stdout",
     "output_type": "stream",
     "text": [
      "Training set class distribution:\n",
      "label\n",
      "ham     0.865829\n",
      "spam    0.134171\n",
      "Name: proportion, dtype: float64\n",
      "Test set class distribution:\n",
      "label\n",
      "ham     0.866368\n",
      "spam    0.133632\n",
      "Name: proportion, dtype: float64\n"
     ]
    }
   ],
   "source": [
    "from sklearn.model_selection import train_test_split\n",
    "\n",
    "# Split the dataset into training and test sets while maintaining the same class distribution\n",
    "train_df, test_df = train_test_split(df, test_size=0.2, stratify=df['label'], random_state=42)\n",
    "\n",
    "# Display the class distribution in the training set\n",
    "print(\"Training set class distribution:\")\n",
    "print(train_df['label'].value_counts(normalize=True))\n",
    "\n",
    "# Display the class distribution in the test set\n",
    "print(\"Test set class distribution:\")\n",
    "print(test_df['label'].value_counts(normalize=True))"
   ]
  },
  {
   "cell_type": "markdown",
   "metadata": {},
   "source": [
    "## Maximum Likelyhood Estimator"
   ]
  },
  {
   "cell_type": "markdown",
   "metadata": {},
   "source": [
    "output is the probability of each word in the dataframe, appearing in the spam and ham folder :)"
   ]
  },
  {
   "cell_type": "markdown",
   "metadata": {},
   "source": [
    "(number of occurences of that word in class)/ (total number of words in the class)"
   ]
  },
  {
   "cell_type": "code",
   "execution_count": null,
   "metadata": {},
   "outputs": [
    {
     "name": "stdout",
     "output_type": "stream",
     "text": [
      "Word: he, P(word|spam): 0.0016666666666666668, P(word|ham): 0.036001036001036\n",
      "Word: will, P(word|spam): 0.06666666666666667, P(word|ham): 0.06837606837606838\n",
      "Word: you, P(word|spam): 0.39166666666666666, P(word|ham): 0.37166537166537167\n",
      "Word: guys, P(word|spam): 0.006666666666666667, P(word|ham): 0.007511007511007511\n",
      "Word: close, P(word|spam): 0.006666666666666667, P(word|ham): 0.003108003108003108\n",
      "Word: can, P(word|spam): 0.04, P(word|ham): 0.07433307433307433\n",
      "Word: i, P(word|spam): 0.058333333333333334, P(word|ham): 0.4506604506604507\n",
      "Word: please, P(word|spam): 0.07666666666666666, P(word|ham): 0.015022015022015021\n",
      "Word: come, P(word|spam): 0.005, P(word|ham): 0.0473970473970474\n",
      "Word: up, P(word|spam): 0.025, P(word|ham): 0.060088060088060086\n",
      "Word: now, P(word|spam): 0.24666666666666667, P(word|ham): 0.06216006216006216\n",
      "Word: imin, P(word|spam): 0.0016666666666666668, P(word|ham): 0.000518000518000518\n",
      "Word: towndontmatter, P(word|spam): 0.0016666666666666668, P(word|ham): 0.000518000518000518\n",
      "Word: if, P(word|spam): 0.04, P(word|ham): 0.07174307174307175\n",
      "Word: urgoin, P(word|spam): 0.0016666666666666668, P(word|ham): 0.000518000518000518\n",
      "Word: outl8rjust, P(word|spam): 0.0016666666666666668, P(word|ham): 0.000518000518000518\n",
      "Word: reallyneed, P(word|spam): 0.0016666666666666668, P(word|ham): 0.000518000518000518\n",
      "Word: 2docdplease, P(word|spam): 0.0016666666666666668, P(word|ham): 0.000518000518000518\n",
      "Word: dontplease, P(word|spam): 0.0016666666666666668, P(word|ham): 0.000518000518000518\n",
      "Word: dontignore, P(word|spam): 0.0016666666666666668, P(word|ham): 0.000518000518000518\n"
     ]
    }
   ],
   "source": [
    "from collections import defaultdict\n",
    "# Calculate the frequency of each word in each class\n",
    "# word counts[word][class] = count of the word in that class (This dictionary will store how many times each word appears in both the \"spam\" and \"ham\" classes. For each word, it starts with a count of 0 for both \"spam\" and \"ham.\")\n",
    "word_counts = defaultdict(lambda: {'spam': 0, 'ham': 0}) # A dict of dicts - word_counts[word][class] = count, initialized to 0\n",
    "# class_counts[class] = count of messages in that class (This dictionary will store the total number of messages in each class. It starts with a count of 0 for both \"spam\" and \"ham.\")\n",
    "class_counts = {'spam': 0, 'ham': 0}\n",
    "\n",
    "# we iterate through each row in the training set and update the word_counts and class_counts dictionaries accordingly.\n",
    "for index, row in train_df.iterrows():\n",
    "    label = row['label'] # Get the class label for this row\n",
    "    class_counts[label] += 1 # Increment the count for the class label\n",
    "    for word in row['processed_message']: # for every word in the list of processed words:\n",
    "        word_counts[word][label] += 1 # Increment the count of the word for the class label (ideally we are saying that this word is present in this class this number of times)\n",
    "\n",
    "# Calculate the probability of each word in each class\n",
    "# word_probabilities[word][class] = P(word|class) (This dictionary will store the probability of each word given a class. We calculate this probability by dividing the count of the word in a class by the total number of words in that class.)\n",
    "word_probabilities = defaultdict(lambda: {'spam': 0, 'ham': 0})\n",
    "# we iterate through each word in the word_counts dictionary and calculate the probability of the word given each class.\n",
    "for word, counts in word_counts.items():\n",
    "    word_probabilities[word]['spam'] = (counts['spam'] + 1) / (class_counts['spam'] + 2)\n",
    "    word_probabilities[word]['ham'] = (counts['ham'] + 1) / (class_counts['ham'] + 2)\n",
    "\n",
    "# Display some example probabilities\n",
    "for word in list(word_probabilities.keys())[:20]:\n",
    "    print(f\"Word: {word}, P(word|spam): {word_probabilities[word]['spam']}, P(word|ham): {word_probabilities[word]['ham']}\")"
   ]
  },
  {
   "cell_type": "markdown",
   "metadata": {},
   "source": [
    "## Implement Prediction Function:\n",
    "• Create a function to classify messages using the calculated probabilities and the prior proba-\n",
    "bilities of each clas"
   ]
  },
  {
   "cell_type": "code",
   "execution_count": 33,
   "metadata": {},
   "outputs": [
    {
     "name": "stdout",
     "output_type": "stream",
     "text": [
      "The message is classified as: spam\n"
     ]
    }
   ],
   "source": [
    "import numpy as np\n",
    "\n",
    "def classify_message(message, word_probabilities, class_counts):\n",
    "    # Preprocess the message\n",
    "    processed_message = preprocess_text(message)\n",
    "    \n",
    "    # Calculate the prior probabilities\n",
    "    total_messages = sum(class_counts.values())\n",
    "    prior_spam = class_counts['spam'] / total_messages\n",
    "    prior_ham = class_counts['ham'] / total_messages\n",
    "    \n",
    "    # Initialize the log probabilities with the log of the prior probabilities\n",
    "    log_prob_spam = np.log(prior_spam)\n",
    "    log_prob_ham = np.log(prior_ham)\n",
    "    \n",
    "    # Calculate the log probabilities of the message being spam or ham\n",
    "    for word in processed_message:\n",
    "        if word in word_probabilities:\n",
    "            log_prob_spam += np.log(word_probabilities[word]['spam'])\n",
    "            log_prob_ham += np.log(word_probabilities[word]['ham'])\n",
    "    \n",
    "    # Compare the log probabilities and return the class with the higher probability\n",
    "    if log_prob_spam > log_prob_ham:\n",
    "        return 'spam'\n",
    "    else:\n",
    "        return 'ham'\n",
    "\n",
    "# Example usage\n",
    "example_message = \"Congratulations! You've won a free ticket to the Bahamas. Call now!\"\n",
    "classification = classify_message(example_message, word_probabilities, class_counts)\n",
    "print(f\"The message is classified as: {classification}\")"
   ]
  },
  {
   "cell_type": "code",
   "execution_count": 35,
   "metadata": {},
   "outputs": [
    {
     "name": "stdout",
     "output_type": "stream",
     "text": [
      "Accuracy: 0.8789237668161435\n",
      "Precision: 0.525\n",
      "Recall: 0.9865771812080537\n",
      "F1 Score: 0.6853146853146853\n"
     ]
    }
   ],
   "source": [
    "from sklearn.metrics import accuracy_score, precision_score, recall_score, f1_score\n",
    "\n",
    "# Function to classify messages in the test set\n",
    "def classify_messages(messages, word_probabilities, class_counts):\n",
    "    return [classify_message(message, word_probabilities, class_counts) for message in messages]\n",
    "\n",
    "# Get the true labels and the predicted labels\n",
    "true_labels = test_df['label'].values\n",
    "predicted_labels = classify_messages(test_df['message'].values, word_probabilities, class_counts)\n",
    "\n",
    "# Calculate the evaluation metrics\n",
    "accuracy = accuracy_score(true_labels, predicted_labels)\n",
    "precision = precision_score(true_labels, predicted_labels, pos_label='spam')\n",
    "recall = recall_score(true_labels, predicted_labels, pos_label='spam')\n",
    "f1 = f1_score(true_labels, predicted_labels, pos_label='spam')\n",
    "\n",
    "# Print the evaluation metrics\n",
    "print(f\"Accuracy: {accuracy}\")\n",
    "print(f\"Precision: {precision}\")\n",
    "print(f\"Recall: {recall}\")\n",
    "print(f\"F1 Score: {f1}\")"
   ]
  },
  {
   "cell_type": "markdown",
   "metadata": {},
   "source": [
    "# MAXIMUM A POSTERIORI (map)"
   ]
  },
  {
   "cell_type": "code",
   "execution_count": 36,
   "metadata": {},
   "outputs": [
    {
     "name": "stdout",
     "output_type": "stream",
     "text": [
      "Word: he, P(word|spam): 0.00011123470522803115, P(word|ham): 0.011346012570402415\n",
      "Word: will, P(word|spam): 0.004449388209121246, P(word|ham): 0.021549261284793078\n",
      "Word: you, P(word|spam): 0.02614015572858732, P(word|ham): 0.1171332952412048\n",
      "Word: guys, P(word|spam): 0.0004449388209121246, P(word|ham): 0.0023671537017386337\n",
      "Word: close, P(word|spam): 0.0004449388209121246, P(word|ham): 0.0009795118765815035\n",
      "Word: can, P(word|spam): 0.0026696329254727474, P(word|ham): 0.02342665904824096\n",
      "Word: i, P(word|spam): 0.00389321468298109, P(word|ham): 0.142029222104318\n",
      "Word: please, P(word|spam): 0.005116796440489433, P(word|ham): 0.004734307403477267\n",
      "Word: come, P(word|spam): 0.0003337041156840934, P(word|ham): 0.014937556117867928\n",
      "Word: up, P(word|spam): 0.0016685205784204673, P(word|ham): 0.01893722961390907\n",
      "Word: now, P(word|spam): 0.01646273637374861, P(word|ham): 0.01959023753163007\n",
      "Word: imin, P(word|spam): 0.00011123470522803115, P(word|ham): 0.00016325197943025058\n",
      "Word: towndontmatter, P(word|spam): 0.00011123470522803115, P(word|ham): 0.00016325197943025058\n",
      "Word: if, P(word|spam): 0.0026696329254727474, P(word|ham): 0.022610399151089706\n",
      "Word: urgoin, P(word|spam): 0.00011123470522803115, P(word|ham): 0.00016325197943025058\n",
      "Word: outl8rjust, P(word|spam): 0.00011123470522803115, P(word|ham): 0.00016325197943025058\n",
      "Word: reallyneed, P(word|spam): 0.00011123470522803115, P(word|ham): 0.00016325197943025058\n",
      "Word: 2docdplease, P(word|spam): 0.00011123470522803115, P(word|ham): 0.00016325197943025058\n",
      "Word: dontplease, P(word|spam): 0.00011123470522803115, P(word|ham): 0.00016325197943025058\n",
      "Word: dontignore, P(word|spam): 0.00011123470522803115, P(word|ham): 0.00016325197943025058\n"
     ]
    }
   ],
   "source": [
    "# Calculate the frequency of each word in each class with Laplace smoothing\n",
    "word_counts_laplace = defaultdict(lambda: {'spam': 0, 'ham': 0})\n",
    "class_counts_laplace = {'spam': 0, 'ham': 0}\n",
    "\n",
    "# Iterate through each row in the training set and update the word_counts and class_counts dictionaries accordingly\n",
    "for index, row in train_df.iterrows():\n",
    "    label = row['label']\n",
    "    class_counts_laplace[label] += 1\n",
    "    for word in row['processed_message']:\n",
    "        word_counts_laplace[word][label] += 1\n",
    "\n",
    "# Calculate the probability of each word in each class with Laplace smoothing\n",
    "word_probabilities_laplace = defaultdict(lambda: {'spam': 0, 'ham': 0})\n",
    "vocab_size = len(word_counts_laplace)\n",
    "\n",
    "for word, counts in word_counts_laplace.items():\n",
    "    word_probabilities_laplace[word]['spam'] = (counts['spam'] + 1) / (class_counts_laplace['spam'] + vocab_size)\n",
    "    word_probabilities_laplace[word]['ham'] = (counts['ham'] + 1) / (class_counts_laplace['ham'] + vocab_size)\n",
    "\n",
    "# Display some example probabilities with Laplace smoothing\n",
    "for word in list(word_probabilities_laplace.keys())[:20]:\n",
    "    print(f\"Word: {word}, P(word|spam): {word_probabilities_laplace[word]['spam']}, P(word|ham): {word_probabilities_laplace[word]['ham']}\")"
   ]
  },
  {
   "cell_type": "code",
   "execution_count": 37,
   "metadata": {},
   "outputs": [
    {
     "name": "stdout",
     "output_type": "stream",
     "text": [
      "The message is classified as: spam\n"
     ]
    }
   ],
   "source": [
    "def classify_message_map(message, word_probabilities_laplace, class_counts_laplace):\n",
    "    # Preprocess the message\n",
    "    processed_message = preprocess_text(message)\n",
    "    \n",
    "    # Calculate the prior probabilities\n",
    "    total_messages = sum(class_counts_laplace.values())\n",
    "    prior_spam = class_counts_laplace['spam'] / total_messages\n",
    "    prior_ham = class_counts_laplace['ham'] / total_messages\n",
    "    \n",
    "    # Initialize the log probabilities with the log of the prior probabilities\n",
    "    log_prob_spam = np.log(prior_spam)\n",
    "    log_prob_ham = np.log(prior_ham)\n",
    "    \n",
    "    # Calculate the log probabilities of the message being spam or ham\n",
    "    for word in processed_message:\n",
    "        if word in word_probabilities_laplace:\n",
    "            log_prob_spam += np.log(word_probabilities_laplace[word]['spam'])\n",
    "            log_prob_ham += np.log(word_probabilities_laplace[word]['ham'])\n",
    "    \n",
    "    # Compare the log probabilities and return the class with the higher probability\n",
    "    if log_prob_spam > log_prob_ham:\n",
    "        return 'spam'\n",
    "    else:\n",
    "        return 'ham'\n",
    "\n",
    "# Example usage\n",
    "example_message_map = \"Congratulations! You've won a free ticket to the Bahamas. Call now!\"\n",
    "classification_map = classify_message_map(example_message_map, word_probabilities_laplace, class_counts_laplace)\n",
    "print(f\"The message is classified as: {classification_map}\")"
   ]
  },
  {
   "cell_type": "code",
   "execution_count": 39,
   "metadata": {},
   "outputs": [
    {
     "name": "stdout",
     "output_type": "stream",
     "text": [
      "Accuracy (MAP): 0.957847533632287\n",
      "Precision (MAP): 1.0\n",
      "Recall (MAP): 0.6845637583892618\n",
      "F1 Score (MAP): 0.8127490039840638\n"
     ]
    }
   ],
   "source": [
    "# Get the predicted labels using the MAP classifier\n",
    "predicted_labels_map = classify_messages(test_df['message'].values, word_probabilities_laplace, class_counts_laplace)\n",
    "\n",
    "# Calculate the evaluation metrics for the MAP classifier\n",
    "accuracy_map = accuracy_score(true_labels, predicted_labels_map)\n",
    "precision_map = precision_score(true_labels, predicted_labels_map, pos_label='spam')\n",
    "recall_map = recall_score(true_labels, predicted_labels_map, pos_label='spam')\n",
    "f1_map = f1_score(true_labels, predicted_labels_map, pos_label='spam')\n",
    "\n",
    "# Print the evaluation metrics for the MAP classifier\n",
    "print(f\"Accuracy (MAP): {accuracy_map}\")\n",
    "print(f\"Precision (MAP): {precision_map}\")\n",
    "print(f\"Recall (MAP): {recall_map}\")\n",
    "print(f\"F1 Score (MAP): {f1_map}\")"
   ]
  },
  {
   "cell_type": "code",
   "execution_count": 40,
   "metadata": {},
   "outputs": [
    {
     "data": {
      "image/png": "[encoded data removed]",
      "text/plain": [
       "<Figure size 1000x600 with 1 Axes>"
      ]
     },
     "metadata": {},
     "output_type": "display_data"
    }
   ],
   "source": [
    "import matplotlib.pyplot as plt\n",
    "\n",
    "# Metrics for MLE\n",
    "metrics_mle = {\n",
    "    'Accuracy': accuracy,\n",
    "    'Precision': precision,\n",
    "    'Recall': recall,\n",
    "    'F1 Score': f1\n",
    "}\n",
    "\n",
    "# Metrics for MAP\n",
    "metrics_map = {\n",
    "    'Accuracy': accuracy_map,\n",
    "    'Precision': precision_map,\n",
    "    'Recall': recall_map,\n",
    "    'F1 Score': f1_map\n",
    "}\n",
    "\n",
    "# Plotting the metrics\n",
    "labels = list(metrics_mle.keys())\n",
    "mle_values = list(metrics_mle.values())\n",
    "map_values = list(metrics_map.values())\n",
    "\n",
    "x = range(len(labels))\n",
    "\n",
    "plt.figure(figsize=(10, 6))\n",
    "plt.bar(x, mle_values, width=0.4, label='MLE', align='center')\n",
    "plt.bar(x, map_values, width=0.4, label='MAP', align='edge')\n",
    "\n",
    "plt.xlabel('Metrics')\n",
    "plt.ylabel('Scores')\n",
    "plt.title('Comparison of MLE and MAP Classifiers')\n",
    "plt.xticks(x, labels)\n",
    "plt.legend()\n",
    "plt.show()"
   ]
  },
  {
   "cell_type": "markdown",
   "metadata": {},
   "source": [
    "1. How did incoporating prior knowledge in MAP affect the prediction?"
   ]
  },
  {
   "cell_type": "markdown",
   "metadata": {},
   "source": [
    "Incorporating prior knowledge in MAP (Maximum A Posteriori) significantly improved the prediction performance compared to MLE (Maximum Likelihood Estimation) which resulted in a more balanced and accurate classifier."
   ]
  },
  {
   "cell_type": "markdown",
   "metadata": {},
   "source": [
    "2. Were there any significant changes in the classification of messages between MLE and\n",
    "MAP?"
   ]
  },
  {
   "cell_type": "markdown",
   "metadata": {},
   "source": [
    "Yes, there were significant changes in the classification of messages between MLE (Maximum Likelihood Estimation) and MAP (Maximum A Posteriori). \n",
    "\n",
    "- **Accuracy**: The accuracy of the MAP classifier (0.9578) is higher than that of the MLE classifier (0.8789).\n",
    "- **Precision**: The precision of the MAP classifier (1.0) is significantly higher than that of the MLE classifier (0.525).\n",
    "- **Recall**: The recall of the MAP classifier (0.6846) is lower than that of the MLE classifier (0.9866), indicating that MLE is more sensitive to detecting spam.\n",
    "- **F1 Score**: The F1 score of the MAP classifier (0.8127) is higher than that of the MLE classifier (0.6853), showing a better balance between precision and recall.\n"
   ]
  },
  {
   "cell_type": "markdown",
   "metadata": {},
   "source": [
    "3. What factors might account for any differences in the performance metrics?"
   ]
  },
  {
   "cell_type": "markdown",
   "metadata": {},
   "source": [
    "\n",
    "Several factors might account for the differences in the performance metrics between MLE (Maximum Likelihood Estimation) and MAP (Maximum A Posteriori):\n",
    "\n",
    "1. **Incorporation of Prior Knowledge**: MAP incorporates prior knowledge or beliefs about the distribution of classes, which can help in making more informed predictions, especially when the training data is limited or imbalanced. MLE, on the other hand, relies solely on the observed data.\n",
    "\n",
    "2. **Handling of Rare Words**: MAP uses Laplace smoothing, which adds a small constant to the word counts to handle rare or unseen words more effectively. This prevents the probabilities from becoming zero, which can significantly impact the classification performance.\n",
    "\n",
    "3. **Class Imbalance**: The dataset might have an imbalance between the number of spam and ham messages. MAP can adjust for this imbalance by incorporating prior probabilities, leading to more balanced performance metrics.\n",
    "\n",
    "4. **Overfitting**: MLE might overfit the training data by focusing too much on the observed frequencies, while MAP, with its prior knowledge, can generalize better to unseen data.\n",
    "\n",
    "5. **Noise in Data**: MAP can be more robust to noise in the data due to the smoothing effect and the incorporation of prior knowledge, leading to more stable and reliable performance metrics.\n"
   ]
  },
  {
   "cell_type": "markdown",
   "metadata": {},
   "source": []
  },
  {
   "cell_type": "markdown",
   "metadata": {},
   "source": [
    "## Vary the Prior (MAP)"
   ]
  },
  {
   "cell_type": "code",
   "execution_count": 51,
   "metadata": {},
   "outputs": [
    {
     "data": {
      "image/png": "[encoded data removed]",
      "text/plain": [
       "<Figure size 1200x800 with 1 Axes>"
      ]
     },
     "metadata": {},
     "output_type": "display_data"
    }
   ],
   "source": [
    "import numpy as np\n",
    "\n",
    "import matplotlib.pyplot as plt\n",
    "\n",
    "def calculate_word_probabilities_laplace(alpha, train_df, class_counts_laplace):\n",
    "    word_counts_laplace = defaultdict(lambda: {'spam': 0, 'ham': 0})\n",
    "    for index, row in train_df.iterrows():\n",
    "        label = row['label']\n",
    "        class_counts_laplace[label] += 1\n",
    "        for word in row['processed_message']:\n",
    "            word_counts_laplace[word][label] += 1\n",
    "\n",
    "    word_probabilities_laplace = defaultdict(lambda: {'spam': 0, 'ham': 0})\n",
    "    vocab_size = len(word_counts_laplace)\n",
    "\n",
    "    for word, counts in word_counts_laplace.items():\n",
    "        word_probabilities_laplace[word]['spam'] = (counts['spam'] + alpha) / (class_counts_laplace['spam'] + alpha * vocab_size)\n",
    "        word_probabilities_laplace[word]['ham'] = (counts['ham'] + alpha) / (class_counts_laplace['ham'] + alpha * vocab_size)\n",
    "\n",
    "    return word_probabilities_laplace\n",
    "\n",
    "def evaluate_classifier(alpha, train_df, test_df, class_counts_laplace):\n",
    "    word_probabilities_laplace = calculate_word_probabilities_laplace(alpha, train_df, class_counts_laplace)\n",
    "    predicted_labels_map = classify_messages(test_df['message'].values, word_probabilities_laplace, class_counts_laplace)\n",
    "\n",
    "    accuracy_map = accuracy_score(true_labels, predicted_labels_map)\n",
    "    precision_map = precision_score(true_labels, predicted_labels_map, pos_label='spam')\n",
    "    recall_map = recall_score(true_labels, predicted_labels_map, pos_label='spam')\n",
    "    f1_map = f1_score(true_labels, predicted_labels_map, pos_label='spam')\n",
    "\n",
    "    return accuracy_map, precision_map, recall_map, f1_map\n",
    "\n",
    "alphas = [0.1, 0.5, 1, 5]\n",
    "results = {}\n",
    "\n",
    "for alpha in alphas:\n",
    "    accuracy_map, precision_map, recall_map, f1_map = evaluate_classifier(alpha, train_df, test_df, class_counts_laplace.copy())\n",
    "    results[alpha] = {\n",
    "        'Accuracy': accuracy_map,\n",
    "        'Precision': precision_map,\n",
    "        'Recall': recall_map,\n",
    "        'F1 Score': f1_map\n",
    "    }\n",
    "\n",
    "# Plotting the results for different alpha values\n",
    "labels = list(results[alphas[0]].keys())\n",
    "x = np.arange(len(labels))\n",
    "width = 0.2\n",
    "\n",
    "fig, ax = plt.subplots(figsize=(12, 8))\n",
    "\n",
    "for i, alpha in enumerate(alphas):\n",
    "    metrics = list(results[alpha].values())\n",
    "    ax.bar(x + i * width, metrics, width, label=f'Alpha {alpha}')\n",
    "\n",
    "ax.set_xlabel('Metrics')\n",
    "ax.set_ylabel('Scores')\n",
    "ax.set_title('Performance Metrics for Different Alpha Values')\n",
    "ax.set_xticks(x + width * (len(alphas) - 1) / 2)\n",
    "ax.set_xticklabels(labels)\n",
    "ax.legend()\n",
    "ax.grid(True)\n",
    "\n",
    "plt.show()\n"
   ]
  },
  {
   "cell_type": "markdown",
   "metadata": {},
   "source": [
    "## Discussion of Findings:\n",
    "• Summarize your observations regarding the impact of varying the prior on the classification\n",
    "performance"
   ]
  },
  {
   "cell_type": "markdown",
   "metadata": {},
   "source": [
    "Varying the prior (alpha) in the MAP (Maximum A Posteriori) classifier had a noticeable impact on the classification performance. Here are the key observations:\n",
    "\n",
    "1. **Accuracy**: As the value of alpha increased, the accuracy of the classifier generally decreased. This indicates that a higher alpha value, which implies stronger smoothing, might lead to a less accurate model.\n",
    "\n",
    "2. **Precision**: The precision remained high across different alpha values, with the highest precision observed at alpha = 1 and alpha = 5. This suggests that the classifier was very effective at identifying spam messages correctly, even with higher smoothing.\n",
    "\n",
    "3. **Recall**: The recall decreased significantly with increasing alpha values. This indicates that the classifier became less sensitive to detecting spam messages as the smoothing parameter increased.\n",
    "\n",
    "4. **F1 Score**: The F1 score, which balances precision and recall, also decreased with higher alpha values. This suggests that while the classifier maintained high precision, the drop in recall negatively impacted the overall performance.\n",
    "\n",
    "while incorporating prior knowledge through the MAP approach and varying the alpha value can help in handling rare words and avoiding zero probabilities, it is crucial to choose an appropriate alpha value. A very high alpha value can lead to over-smoothing, reducing the model's sensitivity to spam messages and overall performance.\n"
   ]
  },
  {
   "cell_type": "markdown",
   "metadata": {},
   "source": [
    "## REFLECTION"
   ]
  },
  {
   "cell_type": "markdown",
   "metadata": {},
   "source": [
    "### Areas Where One Might Prefer MLE over MAP\n",
    "\n",
    "1. **Lack of Prior Knowledge**: When there is no reliable prior knowledge or belief about the distribution of classes, MLE can be preferred as it relies solely on the observed data.\n",
    "\n",
    "2. **Large Datasets**: In cases where the dataset is large and representative of the underlying distribution, MLE can perform well without the need for incorporating prior knowledge.\n",
    "\n",
    "3. **Simplicity**: MLE is simpler to implement and understand compared to MAP, which requires the selection of appropriate priors and smoothing parameters.\n",
    "\n",
    "4. **Computational Efficiency**: MLE can be computationally more efficient as it does not involve the additional step of incorporating prior probabilities and smoothing.\n",
    "\n",
    "5. **Overfitting Concerns**: In scenarios where overfitting is not a major concern, MLE can be preferred as it directly maximizes the likelihood of the observed data."
   ]
  },
  {
   "cell_type": "markdown",
   "metadata": {},
   "source": [
    "### impact of incorporating prior information into the estimation process."
   ]
  },
  {
   "cell_type": "markdown",
   "metadata": {},
   "source": [
    "Incorporating prior information into the estimation process, as done in the Maximum A Posteriori (MAP) approach, has several impacts on the performance of the classifier:\n",
    "\n",
    "1. **Improved Accuracy**: The MAP classifier generally shows improved accuracy compared to the Maximum Likelihood Estimation (MLE) classifier. For example, in this notebook, the accuracy of the MAP classifier is higher than that of the MLE classifier.\n",
    "\n",
    "2. **Handling of Rare Words**: By incorporating prior information and using techniques like Laplace smoothing, the MAP approach can handle rare or unseen words more effectively. This prevents the probabilities from becoming zero, which can significantly impact the classification performance.\n",
    "\n",
    "3. **Balanced Performance**: The MAP classifier tends to provide a more balanced performance in terms of precision and recall. While MLE might overfit the training data by focusing too much on the observed frequencies, MAP, with its prior knowledge, can generalize better to unseen data.\n",
    "\n",
    "4. **Robustness to Noise**: The MAP approach can be more robust to noise in the data due to the smoothing effect and the incorporation of prior knowledge, leading to more stable and reliable performance metrics.\n",
    "\n",
    "5. **Class Imbalance**: The MAP classifier can adjust for class imbalance by incorporating prior probabilities, leading to more balanced performance metrics.\n"
   ]
  },
  {
   "cell_type": "markdown",
   "metadata": {},
   "source": []
  },
  {
   "cell_type": "markdown",
   "metadata": {},
   "source": [
    "###  how does understanding these differences might be beneficial in real-world applications"
   ]
  },
  {
   "cell_type": "markdown",
   "metadata": {},
   "source": [
    "Understanding the differences between MLE (Maximum Likelihood Estimation) and MAP (Maximum A Posteriori) can be highly beneficial in real-world applications for several reasons:\n",
    "\n",
    "1. **Improved Decision Making**: By understanding the strengths and weaknesses of each method, practitioners can make more informed decisions about which approach to use based on the specific characteristics of their data and the problem they are trying to solve.\n",
    "\n",
    "2. **Handling Imbalanced Data**: In many real-world scenarios, data can be imbalanced. MAP, with its ability to incorporate prior knowledge, can help in adjusting for this imbalance and improving the performance of the classifier.\n",
    "\n",
    "3. **Robustness to Noise**: Real-world data often contains noise and outliers. MAP's use of prior information and smoothing techniques can make the model more robust to such noise, leading to more reliable predictions.\n",
    "\n",
    "4. **Generalization to Unseen Data**: Understanding how MAP can generalize better to unseen data due to its incorporation of prior knowledge can help in building models that perform well not just on the training data but also on new, unseen data.\n",
    "\n",
    "5. **Customization and Flexibility**: Knowing the impact of different priors and smoothing parameters allows practitioners to customize their models to better fit their specific needs and constraints, leading to more flexible and adaptable solutions.\n"
   ]
  }
 ],
 "metadata": {
  "kernelspec": {
   "display_name": "EnvMaths",
   "language": "python",
   "name": "python3"
  },
  "language_info": {
   "codemirror_mode": {
    "name": "ipython",
    "version": 3
   },
   "file_extension": ".py",
   "mimetype": "text/x-python",
   "name": "python",
   "nbconvert_exporter": "python",
   "pygments_lexer": "ipython3",
   "version": "3.12.3"
  }
 },
 "nbformat": 4,
 "nbformat_minor": 2
}
