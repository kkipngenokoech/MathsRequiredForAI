{
 "cells": [
  {
   "cell_type": "markdown",
   "metadata": {},
   "source": [
    "Use a dynamic simulation to vary the sample sizes n ∈ [100, 1000, step = 50] and click-through rates c ∈ [50, 600, step =\n",
    "10] for Versions A and B. Observe how the p-value and hypothesis test decision change as you modify these parameters.\""
   ]
  },
  {
   "cell_type": "code",
   "execution_count": 2,
   "metadata": {},
   "outputs": [
    {
     "data": {
      "application/vnd.jupyter.widget-view+json": {
       "model_id": "f4a2a0cdc14047a283b9ba6f34f6c293",
       "version_major": 2,
       "version_minor": 0
      },
      "text/plain": [
       "VBox(children=(IntSlider(value=100, description='Sample Size (n)', max=1000, min=100, step=50), IntSlider(valu…"
      ]
     },
     "metadata": {},
     "output_type": "display_data"
    },
    {
     "data": {
      "application/vnd.jupyter.widget-view+json": {
       "model_id": "39da14b2ea5a4e2f866ff730baad0558",
       "version_major": 2,
       "version_minor": 0
      },
      "text/plain": [
       "Output()"
      ]
     },
     "metadata": {},
     "output_type": "display_data"
    }
   ],
   "source": [
    "import numpy as np\n",
    "import ipywidgets as widgets\n",
    "from IPython.display import display\n",
    "\n",
    "import scipy.stats as stats\n",
    "import matplotlib.pyplot as plt\n",
    "\n",
    "# Function to perform the hypothesis test and plot the results\n",
    "def update_plot(n, c):\n",
    "    # Generate random data for Versions A and B\n",
    "    np.random.seed(0)\n",
    "    version_a = np.random.binomial(1, c/1000, n)\n",
    "    version_b = np.random.binomial(1, c/1000, n)\n",
    "    \n",
    "    # Perform t-test\n",
    "    t_stat, p_value = stats.ttest_ind(version_a, version_b)\n",
    "    \n",
    "    # Clear the previous output\n",
    "    out.clear_output()\n",
    "    \n",
    "    with out:\n",
    "        # Print the results\n",
    "        print(f\"Sample Size: {n}, Click-Through Rate: {c}\")\n",
    "        print(f\"T-Statistic: {t_stat}, P-Value: {p_value}\")\n",
    "        if p_value < 0.05:\n",
    "            print(\"Reject the null hypothesis (significant difference).\")\n",
    "        else:\n",
    "            print(\"Fail to reject the null hypothesis (no significant difference).\")\n",
    "        \n",
    "        # Plot the data\n",
    "        plt.figure(figsize=(10, 5))\n",
    "        plt.hist(version_a, alpha=0.5, label='Version A')\n",
    "        plt.hist(version_b, alpha=0.5, label='Version B')\n",
    "        plt.legend(loc='upper right')\n",
    "        plt.title('Histogram of Click-Through Rates')\n",
    "        plt.xlabel('Click')\n",
    "        plt.ylabel('Frequency')\n",
    "        plt.show()\n",
    "\n",
    "# Create the interactive widgets\n",
    "n_slider = widgets.IntSlider(value=100, description='Sample Size (n)', min=100, max=1000, step=50)\n",
    "c_slider = widgets.IntSlider(value=50, description='Click-Through Rate (c)', min=50, max=600, step=10)\n",
    "ui = widgets.VBox([n_slider, c_slider])\n",
    "out = widgets.Output()\n",
    "\n",
    "# Link the widgets to the update function\n",
    "widgets.interactive_output(update_plot, {'n': n_slider, 'c': c_slider})\n",
    "\n",
    "# Display the widgets and output\n",
    "display(ui, out)"
   ]
  },
  {
   "cell_type": "code",
   "execution_count": null,
   "metadata": {},
   "outputs": [],
   "source": []
  }
 ],
 "metadata": {
  "kernelspec": {
   "display_name": "EnvMaths",
   "language": "python",
   "name": "python3"
  },
  "language_info": {
   "codemirror_mode": {
    "name": "ipython",
    "version": 3
   },
   "file_extension": ".py",
   "mimetype": "text/x-python",
   "name": "python",
   "nbconvert_exporter": "python",
   "pygments_lexer": "ipython3",
   "version": "3.12.3"
  }
 },
 "nbformat": 4,
 "nbformat_minor": 2
}
