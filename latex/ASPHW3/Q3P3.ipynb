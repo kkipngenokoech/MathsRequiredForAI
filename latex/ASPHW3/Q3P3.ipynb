{
 "cells": [
  {
   "cell_type": "markdown",
   "metadata": {},
   "source": [
    "## Part 3: Hypothesis Testing; Comparing Two Webpage Designs (A/B Testing)(19 points)"
   ]
  },
  {
   "cell_type": "markdown",
   "metadata": {},
   "source": [
    "5. (6 points) Use a dynamic simulation to vary the sample sizes n ∈ [100, 1000, step=50] and clickthrough\n",
    "c ∈ [50, 600, step=10] rates for Versions A and B. Observe how the p-value and hypothesis\n",
    "test decision change as you modify these parameters."
   ]
  },
  {
   "cell_type": "code",
   "execution_count": 6,
   "metadata": {},
   "outputs": [
    {
     "data": {
      "application/vnd.jupyter.widget-view+json": {
       "model_id": "e18c7cfb04dd4a88b1edde32d0a752e9",
       "version_major": 2,
       "version_minor": 0
      },
      "text/plain": [
       "interactive(children=(IntSlider(value=100, description='Sample Size:', max=1000, min=100, step=50), IntSlider(…"
      ]
     },
     "execution_count": 6,
     "metadata": {},
     "output_type": "execute_result"
    }
   ],
   "source": [
    "import numpy as np\n",
    "import pandas as pd\n",
    "import ipywidgets as widgets\n",
    "import scipy.stats as stats\n",
    "import matplotlib.pyplot as plt\n",
    "\n",
    "# Function to perform the hypothesis test\n",
    "def perform_hypothesis_test(n, c):\n",
    "    clicks_A = max(n + 5, 0)  # Ensure nonnegative values for clicks_A\n",
    "    clicks_B = max(n - 5, 0)  # Ensure nonnegative values for clicks_B\n",
    "    contingency_table = np.array([[clicks_A, n - clicks_A], [clicks_B, n - clicks_B]])\n",
    "    chi2, p, _, _ = stats.chi2_contingency(contingency_table)\n",
    "    return p\n",
    "\n",
    "# Function to update the plot\n",
    "def update_plot(n, c):\n",
    "    p_value = perform_hypothesis_test(n, c)\n",
    "    plt.figure(figsize=(10, 6))\n",
    "    plt.plot(sample_sizes, [perform_hypothesis_test(size, c) for size in sample_sizes], label='P-Value vs Sample Size')\n",
    "    plt.axhline(y=0.05, color='r', linestyle='--', label='Significance Level (0.05)')\n",
    "    plt.xlabel('Sample Size')\n",
    "    plt.ylabel('P-Value')\n",
    "    plt.title(f'P-Value vs Sample Size for Clickthrough Rate {c}')\n",
    "    plt.legend()\n",
    "    plt.show()\n",
    "    print(f'P-Value for Sample Size {n} and Clickthrough Rate {c}: {p_value}')\n",
    "\n",
    "# Create widgets\n",
    "sample_size_slider = widgets.IntSlider(value=100, min=100, max=1000, step=50, description='Sample Size:')\n",
    "clickthrough_rate_slider = widgets.IntSlider(value=50, min=50, max=600, step=10, description='Clickthrough Rate:')\n",
    "\n",
    "# Display widgets and plot\n",
    "widgets.interactive(update_plot, n=sample_size_slider, c=clickthrough_rate_slider)"
   ]
  },
  {
   "cell_type": "code",
   "execution_count": null,
   "metadata": {},
   "outputs": [],
   "source": []
  }
 ],
 "metadata": {
  "kernelspec": {
   "display_name": "EnvMaths",
   "language": "python",
   "name": "python3"
  },
  "language_info": {
   "codemirror_mode": {
    "name": "ipython",
    "version": 3
   },
   "file_extension": ".py",
   "mimetype": "text/x-python",
   "name": "python",
   "nbconvert_exporter": "python",
   "pygments_lexer": "ipython3",
   "version": "3.12.3"
  }
 },
 "nbformat": 4,
 "nbformat_minor": 2
}
