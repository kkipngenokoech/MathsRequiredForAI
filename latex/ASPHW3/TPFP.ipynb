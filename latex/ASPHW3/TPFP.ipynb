{
 "cells": [
  {
   "cell_type": "code",
   "execution_count": 1,
   "metadata": {},
   "outputs": [
    {
     "data": {
      "application/vnd.jupyter.widget-view+json": {
       "model_id": "f413ef4201e94a7ca772954363f429b6",
       "version_major": 2,
       "version_minor": 0
      },
      "text/plain": [
       "interactive(children=(IntSlider(value=1000, description='Population Size', max=10000, min=100, step=100), Floa…"
      ]
     },
     "metadata": {},
     "output_type": "display_data"
    },
    {
     "data": {
      "text/plain": [
       "<function __main__.update_plot(population_size, true_positive_rate, false_positive_rate)>"
      ]
     },
     "execution_count": 1,
     "metadata": {},
     "output_type": "execute_result"
    }
   ],
   "source": [
    "import numpy as np\n",
    "import ipywidgets as widgets\n",
    "from ipywidgets import interact\n",
    "\n",
    "import matplotlib.pyplot as plt\n",
    "\n",
    "# Function to calculate sensitivity, specificity, PPV, and NPV\n",
    "def calculate_metrics(tp, fp, fn, tn):\n",
    "    sensitivity = tp / (tp + fn) if (tp + fn) > 0 else 0\n",
    "    specificity = tn / (tn + fp) if (tn + fp) > 0 else 0\n",
    "    ppv = tp / (tp + fp) if (tp + fp) > 0 else 0\n",
    "    npv = tn / (tn + fn) if (tn + fn) > 0 else 0\n",
    "    return sensitivity, specificity, ppv, npv\n",
    "\n",
    "# Function to update the plot\n",
    "def update_plot(population_size, true_positive_rate, false_positive_rate):\n",
    "    # Simulate data\n",
    "    tp = int(population_size * true_positive_rate)\n",
    "    fp = int(population_size * false_positive_rate)\n",
    "    fn = population_size - tp\n",
    "    tn = population_size - fp\n",
    "    \n",
    "    # Calculate metrics\n",
    "    sensitivity, specificity, ppv, npv = calculate_metrics(tp, fp, fn, tn)\n",
    "    \n",
    "    # Plot metrics\n",
    "    metrics = ['Sensitivity', 'Specificity', 'PPV', 'NPV']\n",
    "    values = [sensitivity, specificity, ppv, npv]\n",
    "    \n",
    "    plt.figure(figsize=(10, 6))\n",
    "    plt.bar(metrics, values, color=['blue', 'green', 'orange', 'red'])\n",
    "    plt.ylim(0, 1)\n",
    "    plt.ylabel('Value')\n",
    "    plt.title('Metrics Visualization')\n",
    "    plt.show()\n",
    "\n",
    "# Create sliders\n",
    "population_size_slider = widgets.IntSlider(min=100, max=10000, step=100, value=1000, description='Population Size')\n",
    "true_positive_rate_slider = widgets.FloatSlider(min=0, max=1, step=0.01, value=0.1, description='True Positive Rate')\n",
    "false_positive_rate_slider = widgets.FloatSlider(min=0, max=1, step=0.01, value=0.1, description='False Positive Rate')\n",
    "\n",
    "# Use interact to update the plot with sliders\n",
    "interact(update_plot, population_size=population_size_slider, true_positive_rate=true_positive_rate_slider, false_positive_rate=false_positive_rate_slider)"
   ]
  },
  {
   "cell_type": "code",
   "execution_count": 3,
   "metadata": {},
   "outputs": [
    {
     "data": {
      "image/png": "[encoded data removed]",
      "text/plain": [
       "<Figure size 1000x600 with 1 Axes>"
      ]
     },
     "metadata": {},
     "output_type": "display_data"
    }
   ],
   "source": [
    "# Directly call the update_plot function with the current slider values\n",
    "update_plot(population_size_slider.value, true_positive_rate_slider.value, false_positive_rate_slider.value)"
   ]
  },
  {
   "cell_type": "code",
   "execution_count": null,
   "metadata": {},
   "outputs": [],
   "source": []
  }
 ],
 "metadata": {
  "kernelspec": {
   "display_name": "EnvMaths",
   "language": "python",
   "name": "python3"
  },
  "language_info": {
   "codemirror_mode": {
    "name": "ipython",
    "version": 3
   },
   "file_extension": ".py",
   "mimetype": "text/x-python",
   "name": "python",
   "nbconvert_exporter": "python",
   "pygments_lexer": "ipython3",
   "version": "3.12.3"
  }
 },
 "nbformat": 4,
 "nbformat_minor": 2
}
