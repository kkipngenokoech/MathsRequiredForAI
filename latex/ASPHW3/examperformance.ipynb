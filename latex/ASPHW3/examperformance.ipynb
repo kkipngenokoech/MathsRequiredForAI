{
 "cells": [
  {
   "cell_type": "markdown",
   "metadata": {},
   "source": [
    "# STEPS FOR SIMULATION AND ANALYSIS"
   ]
  },
  {
   "cell_type": "markdown",
   "metadata": {},
   "source": [
    "We aim to simulate an examination process where two groups of students are compared: one\n",
    "group uses cheat sheets, and the other does not. We will perform a z-test and adjust parameters\n",
    "interactively to observe their impact."
   ]
  },
  {
   "cell_type": "markdown",
   "metadata": {},
   "source": [
    "## STEP 1\n",
    "\n",
    "The parameters to simulate the exam process are:\n",
    "1. Mean score of students using cheat sheets (μ1): range [85, 95], step size: 1\n",
    "2. Mean score of students not using cheat sheets (μ2): range [80, 90], step size: 1\n",
    "3. Standard deviation of students using cheat sheets (σ1): range [1, 5], step size: 0.1\n",
    "4. Standard deviation of students not using cheat sheets (σ2): range [1, 5], step size: 0.1\n",
    "5. Sample size for both groups (n1, n2): range [20, 200], step size: 10"
   ]
  },
  {
   "cell_type": "code",
   "execution_count": 1,
   "metadata": {},
   "outputs": [
    {
     "name": "stdout",
     "output_type": "stream",
     "text": [
      "Z-statistic: 10.874361055604869, P-value: 1.5481893240300766e-18\n"
     ]
    }
   ],
   "source": [
    "import numpy as np\n",
    "from scipy import stats\n",
    "\n",
    "# Define the parameters\n",
    "mu1_range = np.arange(85, 96, 1)\n",
    "mu2_range = np.arange(80, 91, 1)\n",
    "sigma1_range = np.arange(1, 5.1, 0.1)\n",
    "sigma2_range = np.arange(1, 5.1, 0.1)\n",
    "n_range = np.arange(20, 201, 10)\n",
    "\n",
    "# Example: Simulate for specific values\n",
    "mu1 = 90\n",
    "mu2 = 85\n",
    "sigma1 = 2\n",
    "sigma2 = 3\n",
    "n1 = 50\n",
    "n2 = 50\n",
    "\n",
    "# Generate random samples\n",
    "np.random.seed(0)  # For reproducibility\n",
    "group1_scores = np.random.normal(mu1, sigma1, n1)\n",
    "group2_scores = np.random.normal(mu2, sigma2, n2)\n",
    "\n",
    "# Perform z-test\n",
    "z_stat, p_value = stats.ttest_ind(group1_scores, group2_scores)\n",
    "\n",
    "print(f\"Z-statistic: {z_stat}, P-value: {p_value}\")"
   ]
  },
  {
   "cell_type": "markdown",
   "metadata": {},
   "source": [
    "## Step 2: Calculate Pooled Standard Deviation and Standard Error\n",
    "\n",
    "Using the provided formulas, calculate the pooled standard deviation (Sp) and standard error (SE)\n",
    "for each set of parameter values."
   ]
  },
  {
   "cell_type": "code",
   "execution_count": 2,
   "metadata": {},
   "outputs": [
    {
     "name": "stdout",
     "output_type": "stream",
     "text": [
      "Pooled Standard Deviation (Sp): 2.5495097567963922\n",
      "Standard Error (SE): 0.5099019513592785\n"
     ]
    }
   ],
   "source": [
    "# Calculate pooled standard deviation\n",
    "Sp = np.sqrt(((n1 - 1) * sigma1**2 + (n2 - 1) * sigma2**2) / (n1 + n2 - 2))\n",
    "\n",
    "# Calculate standard error\n",
    "SE = Sp * np.sqrt((1 / n1) + (1 / n2))\n",
    "\n",
    "print(f\"Pooled Standard Deviation (Sp): {Sp}\")\n",
    "print(f\"Standard Error (SE): {SE}\")"
   ]
  },
  {
   "cell_type": "markdown",
   "metadata": {},
   "source": [
    "## Step 3: Perform Z-test\n",
    "For each set of simulated parameters, calculate the z-score as, Compare the z-score to the critical value for a one-tailed test (zcrit = 1.645 for α = 0.05)."
   ]
  },
  {
   "cell_type": "markdown",
   "metadata": {},
   "source": [
    "## Step 4: Compare Z-score to Critical Value\n",
    "\n",
    "For a one-tailed test with a significance level of α = 0.05, the critical value (zcrit) is 1.645. We compare the calculated z-score to this critical value to determine if we reject the null hypothesis.\n",
    "\n",
    "- **Z-score (calculated):** 10.874361055604869\n",
    "- **Critical value (zcrit):** 1.645\n",
    "\n",
    "Since the calculated z-score is greater than the critical value, we reject the null hypothesis. This indicates that there is a statistically significant difference between the two groups.\n"
   ]
  },
  {
   "cell_type": "markdown",
   "metadata": {},
   "source": [
    "## Step 4: Plot Results Using Bar Plots\n",
    "\n",
    "Plot the z-scores and p-values as the parameters vary. Use interactive sliders to dynamically adjust\n",
    "the mean, standard deviation, and sample size."
   ]
  },
  {
   "cell_type": "code",
   "execution_count": 10,
   "metadata": {},
   "outputs": [
    {
     "data": {
      "application/vnd.jupyter.widget-view+json": {
       "model_id": "d1e1176539844819850ce29c6179c925",
       "version_major": 2,
       "version_minor": 0
      },
      "text/plain": [
       "interactive(children=(IntSlider(value=90, description='μ1', max=95, min=85), IntSlider(value=85, description='…"
      ]
     },
     "execution_count": 10,
     "metadata": {},
     "output_type": "execute_result"
    }
   ],
   "source": [
    "import ipywidgets as widgets\n",
    "from IPython.display import display\n",
    "\n",
    "import matplotlib.pyplot as plt\n",
    "\n",
    "# Function to update the plot based on slider values\n",
    "def update_plot(mu1, mu2, sigma1, sigma2, n1, n2):\n",
    "    # Generate random samples\n",
    "    group1_scores = np.random.normal(mu1, sigma1, n1)\n",
    "    group2_scores = np.random.normal(mu2, sigma2, n2)\n",
    "    \n",
    "    # Perform z-test\n",
    "    z_stat, p_value = stats.ttest_ind(group1_scores, group2_scores)\n",
    "    \n",
    "    # Calculate pooled standard deviation\n",
    "    Sp = np.sqrt(((n1 - 1) * sigma1**2 + (n2 - 1) * sigma2**2) / (n1 + n2 - 2))\n",
    "    \n",
    "    # Calculate standard error\n",
    "    SE = Sp * np.sqrt((1 / n1) + (1 / n2))\n",
    "    \n",
    "    # Clear previous plots\n",
    "    plt.clf()\n",
    "    \n",
    "    # Plot z-score and p-value\n",
    "    fig, ax1 = plt.subplots()\n",
    "    \n",
    "    ax1.set_xlabel('Parameters')\n",
    "    ax1.set_ylabel('Z-score', color='tab:blue')\n",
    "    ax1.bar(['Z-score'], [z_stat], color='tab:blue')\n",
    "    ax1.tick_params(axis='y', labelcolor='tab:blue')\n",
    "    \n",
    "    ax2 = ax1.twinx()\n",
    "    ax2.set_ylabel('P-value', color='tab:red')\n",
    "    ax2.bar(['P-value'], [p_value], color='tab:red')\n",
    "    ax2.tick_params(axis='y', labelcolor='tab:red')\n",
    "    \n",
    "    fig.tight_layout()\n",
    "    plt.show()\n",
    "\n",
    "# Create interactive sliders\n",
    "mu1_slider = widgets.IntSlider(value=90, min=85, max=95, step=1, description='μ1')\n",
    "mu2_slider = widgets.IntSlider(value=85, min=80, max=90, step=1, description='μ2')\n",
    "sigma1_slider = widgets.FloatSlider(value=2, min=1, max=5, step=0.1, description='σ1')\n",
    "sigma2_slider = widgets.FloatSlider(value=3, min=1, max=5, step=0.1, description='σ2')\n",
    "n1_slider = widgets.IntSlider(value=50, min=20, max=200, step=10, description='n1')\n",
    "n2_slider = widgets.IntSlider(value=50, min=20, max=200, step=10, description='n2')\n",
    "\n",
    "# Display interactive plot\n",
    "widgets.interactive(update_plot, mu1=mu1_slider, mu2=mu2_slider, sigma1=sigma1_slider, sigma2=sigma2_slider, n1=n1_slider, n2=n2_slider)"
   ]
  },
  {
   "cell_type": "code",
   "execution_count": null,
   "metadata": {},
   "outputs": [],
   "source": []
  }
 ],
 "metadata": {
  "kernelspec": {
   "display_name": "EnvMaths",
   "language": "python",
   "name": "python3"
  },
  "language_info": {
   "codemirror_mode": {
    "name": "ipython",
    "version": 3
   },
   "file_extension": ".py",
   "mimetype": "text/x-python",
   "name": "python",
   "nbconvert_exporter": "python",
   "pygments_lexer": "ipython3",
   "version": "3.12.3"
  }
 },
 "nbformat": 4,
 "nbformat_minor": 2
}
