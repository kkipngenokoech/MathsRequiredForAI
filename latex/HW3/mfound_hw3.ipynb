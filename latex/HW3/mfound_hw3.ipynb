{
 "cells": [
  {
   "cell_type": "code",
   "execution_count": 1,
   "metadata": {},
   "outputs": [],
   "source": [
    "# imports\n",
    "import numpy as np\n",
    "import pandas as pd\n",
    "import matplotlib.pyplot as plt\n",
    "\n",
    "import random\n",
    "\n",
    "from sklearn.model_selection import train_test_split\n",
    "from sklearn.datasets import fetch_olivetti_faces\n",
    "from sklearn.metrics import mean_squared_error"
   ]
  },
  {
   "cell_type": "markdown",
   "metadata": {},
   "source": [
    "# 1. Eigenvalues and Eigenvectors"
   ]
  },
  {
   "cell_type": "code",
   "execution_count": 2,
   "metadata": {},
   "outputs": [],
   "source": [
    "# (4) Using np.linalg.eig, compute the eigenvalues and eigenvectors of A\n",
    "# print your results [print()]\n",
    "# TODO"
   ]
  },
  {
   "cell_type": "markdown",
   "metadata": {},
   "source": [
    "# 2. Principal Component analysis and eigenfaces"
   ]
  },
  {
   "cell_type": "code",
   "execution_count": 3,
   "metadata": {},
   "outputs": [],
   "source": [
    "dataset = fetch_olivetti_faces()\n",
    "\n",
    "persons_faces = []\n",
    "for i in range(40):\n",
    "    faces = []\n",
    "    for j in range(10):\n",
    "        faces += [dataset.images[i*10+j]]\n",
    "    persons_faces += [faces]\n",
    "\n",
    "database = [faces[:-1] for faces in persons_faces[:36]]\n",
    "test_faces = [faces[-1] for faces in persons_faces[:36]]\n",
    "people_not_in_database = [face for faces in persons_faces[36:] for face in faces]"
   ]
  },
  {
   "cell_type": "code",
   "execution_count": 4,
   "metadata": {},
   "outputs": [],
   "source": [
    "# TODO\n",
    "# How many face images are in the database\n",
    "# How many images are in the list of test faces?\n",
    "# How many images of people not in the database are available?\n",
    "# What is the dimension of each face image?"
   ]
  },
  {
   "cell_type": "code",
   "execution_count": null,
   "metadata": {},
   "outputs": [],
   "source": [
    "# display faces from the database of faces -> 9 faces of 5 different people\n",
    "fig, axes = plt.subplots(5, 9, figsize=(10,5))\n",
    "for i in range(5):\n",
    "    for j in range(9):\n",
    "        axes[i,j].imshow(database[i][j], cmap=\"gray\")\n",
    "        axes[i,j].set_xticks([]);\n",
    "        axes[i,j].set_yticks([]);"
   ]
  },
  {
   "cell_type": "code",
   "execution_count": null,
   "metadata": {},
   "outputs": [],
   "source": [
    "# display test faces for the first 5 people in the database\n",
    "fig, axes = plt.subplots(1, 5, figsize=(10,5))\n",
    "for i in range(5):\n",
    "        axes[i].imshow(test_faces[i], cmap=\"gray\")\n",
    "        axes[i].set_xticks([]);\n",
    "        axes[i].set_yticks([]);"
   ]
  },
  {
   "cell_type": "code",
   "execution_count": null,
   "metadata": {},
   "outputs": [],
   "source": [
    "# display faces of 10 people who are not in the database\n",
    "fig, axes = plt.subplots(2, 5, figsize=(10,5))\n",
    "for i in range(10):\n",
    "        j = random.randint(0,39)\n",
    "        axes[i//5 , i%5].imshow(people_not_in_database[j], cmap=\"gray\")\n",
    "        axes[i//5 , i%5].set_xticks([]);\n",
    "        axes[i//5 , i%5].set_yticks([]);"
   ]
  },
  {
   "cell_type": "code",
   "execution_count": 8,
   "metadata": {},
   "outputs": [],
   "source": [
    "# TODO\n",
    "# Create a matrix T containing all faces in the database, such that each row corresponds to \n",
    "# the pixels of a person's face. Note the height of this matrix should be equal to the number of\n",
    "# faces in the database.\n"
   ]
  },
  {
   "cell_type": "code",
   "execution_count": 9,
   "metadata": {},
   "outputs": [],
   "source": [
    "# Obtain the mean face\n",
    "# TODO"
   ]
  },
  {
   "cell_type": "code",
   "execution_count": 10,
   "metadata": {},
   "outputs": [],
   "source": [
    "# Subtract the mean face from all faces in the database\n",
    "# TODO"
   ]
  },
  {
   "cell_type": "code",
   "execution_count": 11,
   "metadata": {},
   "outputs": [],
   "source": [
    "# Obtain the covariance matrix\n",
    "# TODO"
   ]
  },
  {
   "cell_type": "code",
   "execution_count": 12,
   "metadata": {},
   "outputs": [],
   "source": [
    "# obtain the eigenfaces, the eigenfaces are the eigenvectors of the covariance matrix\n",
    "# TODO"
   ]
  },
  {
   "cell_type": "code",
   "execution_count": 13,
   "metadata": {},
   "outputs": [],
   "source": [
    "# Computing the eigenvalues and eigenvectors as done above is computationally expensive\n",
    "# How would you compute the eigenvalues and vectors more efficiently\n",
    "# TODO"
   ]
  },
  {
   "cell_type": "code",
   "execution_count": 14,
   "metadata": {},
   "outputs": [],
   "source": [
    "# Display the eigenface that captures the most variance in the faces in the database\n",
    "# compared that obtained using the computationally efficient method and the one obtained from the matrix S\n",
    "# TODO"
   ]
  },
  {
   "cell_type": "code",
   "execution_count": 15,
   "metadata": {},
   "outputs": [],
   "source": [
    "# select the top eigenfaces that just capture 90% of the variance in the database, not below 90%\n",
    "# TODO"
   ]
  },
  {
   "cell_type": "code",
   "execution_count": 16,
   "metadata": {},
   "outputs": [],
   "source": [
    "# The obtained eigenfaces can be used to represent all faces. We can represent each face as a linear combination of the eigenfaces\n",
    "# This means that we can obtain coordinates of faces with respect to the eigenfaces.\n",
    "# obtain the cordinates of the images in the database with respect to the eigenfaces.\n",
    "# Obtain the coordinates of the faces in the eigenfaces subspace\n",
    "# TODO"
   ]
  },
  {
   "cell_type": "code",
   "execution_count": 17,
   "metadata": {},
   "outputs": [],
   "source": [
    "# Now given a new image, you can recognize it as a face similar to those in the database.\n",
    "# To do this, you first project the new face onto the eigenfaces subspace and obtain its coordinates.\n",
    "# Then compare it's distance to the coordinates of the faces in the database.\n",
    "\n",
    "# Design a face recognition system\n",
    "# that is capable of recognizing faces in the database. \n",
    "\n",
    "# [A test face is recognized as being similar to face in the database if the minimum distance between the \n",
    "# test face and all faces in the database is below a threshold]\n",
    "\n",
    "# Identify a threshold such that the accuracy of your system is greater than 80%\n",
    "# TODO\n"
   ]
  },
  {
   "cell_type": "code",
   "execution_count": 18,
   "metadata": {},
   "outputs": [],
   "source": [
    "# Conduct experiments to assess the impact of different parameters and\n",
    "# settings on your face recognition system.\n",
    "# TODO"
   ]
  },
  {
   "cell_type": "markdown",
   "metadata": {},
   "source": [
    "# 3. Image Compression"
   ]
  },
  {
   "cell_type": "code",
   "execution_count": null,
   "metadata": {},
   "outputs": [],
   "source": [
    "img = np.array(plt.imread(\"./04-650.jpg\")[:,:,0], dtype=float)\n",
    "plt.imshow(img, cmap=\"gray\")\n",
    "plt.xticks([]); plt.yticks([]);"
   ]
  },
  {
   "cell_type": "code",
   "execution_count": 20,
   "metadata": {},
   "outputs": [],
   "source": [
    "# Obtain the SVD decomposition of the image\n",
    "# And display the rank-1 matrix for the largest singular value\n",
    "# TODO"
   ]
  },
  {
   "cell_type": "code",
   "execution_count": 21,
   "metadata": {},
   "outputs": [],
   "source": [
    "# Add up the rank-1 matrices for the top 3 singular values and display\n",
    "# your result.\n",
    "# What do you observe?\n",
    "# TODO "
   ]
  },
  {
   "cell_type": "code",
   "execution_count": 22,
   "metadata": {},
   "outputs": [],
   "source": [
    "# Add up the rank-1 matrices for the top 10 singular values and display\n",
    "# your result.\n",
    "# What do you observe?\n",
    "# TODO "
   ]
  },
  {
   "cell_type": "code",
   "execution_count": 23,
   "metadata": {},
   "outputs": [],
   "source": [
    "# What is the dimension of the image?\n",
    "# Assuming 1byte of memory is required to store one element of the image matrix\n",
    "# determine the topk  rank-1 matrices required to represent the image if a compression\n",
    "# ratio of 13:1 is desired.\n",
    "# TODO"
   ]
  },
  {
   "cell_type": "markdown",
   "metadata": {},
   "source": [
    "# 4. Linear Regression"
   ]
  },
  {
   "cell_type": "code",
   "execution_count": null,
   "metadata": {},
   "outputs": [],
   "source": [
    "class LinearRegressorSVD():\n",
    "    def __init__(self, A, b):\n",
    "        ## Remember the equation Ax = b, where A is input data, our goal is to solve for the coeficients x\n",
    "        b = np.array(b).reshape((len(b),1))\n",
    "        self.A = A\n",
    "        self.b = b\n",
    "        # Setting an initial value for the coefficients matrix\n",
    "        self.coefficients = np.empty((A.shape[1]))\n",
    "        \n",
    "    def train(self):\n",
    "        \"Computes the coefficients based on the dataset received by the model\"\n",
    "        #TODO: Train the model based on the data passed using SVD \n",
    "        \n",
    "    def predict(self, input):\n",
    "        \"Returns a prediction based on the learnt model and using the parameter passed\"\n",
    "        #TODO: Returns the prediction based on the learnt coefficient\n",
    "        \n",
    "\n",
    "    def getError(self, preds, targets):\n",
    "        # TODO compute and return the mean squared error of predicted inputs and actual label\n",
    "       \n",
    "    \n"
   ]
  },
  {
   "cell_type": "code",
   "execution_count": null,
   "metadata": {},
   "outputs": [],
   "source": [
    "\n",
    "\n",
    "dataset = pd.read_csv('housing.csv', header=None)\n",
    "\n",
    "# In our dataset, the last column represent the y value that we are looking for.\n",
    "# Separate the X from the y\n",
    "\n",
    "# Retrieve the features into the X array, and the output to the y array\n",
    "X = dataset[[0,1,2]].to_numpy()\n",
    "y = dataset[3].to_numpy()\n",
    "\n",
    "# Data processing.\n",
    "# By analyzing the dataset, we realize that our y values are in the order of 100,000. This can lead to numerical instability\n",
    "# so we first scale it. Note that our model will predict result that we will need to scale back in reallife.\n",
    "y =  y/100000\n",
    "\n",
    "# Looking at the values in the features as well, their multiplication can also lead to numerical instability.\n",
    "# In this case, we will apply what is called a min-max normalization. Read about it here https://en.wikipedia.org/wiki/Feature_scaling#Rescaling_(min-max_normalization)\n",
    "\n",
    "#TODO: Apply min-max normalization on each of the columns of the X array\n",
    "\n",
    "# In real-life training a model requires a training and testing dataset.\n",
    "# In this stage, we will randomly generate the two datasets using 80% for the training dataset\n",
    "# and 20% for the testing dataset. We use the train_test_split function for this\n",
    "\n",
    "X_train, X_test, y_train, y_test = train_test_split(X, y, test_size=0.2, random_state=32)\n",
    "\n",
    "# Now that we have our datasets ready, we can start with the training process\n",
    "\n",
    "lr = LinearRegressorSVD(X_train, y_train)\n",
    "# TODO train the model\n",
    "\n",
    "##TODO print the mean square error for both training data\n",
    "\n",
    "# Now we can test our model\n",
    "#TODO: Make a prediction using the test dataset\n",
    "\n",
    "# Visualization\n",
    "#TODO: Create three plots. Using the test dataset, do a scatter plot of the i-th feature (X_i) against the true value y.\n",
    "#Your code goes here\n",
    "\n",
    "#TODO: Make a scattered plot of the predicted values, on the same figure, plot the actuall values.\n"
   ]
  }
 ],
 "metadata": {
  "kernelspec": {
   "display_name": "base",
   "language": "python",
   "name": "python3"
  },
  "language_info": {
   "codemirror_mode": {
    "name": "ipython",
    "version": 3
   },
   "file_extension": ".py",
   "mimetype": "text/x-python",
   "name": "python",
   "nbconvert_exporter": "python",
   "pygments_lexer": "ipython3",
   "version": "3.11.4"
  }
 },
 "nbformat": 4,
 "nbformat_minor": 2
}
