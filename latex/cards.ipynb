{
 "cells": [
  {
   "cell_type": "code",
   "execution_count": 5,
   "metadata": {},
   "outputs": [],
   "source": [
    "import random\n",
    "import matplotlib.pyplot as plt"
   ]
  },
  {
   "cell_type": "code",
   "execution_count": 8,
   "metadata": {},
   "outputs": [
    {
     "data": {
      "text/plain": [
       "J Spades, 4 Spades, 5 Spades, 9 Spades, 3 Clubs, 8 Spades, 4 Clubs, 7 Diamonds, 4 Hearts, A Diamonds, 8 Hearts, Q Hearts, 6 Clubs, 2 Hearts, 9 Clubs, K Hearts, 8 Diamonds, 5 Diamonds, 3 Spades, Q Clubs, 6 Diamonds, J Hearts, 6 Spades, K Diamonds, 6 Hearts, 5 Hearts, 9 Hearts, J Clubs, 2 Clubs, 7 Spades, 8 Clubs, 2 Diamonds, 3 Diamonds, 10 Clubs, K Clubs, K Spades, 2 Spades, 4 Diamonds, Q Diamonds, J Diamonds, 10 Diamonds, 3 Hearts, 7 Hearts, A Clubs, Q Spades, 5 Clubs, 10 Hearts, 10 Spades, 9 Diamonds, A Hearts, 7 Clubs, A Spades"
      ]
     },
     "execution_count": 8,
     "metadata": {},
     "output_type": "execute_result"
    }
   ],
   "source": [
    "class DeckCard:\n",
    "    shapes = [ \"Hearts\", \"Diamonds\", \"Clubs\", \"Spades\" ]\n",
    "    numbers = [ \"A\", \"2\", \"3\", \"4\", \"5\", \"6\", \"7\", \"8\", \"9\", \"10\", \"J\", \"Q\", \"K\" ]\n",
    "    \n",
    "    def __init__(self):\n",
    "        self.cards = [Card(number, shape) for number in DeckCard.numbers for shape in DeckCard.shapes]\n",
    "    \n",
    "    def __str__(self):\n",
    "        return ', '.join(str(card) for card in self.cards)\n",
    "    def __repr__(self):\n",
    "        return self.__str__()\n",
    "    def shuffle(self):\n",
    "        random.shuffle(self.cards)\n",
    "    def draw(self):\n",
    "        return self.cards.pop() if len(self.cards) > 0 else None\n",
    "        \n",
    "class Card:\n",
    "    def __init__(self, number, shape):\n",
    "        self.number = number\n",
    "        self.shape = shape\n",
    "\n",
    "    def __str__(self):\n",
    "        return f\"{self.number} {self.shape}\"\n",
    "    def __repr__(self):\n",
    "        return self.__str__()\n",
    "\n",
    "deck = DeckCard()\n",
    "deck.shuffle()\n",
    "deck\n"
   ]
  },
  {
   "cell_type": "markdown",
   "metadata": {},
   "source": [
    "drawing 10 cards from the deck, without replacement"
   ]
  },
  {
   "cell_type": "code",
   "execution_count": 9,
   "metadata": {},
   "outputs": [
    {
     "data": {
      "text/plain": [
       "[A Spades,\n",
       " 7 Clubs,\n",
       " A Hearts,\n",
       " 9 Diamonds,\n",
       " 10 Spades,\n",
       " 10 Hearts,\n",
       " 5 Clubs,\n",
       " Q Spades,\n",
       " A Clubs,\n",
       " 7 Hearts]"
      ]
     },
     "execution_count": 9,
     "metadata": {},
     "output_type": "execute_result"
    }
   ],
   "source": [
    "drawn_cards = [deck.draw() for _ in range(10) if deck.cards] or print(\"No more cards to draw\")\n",
    "drawn_cards"
   ]
  },
  {
   "cell_type": "markdown",
   "metadata": {},
   "source": [
    "PROBABILITY OF DRAWING A 2 BY SIMULATION"
   ]
  },
  {
   "cell_type": "code",
   "execution_count": 12,
   "metadata": {},
   "outputs": [
    {
     "data": {
      "text/plain": [
       "0.0"
      ]
     },
     "execution_count": 12,
     "metadata": {},
     "output_type": "execute_result"
    }
   ],
   "source": [
    "number_2_cards = [card for card in drawn_cards if card.number == \"2\"]\n",
    "number_2_cards_simulated_probability = len(number_2_cards) / len(drawn_cards)\n",
    "number_2_cards_simulated_probability"
   ]
  },
  {
   "cell_type": "markdown",
   "metadata": {},
   "source": [
    "PROBABILITY OF DRAWING A 2 THEORITICALLY"
   ]
  },
  {
   "cell_type": "code",
   "execution_count": null,
   "metadata": {},
   "outputs": [],
   "source": [
    "number_2_cards_theoretical_probability = 4 / len(deck.cards)"
   ]
  },
  {
   "cell_type": "code",
   "execution_count": 3,
   "metadata": {},
   "outputs": [
    {
     "name": "stdout",
     "output_type": "stream",
     "text": [
      "[8 Clubs, Q Diamonds, 8 Spades, K Diamonds, 6 Hearts, 8 Diamonds, 2 Diamonds, J Clubs, 4 Clubs, J Diamonds]\n",
      "0.07142857142857142\n",
      "0.2857142857142857\n",
      "0.023809523809523808\n",
      "0.09523809523809523\n",
      "0.30952380952380953\n",
      "0.023809523809523808\n"
     ]
    }
   ],
   "source": [
    "\n",
    "'''\n",
    "\n",
    "probability of drawing a card with number 2\n",
    "'''\n",
    "number_2_cards = [card for card in deck.cards if card.number == \"2\"]\n",
    "simulated_2_probability = len(number_2_cards) / len(deck.cards)\n",
    "print(simulated_2_probability)\n",
    "shape_hearts = [card for card in deck.cards if card.shape == \"Hearts\"]\n",
    "simulated_heart_probability = len(shape_hearts) / len(deck.cards)\n",
    "print(simulated_heart_probability)\n",
    "suit_diamonds_3 = [card for card in deck.cards if card.shape == \"Diamonds\" and card.number == \"3\"]\n",
    "simulated_diamonds_of_three_probability = len(suit_diamonds_3) / len(deck.cards)\n",
    "print(simulated_diamonds_of_three_probability)\n",
    "\n",
    "# THEORITICAL PROBABILITY\n",
    "'''\n",
    "probability of drawing a card THEORITICALLY\n",
    "'''\n",
    "numbr_2_cards_theoritical = 4\n",
    "theory_2_probability = numbr_2_cards_theoritical / len(deck.cards)\n",
    "print(theory_2_probability)\n",
    "\n",
    "shape_of_heart_theoritical = 13\n",
    "theory_heart_probability = shape_of_heart_theoritical / len(deck.cards)\n",
    "print(theory_heart_probability)\n",
    "\n",
    "suit_diamonds_3_theoritical = 1\n",
    "theory_diamonds_of_three_probability = suit_diamonds_3_theoritical / len(deck.cards)\n",
    "print(theory_diamonds_of_three_probability)\n",
    "\n",
    "\n"
   ]
  },
  {
   "cell_type": "code",
   "execution_count": null,
   "metadata": {},
   "outputs": [],
   "source": []
  },
  {
   "cell_type": "markdown",
   "metadata": {},
   "source": [
    "COMPARING THE SIMULATED AND THEORITICAL PROBABILITIES"
   ]
  },
  {
   "cell_type": "code",
   "execution_count": 6,
   "metadata": {},
   "outputs": [
    {
     "data": {
      "image/png": "[encoded data removed]",
      "text/plain": [
       "<Figure size 640x480 with 1 Axes>"
      ]
     },
     "metadata": {},
     "output_type": "display_data"
    }
   ],
   "source": [
    "# Data for plotting\n",
    "labels = ['Number 2', 'Hearts', '3 of Diamonds']\n",
    "simulated_probs = [simulated_2_probability, simulated_heart_probability, simulated_diamonds_of_three_probability]\n",
    "theoretical_probs = [theory_2_probability, theory_heart_probability, theory_diamonds_of_three_probability]\n",
    "\n",
    "x = range(len(labels))  # the label locations\n",
    "\n",
    "# Plotting\n",
    "fig, ax = plt.subplots()\n",
    "ax.bar(x, simulated_probs, width=0.4, label='Simulated', align='center')\n",
    "ax.bar(x, theoretical_probs, width=0.4, label='Theoretical', align='edge')\n",
    "\n",
    "# Adding labels and title\n",
    "ax.set_xlabel('Card Type')\n",
    "ax.set_ylabel('Probability')\n",
    "ax.set_title('Comparison of Simulated and Theoretical Probabilities')\n",
    "ax.set_xticks(x)\n",
    "ax.set_xticklabels(labels)\n",
    "ax.legend()\n",
    "\n",
    "# Show plot\n",
    "plt.show()"
   ]
  },
  {
   "cell_type": "code",
   "execution_count": null,
   "metadata": {},
   "outputs": [],
   "source": []
  }
 ],
 "metadata": {
  "kernelspec": {
   "display_name": "EnvMaths",
   "language": "python",
   "name": "python3"
  },
  "language_info": {
   "codemirror_mode": {
    "name": "ipython",
    "version": 3
   },
   "file_extension": ".py",
   "mimetype": "text/x-python",
   "name": "python",
   "nbconvert_exporter": "python",
   "pygments_lexer": "ipython3",
   "version": "3.12.3"
  }
 },
 "nbformat": 4,
 "nbformat_minor": 2
}
