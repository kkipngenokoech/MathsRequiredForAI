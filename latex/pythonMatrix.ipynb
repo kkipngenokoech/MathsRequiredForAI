{
 "cells": [
  {
   "cell_type": "code",
   "execution_count": 2,
   "metadata": {},
   "outputs": [
    {
     "name": "stdout",
     "output_type": "stream",
     "text": [
      "[0.40234563 4.59314954 6.52804218 7.97938038]\n"
     ]
    }
   ],
   "source": [
    "import numpy as np\n",
    "A = np.array([\n",
    "    [1000, 50, 150, 200],\n",
    "    [50, 50, 100, 300],\n",
    "    [100, 150, 200, 100],\n",
    "    [50, 200, 300, 50],\n",
    "    [200, 50, 250, 50],\n",
    "    [300, 50, 50, 200]\n",
    "\n",
    "])\n",
    "\n",
    "b = np.array([2500, 2300, 3000, 2900, 3100, 4300])\n",
    "\n",
    "# Gaussian Elimination (using numpy's solve function)\n",
    "x_gaussian = np.linalg.solve(A.T @ A, A.T @ b)\n",
    "print(x_gaussian)\n"
   ]
  },
  {
   "cell_type": "code",
   "execution_count": null,
   "metadata": {},
   "outputs": [],
   "source": []
  }
 ],
 "metadata": {
  "kernelspec": {
   "display_name": "EnvMaths",
   "language": "python",
   "name": "python3"
  },
  "language_info": {
   "codemirror_mode": {
    "name": "ipython",
    "version": 3
   },
   "file_extension": ".py",
   "mimetype": "text/x-python",
   "name": "python",
   "nbconvert_exporter": "python",
   "pygments_lexer": "ipython3",
   "version": "3.12.3"
  }
 },
 "nbformat": 4,
 "nbformat_minor": 2
}
