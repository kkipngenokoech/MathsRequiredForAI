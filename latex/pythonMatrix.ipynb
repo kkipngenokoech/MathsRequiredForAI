{
 "cells": [
  {
   "cell_type": "code",
   "execution_count": 23,
   "metadata": {},
   "outputs": [
    {
     "name": "stdout",
     "output_type": "stream",
     "text": [
      "The rank of the  matrix A is: 4\n"
     ]
    }
   ],
   "source": [
    "import numpy as np\n",
    "\n",
    "A = np.array([\n",
    "    [100, 50, 150, 200],\n",
    "    [50, 50, 100, 300],\n",
    "    [100, 150, 200, 100],\n",
    "    [50, 200, 300, 50],\n",
    "    [200, 50, 250, 50],\n",
    "    [300, 50, 50, 200]\n",
    "])\n",
    "\n",
    "rank = np.linalg.matrix_rank(A)\n",
    "\n",
    "print(\"The rank of the  matrix A is:\", rank)"
   ]
  },
  {
   "cell_type": "code",
   "execution_count": 22,
   "metadata": {},
   "outputs": [
    {
     "name": "stdout",
     "output_type": "stream",
     "text": [
      "The rank of the  Argumented matrix [A|B] is: 4\n"
     ]
    }
   ],
   "source": [
    "import numpy as np\n",
    "\n",
    "A_b = np.array([\n",
    "    [2, 1, 3, 4, 50],\n",
    "    [1, 1, 2, 6, 46],\n",
    "    [2, 3, 4, 2, 60],\n",
    "    [1, 4, 6, 1, 58],\n",
    "    [4, 1, 5, 1, 62],\n",
    "    [6, 1, 1, 4, 86]\n",
    "])\n",
    "\n",
    "rank = np.linalg.matrix_rank(A_b)\n",
    "\n",
    "\n",
    "print(\"The rank of the  Argumented matrix [A|B] is:\", rank)"
   ]
  },
  {
   "cell_type": "code",
   "execution_count": 28,
   "metadata": {},
   "outputs": [
    {
     "name": "stdout",
     "output_type": "stream",
     "text": [
      "food A: 9.999999999999996\n",
      "food B: 8.000000000000007\n",
      "food C: 1.9999999999999942\n",
      "food D: 4.000000000000002\n"
     ]
    }
   ],
   "source": [
    "b = np.array([2500, 2300, 3000, 2900, 3100, 4300])\n",
    "\n",
    "Pseudo_A = A.T @ A\n",
    "Pseudo_A_inverse = np.linalg.inv(Pseudo_A)\n",
    "x = Pseudo_A_inverse @ A.T @ b\n",
    "print(\"food A:\", x[0])\n",
    "print(\"food B:\", x[1])\n",
    "print(\"food C:\", x[2])\n",
    "print(\"food D:\", x[3])"
   ]
  },
  {
   "cell_type": "code",
   "execution_count": 29,
   "metadata": {},
   "outputs": [
    {
     "name": "stdout",
     "output_type": "stream",
     "text": [
      "from Gaussian Elimination\n",
      "food A: 10\n",
      "food A: 8\n",
      "food A: 2\n",
      "food D: 4\n"
     ]
    }
   ],
   "source": [
    "print(\"from Gaussian Elimination\")\n",
    "print(\"food A:\", 10)\n",
    "print(\"food A:\", 8)\n",
    "print(\"food A:\", 2)\n",
    "print(\"food D:\", 4)\n"
   ]
  }
 ],
 "metadata": {
  "kernelspec": {
   "display_name": "EnvMaths",
   "language": "python",
   "name": "python3"
  },
  "language_info": {
   "codemirror_mode": {
    "name": "ipython",
    "version": 3
   },
   "file_extension": ".py",
   "mimetype": "text/x-python",
   "name": "python",
   "nbconvert_exporter": "python",
   "pygments_lexer": "ipython3",
   "version": "3.12.3"
  }
 },
 "nbformat": 4,
 "nbformat_minor": 2
}
